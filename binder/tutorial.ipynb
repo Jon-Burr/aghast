{
 "cells": [
  {
   "cell_type": "markdown",
   "metadata": {},
   "source": [
    "# Tutorial examples"
   ]
  },
  {
   "cell_type": "markdown",
   "metadata": {},
   "source": [
    "## Conversions\n",
    "\n",
    "The main purpose of aghast is to move aggregated, histogram-like statistics (called \"ghasts\") from one framework to the next. This requires a conversion of high-level domain concepts.\n",
    "\n",
    "Consider the following example: in Numpy, a histogram is simply a 2-tuple of arrays with special meaning—bin contents, then bin edges."
   ]
  },
  {
   "cell_type": "code",
   "execution_count": 1,
   "metadata": {},
   "outputs": [
    {
     "data": {
      "text/plain": [
       "(array([     2,      5,      9,     15,     29,     49,     80,    104,\n",
       "           237,    352,    555,    867,   1447,   2046,   3037,   4562,\n",
       "          6805,   9540,  13529,  18584,  25593,  35000,  46024,  59103,\n",
       "         76492,  96441, 119873, 146159, 177533, 210628, 246316, 283292,\n",
       "        321377, 359314, 393857, 426446, 453031, 474806, 489846, 496646,\n",
       "        497922, 490499, 473200, 453527, 425650, 393297, 358537, 321099,\n",
       "        282519, 246469, 211181, 177550, 147417, 120322,  96592,  76665,\n",
       "         59587,  45776,  34459,  25900,  18876,  13576,   9571,   6662,\n",
       "          4629,   3161,   2069,   1334,    878,    581,    332,    220,\n",
       "           135,     65,     39,     26,     19,     15,      4,      4]),\n",
       " array([-5.   , -4.875, -4.75 , -4.625, -4.5  , -4.375, -4.25 , -4.125,\n",
       "        -4.   , -3.875, -3.75 , -3.625, -3.5  , -3.375, -3.25 , -3.125,\n",
       "        -3.   , -2.875, -2.75 , -2.625, -2.5  , -2.375, -2.25 , -2.125,\n",
       "        -2.   , -1.875, -1.75 , -1.625, -1.5  , -1.375, -1.25 , -1.125,\n",
       "        -1.   , -0.875, -0.75 , -0.625, -0.5  , -0.375, -0.25 , -0.125,\n",
       "         0.   ,  0.125,  0.25 ,  0.375,  0.5  ,  0.625,  0.75 ,  0.875,\n",
       "         1.   ,  1.125,  1.25 ,  1.375,  1.5  ,  1.625,  1.75 ,  1.875,\n",
       "         2.   ,  2.125,  2.25 ,  2.375,  2.5  ,  2.625,  2.75 ,  2.875,\n",
       "         3.   ,  3.125,  3.25 ,  3.375,  3.5  ,  3.625,  3.75 ,  3.875,\n",
       "         4.   ,  4.125,  4.25 ,  4.375,  4.5  ,  4.625,  4.75 ,  4.875,\n",
       "         5.   ]))"
      ]
     },
     "execution_count": 1,
     "metadata": {},
     "output_type": "execute_result"
    }
   ],
   "source": [
    "import numpy\n",
    "\n",
    "numpy_hist = numpy.histogram(numpy.random.normal(0, 1, int(10e6)), bins=80, range=(-5, 5))\n",
    "numpy_hist"
   ]
  },
  {
   "cell_type": "markdown",
   "metadata": {},
   "source": [
    "We convert that into the aghast equivalent (a \"ghast\") with a connector (two-function module: `fromnumpy` and `tonumpy`)."
   ]
  },
  {
   "cell_type": "code",
   "execution_count": 2,
   "metadata": {},
   "outputs": [
    {
     "data": {
      "text/plain": [
       "<Histogram at 0x7f0dc88a9b38>"
      ]
     },
     "execution_count": 2,
     "metadata": {},
     "output_type": "execute_result"
    }
   ],
   "source": [
    "import aghast\n",
    "\n",
    "ghastly_hist = aghast.from_numpy(numpy_hist)\n",
    "ghastly_hist"
   ]
  },
  {
   "cell_type": "markdown",
   "metadata": {},
   "source": [
    "This object is instantiated from a class structure built from simple pieces."
   ]
  },
  {
   "cell_type": "code",
   "execution_count": 3,
   "metadata": {},
   "outputs": [
    {
     "name": "stdout",
     "output_type": "stream",
     "text": [
      "Histogram(\n",
      "  axis=[\n",
      "    Axis(binning=RegularBinning(num=80, interval=RealInterval(low=-5.0, high=5.0)))\n",
      "  ],\n",
      "  counts=\n",
      "    UnweightedCounts(\n",
      "      counts=\n",
      "        InterpretedInlineInt64Buffer(\n",
      "          buffer=\n",
      "              [     2      5      9     15     29     49     80    104    237    352\n",
      "                  555    867   1447   2046   3037   4562   6805   9540  13529  18584\n",
      "                25593  35000  46024  59103  76492  96441 119873 146159 177533 210628\n",
      "               246316 283292 321377 359314 393857 426446 453031 474806 489846 496646\n",
      "               497922 490499 473200 453527 425650 393297 358537 321099 282519 246469\n",
      "               211181 177550 147417 120322  96592  76665  59587  45776  34459  25900\n",
      "                18876  13576   9571   6662   4629   3161   2069   1334    878    581\n",
      "                  332    220    135     65     39     26     19     15      4      4])))\n"
     ]
    }
   ],
   "source": [
    "ghastly_hist.dump()"
   ]
  },
  {
   "cell_type": "markdown",
   "metadata": {},
   "source": [
    "Now it can be converted to a ROOT histogram with another connector."
   ]
  },
  {
   "cell_type": "code",
   "execution_count": 4,
   "metadata": {},
   "outputs": [
    {
     "name": "stdout",
     "output_type": "stream",
     "text": [
      "Welcome to JupyROOT 6.17/01\n"
     ]
    },
    {
     "data": {
      "text/plain": [
       "<ROOT.TH1D object (\"root_hist\") at 0x55555e208ef0>"
      ]
     },
     "execution_count": 4,
     "metadata": {},
     "output_type": "execute_result"
    }
   ],
   "source": [
    "root_hist = aghast.to_root(ghastly_hist, \"root_hist\")\n",
    "root_hist"
   ]
  },
  {
   "cell_type": "code",
   "execution_count": 5,
   "metadata": {},
   "outputs": [
    {
     "data": {
      "image/png": "[encoded data removed]",
      "text/plain": [
       "<IPython.core.display.Image object>"
      ]
     },
     "metadata": {},
     "output_type": "display_data"
    }
   ],
   "source": [
    "import ROOT\n",
    "canvas = ROOT.TCanvas()\n",
    "root_hist.Draw()\n",
    "canvas.Draw()"
   ]
  },
  {
   "cell_type": "markdown",
   "metadata": {},
   "source": [
    "And Pandas with yet another connector."
   ]
  },
  {
   "cell_type": "code",
   "execution_count": 6,
   "metadata": {},
   "outputs": [
    {
     "data": {
      "text/html": [
       "<div>\n",
       "<style scoped>\n",
       "    .dataframe tbody tr th:only-of-type {\n",
       "        vertical-align: middle;\n",
       "    }\n",
       "\n",
       "    .dataframe tbody tr th {\n",
       "        vertical-align: top;\n",
       "    }\n",
       "\n",
       "    .dataframe thead th {\n",
       "        text-align: right;\n",
       "    }\n",
       "</style>\n",
       "<table border=\"1\" class=\"dataframe\">\n",
       "  <thead>\n",
       "    <tr style=\"text-align: right;\">\n",
       "      <th></th>\n",
       "      <th>unweighted</th>\n",
       "    </tr>\n",
       "  </thead>\n",
       "  <tbody>\n",
       "    <tr>\n",
       "      <th>[-5.0, -4.875)</th>\n",
       "      <td>2</td>\n",
       "    </tr>\n",
       "    <tr>\n",
       "      <th>[-4.875, -4.75)</th>\n",
       "      <td>5</td>\n",
       "    </tr>\n",
       "    <tr>\n",
       "      <th>[-4.75, -4.625)</th>\n",
       "      <td>9</td>\n",
       "    </tr>\n",
       "    <tr>\n",
       "      <th>[-4.625, -4.5)</th>\n",
       "      <td>15</td>\n",
       "    </tr>\n",
       "    <tr>\n",
       "      <th>[-4.5, -4.375)</th>\n",
       "      <td>29</td>\n",
       "    </tr>\n",
       "    <tr>\n",
       "      <th>[-4.375, -4.25)</th>\n",
       "      <td>49</td>\n",
       "    </tr>\n",
       "    <tr>\n",
       "      <th>[-4.25, -4.125)</th>\n",
       "      <td>80</td>\n",
       "    </tr>\n",
       "    <tr>\n",
       "      <th>[-4.125, -4.0)</th>\n",
       "      <td>104</td>\n",
       "    </tr>\n",
       "    <tr>\n",
       "      <th>[-4.0, -3.875)</th>\n",
       "      <td>237</td>\n",
       "    </tr>\n",
       "    <tr>\n",
       "      <th>[-3.875, -3.75)</th>\n",
       "      <td>352</td>\n",
       "    </tr>\n",
       "    <tr>\n",
       "      <th>[-3.75, -3.625)</th>\n",
       "      <td>555</td>\n",
       "    </tr>\n",
       "    <tr>\n",
       "      <th>[-3.625, -3.5)</th>\n",
       "      <td>867</td>\n",
       "    </tr>\n",
       "    <tr>\n",
       "      <th>[-3.5, -3.375)</th>\n",
       "      <td>1447</td>\n",
       "    </tr>\n",
       "    <tr>\n",
       "      <th>[-3.375, -3.25)</th>\n",
       "      <td>2046</td>\n",
       "    </tr>\n",
       "    <tr>\n",
       "      <th>[-3.25, -3.125)</th>\n",
       "      <td>3037</td>\n",
       "    </tr>\n",
       "    <tr>\n",
       "      <th>[-3.125, -3.0)</th>\n",
       "      <td>4562</td>\n",
       "    </tr>\n",
       "    <tr>\n",
       "      <th>[-3.0, -2.875)</th>\n",
       "      <td>6805</td>\n",
       "    </tr>\n",
       "    <tr>\n",
       "      <th>[-2.875, -2.75)</th>\n",
       "      <td>9540</td>\n",
       "    </tr>\n",
       "    <tr>\n",
       "      <th>[-2.75, -2.625)</th>\n",
       "      <td>13529</td>\n",
       "    </tr>\n",
       "    <tr>\n",
       "      <th>[-2.625, -2.5)</th>\n",
       "      <td>18584</td>\n",
       "    </tr>\n",
       "    <tr>\n",
       "      <th>[-2.5, -2.375)</th>\n",
       "      <td>25593</td>\n",
       "    </tr>\n",
       "    <tr>\n",
       "      <th>[-2.375, -2.25)</th>\n",
       "      <td>35000</td>\n",
       "    </tr>\n",
       "    <tr>\n",
       "      <th>[-2.25, -2.125)</th>\n",
       "      <td>46024</td>\n",
       "    </tr>\n",
       "    <tr>\n",
       "      <th>[-2.125, -2.0)</th>\n",
       "      <td>59103</td>\n",
       "    </tr>\n",
       "    <tr>\n",
       "      <th>[-2.0, -1.875)</th>\n",
       "      <td>76492</td>\n",
       "    </tr>\n",
       "    <tr>\n",
       "      <th>[-1.875, -1.75)</th>\n",
       "      <td>96441</td>\n",
       "    </tr>\n",
       "    <tr>\n",
       "      <th>[-1.75, -1.625)</th>\n",
       "      <td>119873</td>\n",
       "    </tr>\n",
       "    <tr>\n",
       "      <th>[-1.625, -1.5)</th>\n",
       "      <td>146159</td>\n",
       "    </tr>\n",
       "    <tr>\n",
       "      <th>[-1.5, -1.375)</th>\n",
       "      <td>177533</td>\n",
       "    </tr>\n",
       "    <tr>\n",
       "      <th>[-1.375, -1.25)</th>\n",
       "      <td>210628</td>\n",
       "    </tr>\n",
       "    <tr>\n",
       "      <th>...</th>\n",
       "      <td>...</td>\n",
       "    </tr>\n",
       "    <tr>\n",
       "      <th>[1.25, 1.375)</th>\n",
       "      <td>211181</td>\n",
       "    </tr>\n",
       "    <tr>\n",
       "      <th>[1.375, 1.5)</th>\n",
       "      <td>177550</td>\n",
       "    </tr>\n",
       "    <tr>\n",
       "      <th>[1.5, 1.625)</th>\n",
       "      <td>147417</td>\n",
       "    </tr>\n",
       "    <tr>\n",
       "      <th>[1.625, 1.75)</th>\n",
       "      <td>120322</td>\n",
       "    </tr>\n",
       "    <tr>\n",
       "      <th>[1.75, 1.875)</th>\n",
       "      <td>96592</td>\n",
       "    </tr>\n",
       "    <tr>\n",
       "      <th>[1.875, 2.0)</th>\n",
       "      <td>76665</td>\n",
       "    </tr>\n",
       "    <tr>\n",
       "      <th>[2.0, 2.125)</th>\n",
       "      <td>59587</td>\n",
       "    </tr>\n",
       "    <tr>\n",
       "      <th>[2.125, 2.25)</th>\n",
       "      <td>45776</td>\n",
       "    </tr>\n",
       "    <tr>\n",
       "      <th>[2.25, 2.375)</th>\n",
       "      <td>34459</td>\n",
       "    </tr>\n",
       "    <tr>\n",
       "      <th>[2.375, 2.5)</th>\n",
       "      <td>25900</td>\n",
       "    </tr>\n",
       "    <tr>\n",
       "      <th>[2.5, 2.625)</th>\n",
       "      <td>18876</td>\n",
       "    </tr>\n",
       "    <tr>\n",
       "      <th>[2.625, 2.75)</th>\n",
       "      <td>13576</td>\n",
       "    </tr>\n",
       "    <tr>\n",
       "      <th>[2.75, 2.875)</th>\n",
       "      <td>9571</td>\n",
       "    </tr>\n",
       "    <tr>\n",
       "      <th>[2.875, 3.0)</th>\n",
       "      <td>6662</td>\n",
       "    </tr>\n",
       "    <tr>\n",
       "      <th>[3.0, 3.125)</th>\n",
       "      <td>4629</td>\n",
       "    </tr>\n",
       "    <tr>\n",
       "      <th>[3.125, 3.25)</th>\n",
       "      <td>3161</td>\n",
       "    </tr>\n",
       "    <tr>\n",
       "      <th>[3.25, 3.375)</th>\n",
       "      <td>2069</td>\n",
       "    </tr>\n",
       "    <tr>\n",
       "      <th>[3.375, 3.5)</th>\n",
       "      <td>1334</td>\n",
       "    </tr>\n",
       "    <tr>\n",
       "      <th>[3.5, 3.625)</th>\n",
       "      <td>878</td>\n",
       "    </tr>\n",
       "    <tr>\n",
       "      <th>[3.625, 3.75)</th>\n",
       "      <td>581</td>\n",
       "    </tr>\n",
       "    <tr>\n",
       "      <th>[3.75, 3.875)</th>\n",
       "      <td>332</td>\n",
       "    </tr>\n",
       "    <tr>\n",
       "      <th>[3.875, 4.0)</th>\n",
       "      <td>220</td>\n",
       "    </tr>\n",
       "    <tr>\n",
       "      <th>[4.0, 4.125)</th>\n",
       "      <td>135</td>\n",
       "    </tr>\n",
       "    <tr>\n",
       "      <th>[4.125, 4.25)</th>\n",
       "      <td>65</td>\n",
       "    </tr>\n",
       "    <tr>\n",
       "      <th>[4.25, 4.375)</th>\n",
       "      <td>39</td>\n",
       "    </tr>\n",
       "    <tr>\n",
       "      <th>[4.375, 4.5)</th>\n",
       "      <td>26</td>\n",
       "    </tr>\n",
       "    <tr>\n",
       "      <th>[4.5, 4.625)</th>\n",
       "      <td>19</td>\n",
       "    </tr>\n",
       "    <tr>\n",
       "      <th>[4.625, 4.75)</th>\n",
       "      <td>15</td>\n",
       "    </tr>\n",
       "    <tr>\n",
       "      <th>[4.75, 4.875)</th>\n",
       "      <td>4</td>\n",
       "    </tr>\n",
       "    <tr>\n",
       "      <th>[4.875, 5.0)</th>\n",
       "      <td>4</td>\n",
       "    </tr>\n",
       "  </tbody>\n",
       "</table>\n",
       "<p>80 rows × 1 columns</p>\n",
       "</div>"
      ],
      "text/plain": [
       "                 unweighted\n",
       "[-5.0, -4.875)            2\n",
       "[-4.875, -4.75)           5\n",
       "[-4.75, -4.625)           9\n",
       "[-4.625, -4.5)           15\n",
       "[-4.5, -4.375)           29\n",
       "[-4.375, -4.25)          49\n",
       "[-4.25, -4.125)          80\n",
       "[-4.125, -4.0)          104\n",
       "[-4.0, -3.875)          237\n",
       "[-3.875, -3.75)         352\n",
       "[-3.75, -3.625)         555\n",
       "[-3.625, -3.5)          867\n",
       "[-3.5, -3.375)         1447\n",
       "[-3.375, -3.25)        2046\n",
       "[-3.25, -3.125)        3037\n",
       "[-3.125, -3.0)         4562\n",
       "[-3.0, -2.875)         6805\n",
       "[-2.875, -2.75)        9540\n",
       "[-2.75, -2.625)       13529\n",
       "[-2.625, -2.5)        18584\n",
       "[-2.5, -2.375)        25593\n",
       "[-2.375, -2.25)       35000\n",
       "[-2.25, -2.125)       46024\n",
       "[-2.125, -2.0)        59103\n",
       "[-2.0, -1.875)        76492\n",
       "[-1.875, -1.75)       96441\n",
       "[-1.75, -1.625)      119873\n",
       "[-1.625, -1.5)       146159\n",
       "[-1.5, -1.375)       177533\n",
       "[-1.375, -1.25)      210628\n",
       "...                     ...\n",
       "[1.25, 1.375)        211181\n",
       "[1.375, 1.5)         177550\n",
       "[1.5, 1.625)         147417\n",
       "[1.625, 1.75)        120322\n",
       "[1.75, 1.875)         96592\n",
       "[1.875, 2.0)          76665\n",
       "[2.0, 2.125)          59587\n",
       "[2.125, 2.25)         45776\n",
       "[2.25, 2.375)         34459\n",
       "[2.375, 2.5)          25900\n",
       "[2.5, 2.625)          18876\n",
       "[2.625, 2.75)         13576\n",
       "[2.75, 2.875)          9571\n",
       "[2.875, 3.0)           6662\n",
       "[3.0, 3.125)           4629\n",
       "[3.125, 3.25)          3161\n",
       "[3.25, 3.375)          2069\n",
       "[3.375, 3.5)           1334\n",
       "[3.5, 3.625)            878\n",
       "[3.625, 3.75)           581\n",
       "[3.75, 3.875)           332\n",
       "[3.875, 4.0)            220\n",
       "[4.0, 4.125)            135\n",
       "[4.125, 4.25)            65\n",
       "[4.25, 4.375)            39\n",
       "[4.375, 4.5)             26\n",
       "[4.5, 4.625)             19\n",
       "[4.625, 4.75)            15\n",
       "[4.75, 4.875)             4\n",
       "[4.875, 5.0)              4\n",
       "\n",
       "[80 rows x 1 columns]"
      ]
     },
     "execution_count": 6,
     "metadata": {},
     "output_type": "execute_result"
    }
   ],
   "source": [
    "pandas_hist = aghast.to_pandas(ghastly_hist)\n",
    "pandas_hist"
   ]
  },
  {
   "cell_type": "markdown",
   "metadata": {},
   "source": [
    "## Serialization\n",
    "\n",
    "A ghast is also a [Flatbuffers](http://google.github.io/flatbuffers/) object, which has a [multi-lingual](https://google.github.io/flatbuffers/flatbuffers_support.html), [random-access](https://github.com/mzaks/FlatBuffersSwift/wiki/FlatBuffers-Explained), [small-footprint](http://google.github.io/flatbuffers/md__benchmarks.html) serialization:"
   ]
  },
  {
   "cell_type": "code",
   "execution_count": 7,
   "metadata": {},
   "outputs": [
    {
     "data": {
      "text/plain": [
       "bytearray(b\"\\x04\\x00\\x00\\x00\\x90\\xff\\xff\\xff\\x10\\x00\\x00\\x00\\x00\\x01\\n\\x00\\x10\\x00\\x0c\\x00\\x0b\\x00\\x04\\x00\\n\\x00\\x00\\x00`\\x00\\x00\\x00\\x00\\x00\\x00\\x01\\x04\\x00\\x00\\x00\\x01\\x00\\x00\\x00\\x0c\\x00\\x00\\x00\\x08\\x00\\x0c\\x00\\x0b\\x00\\x04\\x00\\x08\\x00\\x00\\x00\\x10\\x00\\x00\\x00\\x00\\x00\\x00\\x02\\x08\\x00(\\x00\\x1c\\x00\\x04\\x00\\x08\\x00\\x00\\x00\\x00\\x00\\x00\\x00\\x00\\x00\\x14\\xc0\\x00\\x00\\x00\\x00\\x00\\x00\\x14@\\x01\\x00\\x00\\x00\\x00\\x00\\x00\\x00P\\x00\\x00\\x00\\x00\\x00\\x00\\x00\\x00\\x00\\x00\\x00\\x08\\x00\\n\\x00\\t\\x00\\x04\\x00\\x08\\x00\\x00\\x00\\x0c\\x00\\x00\\x00\\x00\\x02\\x06\\x00\\x08\\x00\\x04\\x00\\x06\\x00\\x00\\x00\\x04\\x00\\x00\\x00\\x80\\x02\\x00\\x00\\x02\\x00\\x00\\x00\\x00\\x00\\x00\\x00\\x05\\x00\\x00\\x00\\x00\\x00\\x00\\x00\\t\\x00\\x00\\x00\\x00\\x00\\x00\\x00\\x0f\\x00\\x00\\x00\\x00\\x00\\x00\\x00\\x1d\\x00\\x00\\x00\\x00\\x00\\x00\\x001\\x00\\x00\\x00\\x00\\x00\\x00\\x00P\\x00\\x00\\x00\\x00\\x00\\x00\\x00h\\x00\\x00\\x00\\x00\\x00\\x00\\x00\\xed\\x00\\x00\\x00\\x00\\x00\\x00\\x00`\\x01\\x00\\x00\\x00\\x00\\x00\\x00+\\x02\\x00\\x00\\x00\\x00\\x00\\x00c\\x03\\x00\\x00\\x00\\x00\\x00\\x00\\xa7\\x05\\x00\\x00\\x00\\x00\\x00\\x00\\xfe\\x07\\x00\\x00\\x00\\x00\\x00\\x00\\xdd\\x0b\\x00\\x00\\x00\\x00\\x00\\x00\\xd2\\x11\\x00\\x00\\x00\\x00\\x00\\x00\\x95\\x1a\\x00\\x00\\x00\\x00\\x00\\x00D%\\x00\\x00\\x00\\x00\\x00\\x00\\xd94\\x00\\x00\\x00\\x00\\x00\\x00\\x98H\\x00\\x00\\x00\\x00\\x00\\x00\\xf9c\\x00\\x00\\x00\\x00\\x00\\x00\\xb8\\x88\\x00\\x00\\x00\\x00\\x00\\x00\\xc8\\xb3\\x00\\x00\\x00\\x00\\x00\\x00\\xdf\\xe6\\x00\\x00\\x00\\x00\\x00\\x00\\xcc*\\x01\\x00\\x00\\x00\\x00\\x00\\xb9x\\x01\\x00\\x00\\x00\\x00\\x00A\\xd4\\x01\\x00\\x00\\x00\\x00\\x00\\xef:\\x02\\x00\\x00\\x00\\x00\\x00}\\xb5\\x02\\x00\\x00\\x00\\x00\\x00\\xc46\\x03\\x00\\x00\\x00\\x00\\x00,\\xc2\\x03\\x00\\x00\\x00\\x00\\x00\\x9cR\\x04\\x00\\x00\\x00\\x00\\x00a\\xe7\\x04\\x00\\x00\\x00\\x00\\x00\\x92{\\x05\\x00\\x00\\x00\\x00\\x00\\x81\\x02\\x06\\x00\\x00\\x00\\x00\\x00\\xce\\x81\\x06\\x00\\x00\\x00\\x00\\x00\\xa7\\xe9\\x06\\x00\\x00\\x00\\x00\\x00\\xb6>\\x07\\x00\\x00\\x00\\x00\\x00vy\\x07\\x00\\x00\\x00\\x00\\x00\\x06\\x94\\x07\\x00\\x00\\x00\\x00\\x00\\x02\\x99\\x07\\x00\\x00\\x00\\x00\\x00\\x03|\\x07\\x00\\x00\\x00\\x00\\x00p8\\x07\\x00\\x00\\x00\\x00\\x00\\x97\\xeb\\x06\\x00\\x00\\x00\\x00\\x00\\xb2~\\x06\\x00\\x00\\x00\\x00\\x00Q\\x00\\x06\\x00\\x00\\x00\\x00\\x00\\x89x\\x05\\x00\\x00\\x00\\x00\\x00K\\xe6\\x04\\x00\\x00\\x00\\x00\\x00\\x97O\\x04\\x00\\x00\\x00\\x00\\x00\\xc5\\xc2\\x03\\x00\\x00\\x00\\x00\\x00\\xed8\\x03\\x00\\x00\\x00\\x00\\x00\\x8e\\xb5\\x02\\x00\\x00\\x00\\x00\\x00\\xd9?\\x02\\x00\\x00\\x00\\x00\\x00\\x02\\xd6\\x01\\x00\\x00\\x00\\x00\\x00Py\\x01\\x00\\x00\\x00\\x00\\x00y+\\x01\\x00\\x00\\x00\\x00\\x00\\xc3\\xe8\\x00\\x00\\x00\\x00\\x00\\x00\\xd0\\xb2\\x00\\x00\\x00\\x00\\x00\\x00\\x9b\\x86\\x00\\x00\\x00\\x00\\x00\\x00,e\\x00\\x00\\x00\\x00\\x00\\x00\\xbcI\\x00\\x00\\x00\\x00\\x00\\x00\\x085\\x00\\x00\\x00\\x00\\x00\\x00c%\\x00\\x00\\x00\\x00\\x00\\x00\\x06\\x1a\\x00\\x00\\x00\\x00\\x00\\x00\\x15\\x12\\x00\\x00\\x00\\x00\\x00\\x00Y\\x0c\\x00\\x00\\x00\\x00\\x00\\x00\\x15\\x08\\x00\\x00\\x00\\x00\\x00\\x006\\x05\\x00\\x00\\x00\\x00\\x00\\x00n\\x03\\x00\\x00\\x00\\x00\\x00\\x00E\\x02\\x00\\x00\\x00\\x00\\x00\\x00L\\x01\\x00\\x00\\x00\\x00\\x00\\x00\\xdc\\x00\\x00\\x00\\x00\\x00\\x00\\x00\\x87\\x00\\x00\\x00\\x00\\x00\\x00\\x00A\\x00\\x00\\x00\\x00\\x00\\x00\\x00\\'\\x00\\x00\\x00\\x00\\x00\\x00\\x00\\x1a\\x00\\x00\\x00\\x00\\x00\\x00\\x00\\x13\\x00\\x00\\x00\\x00\\x00\\x00\\x00\\x0f\\x00\\x00\\x00\\x00\\x00\\x00\\x00\\x04\\x00\\x00\\x00\\x00\\x00\\x00\\x00\\x04\\x00\\x00\\x00\\x00\\x00\\x00\\x00\")"
      ]
     },
     "execution_count": 7,
     "metadata": {},
     "output_type": "execute_result"
    }
   ],
   "source": [
    "ghastly_hist.tobuffer()"
   ]
  },
  {
   "cell_type": "code",
   "execution_count": 8,
   "metadata": {},
   "outputs": [
    {
     "name": "stdout",
     "output_type": "stream",
     "text": [
      "Numpy size:  1288\n",
      "ROOT size:   1962\n",
      "Pandas size: 2984\n",
      "Aghast size:  792\n"
     ]
    }
   ],
   "source": [
    "print(\"Numpy size: \", numpy_hist[0].nbytes + numpy_hist[1].nbytes)\n",
    "\n",
    "tmessage = ROOT.TMessage()\n",
    "tmessage.WriteObject(root_hist)\n",
    "print(\"ROOT size:  \", tmessage.Length())\n",
    "\n",
    "import pickle\n",
    "print(\"Pandas size:\", len(pickle.dumps(pandas_hist)))\n",
    "\n",
    "print(\"Aghast size: \", len(ghastly_hist.tobuffer()))"
   ]
  },
  {
   "cell_type": "markdown",
   "metadata": {},
   "source": [
    "Aghast is generally forseen as a memory format, like [Apache Arrow](https://arrow.apache.org), but for statistical aggregations. Like Arrow, it reduces the need to implement $N(N - 1)/2$ conversion functions among $N$ statistical libraries to just $N$ conversion functions. (See the figure on Arrow's website.)"
   ]
  },
  {
   "cell_type": "markdown",
   "metadata": {},
   "source": [
    "## Translation of conventions\n",
    "\n",
    "Aghast also intends to be as close to zero-copy as possible. This means that it must make graceful translations among conventions. Different histogramming libraries handle overflow bins in different ways:"
   ]
  },
  {
   "cell_type": "code",
   "execution_count": 9,
   "metadata": {},
   "outputs": [
    {
     "name": "stdout",
     "output_type": "stream",
     "text": [
      "RegularBinning(\n",
      "  num=80,\n",
      "  interval=RealInterval(low=-5.0, high=5.0),\n",
      "  overflow=RealOverflow(loc_underflow=BinLocation.below1, loc_overflow=BinLocation.above1))\n",
      "Bin contents length: 82\n"
     ]
    }
   ],
   "source": [
    "fromroot = aghast.from_root(root_hist)\n",
    "fromroot.axis[0].binning.dump()\n",
    "print(\"Bin contents length:\", len(fromroot.counts.array))"
   ]
  },
  {
   "cell_type": "code",
   "execution_count": 10,
   "metadata": {},
   "outputs": [
    {
     "name": "stdout",
     "output_type": "stream",
     "text": [
      "RegularBinning(num=80, interval=RealInterval(low=-5.0, high=5.0))\n",
      "Bin contents length: 80\n"
     ]
    }
   ],
   "source": [
    "ghastly_hist.axis[0].binning.dump()\n",
    "print(\"Bin contents length:\", len(ghastly_hist.counts.array))"
   ]
  },
  {
   "cell_type": "markdown",
   "metadata": {},
   "source": [
    "And yet we want to be able to manipulate them as though these differences did not exist."
   ]
  },
  {
   "cell_type": "code",
   "execution_count": 11,
   "metadata": {},
   "outputs": [],
   "source": [
    "sum_hist = fromroot + ghastly_hist"
   ]
  },
  {
   "cell_type": "code",
   "execution_count": 12,
   "metadata": {},
   "outputs": [
    {
     "name": "stdout",
     "output_type": "stream",
     "text": [
      "RegularBinning(\n",
      "  num=80,\n",
      "  interval=RealInterval(low=-5.0, high=5.0),\n",
      "  overflow=RealOverflow(loc_underflow=BinLocation.above1, loc_overflow=BinLocation.above2))\n",
      "Bin contents length: 82\n"
     ]
    }
   ],
   "source": [
    "sum_hist.axis[0].binning.dump()\n",
    "print(\"Bin contents length:\", len(sum_hist.counts.array))"
   ]
  },
  {
   "cell_type": "markdown",
   "metadata": {},
   "source": [
    "The binning structure keeps track of the existence of underflow/overflow bins and where they are located.\n",
    "\n",
    "   * ROOT's convention is to put underflow before the normal bins (`below1`) and overflow after (`above1`), so that the normal bins are effectively 1-indexed.\n",
    "   * Boost.Histogram's convention is to put overflow after the normal bins (`above1`) and underflow after that (`above2`), so that underflow is accessed via `myhist[-1]` in Numpy.\n",
    "   * Numpy histograms don't have underflow/overflow bins.\n",
    "   * Pandas could have `Intervals` that extend to infinity.\n",
    "\n",
    "Aghast accepts all of these, so that it doesn't have to manipulate the bin contents buffer it receives, but knows how to deal with them if it has to combine histograms that follow different conventions."
   ]
  },
  {
   "cell_type": "markdown",
   "metadata": {},
   "source": [
    "## Binning types\n",
    "\n",
    "All the different axis types have an equivalent in aghast (and not all are single-dimensional)."
   ]
  },
  {
   "cell_type": "code",
   "execution_count": 13,
   "metadata": {},
   "outputs": [
    {
     "name": "stdout",
     "output_type": "stream",
     "text": [
      "IntegerBinning(min=5, max=10)\n",
      "RegularBinning(num=100, interval=RealInterval(low=-5.0, high=5.0))\n",
      "HexagonalBinning(qmin=0, qmax=100, rmin=0, rmax=100, coordinates=HexagonalBinning.cube_xy)\n",
      "EdgesBinning(edges=[0.01 0.05 0.1 0.5 1 5 10 50 100])\n",
      "IrregularBinning(\n",
      "  intervals=[\n",
      "    RealInterval(low=0.0, high=5.0),\n",
      "    RealInterval(low=10.0, high=100.0),\n",
      "    RealInterval(low=-10.0, high=10.0)\n",
      "  ],\n",
      "  overlapping_fill=IrregularBinning.all)\n",
      "CategoryBinning(categories=['one', 'two', 'three'])\n",
      "SparseRegularBinning(bins=[5 3 -2 8 -100], bin_width=10.0)\n",
      "FractionBinning(error_method=FractionBinning.clopper_pearson)\n",
      "PredicateBinning(predicates=['signal region', 'control region'])\n",
      "VariationBinning(\n",
      "  variations=[\n",
      "    Variation(assignments=[\n",
      "        Assignment(identifier='x', expression='nominal')\n",
      "      ]),\n",
      "    Variation(\n",
      "      assignments=[\n",
      "        Assignment(identifier='x', expression='nominal + sigma')\n",
      "      ]),\n",
      "    Variation(\n",
      "      assignments=[\n",
      "        Assignment(identifier='x', expression='nominal - sigma')\n",
      "      ])\n",
      "  ])\n"
     ]
    }
   ],
   "source": [
    "aghast.IntegerBinning(5, 10).dump()\n",
    "aghast.RegularBinning(100, aghast.RealInterval(-5, 5)).dump()\n",
    "aghast.HexagonalBinning(0, 100, 0, 100, aghast.HexagonalBinning.cube_xy).dump()\n",
    "aghast.EdgesBinning([0.01, 0.05, 0.1, 0.5, 1, 5, 10, 50, 100]).dump()\n",
    "aghast.IrregularBinning([aghast.RealInterval(0, 5),\n",
    "                         aghast.RealInterval(10, 100),\n",
    "                         aghast.RealInterval(-10, 10)],\n",
    "                       overlapping_fill=aghast.IrregularBinning.all).dump()\n",
    "aghast.CategoryBinning([\"one\", \"two\", \"three\"]).dump()\n",
    "aghast.SparseRegularBinning([5, 3, -2, 8, -100], 10).dump()\n",
    "aghast.FractionBinning(error_method=aghast.FractionBinning.clopper_pearson).dump()\n",
    "aghast.PredicateBinning([\"signal region\", \"control region\"]).dump()\n",
    "aghast.VariationBinning([aghast.Variation([aghast.Assignment(\"x\", \"nominal\")]),\n",
    "                         aghast.Variation([aghast.Assignment(\"x\", \"nominal + sigma\")]),\n",
    "                         aghast.Variation([aghast.Assignment(\"x\", \"nominal - sigma\")])]).dump()"
   ]
  },
  {
   "cell_type": "markdown",
   "metadata": {},
   "source": [
    "The meanings of these binning classes are given in [the specification](https://github.com/diana-hep/aghast/blob/master/specification.adoc#integerbinning), but many of them can be converted into one another, and converting to `CategoryBinning` (strings) often makes the intent clear."
   ]
  },
  {
   "cell_type": "code",
   "execution_count": 14,
   "metadata": {},
   "outputs": [
    {
     "name": "stdout",
     "output_type": "stream",
     "text": [
      "CategoryBinning(categories=['5', '6', '7', '8', '9', '10'])\n",
      "CategoryBinning(\n",
      "  categories=['[-5, -4)', '[-4, -3)', '[-3, -2)', '[-2, -1)', '[-1, 0)', '[0, 1)', '[1, 2)', '[2, 3)', '[3, 4)', '[4, 5)'])\n",
      "CategoryBinning(\n",
      "  categories=['[0.01, 0.05)', '[0.05, 0.1)', '[0.1, 0.5)', '[0.5, 1)', '[1, 5)', '[5, 10)', '[10, 50)', '[50, 100)'])\n",
      "CategoryBinning(categories=['[0, 5)', '[10, 100)', '[-10, 10)'])\n",
      "CategoryBinning(categories=['[50, 60)', '[30, 40)', '[-20, -10)', '[80, 90)', '[-1000, -990)'])\n",
      "CategoryBinning(categories=['pass', 'all'])\n",
      "CategoryBinning(categories=['signal region', 'control region'])\n",
      "CategoryBinning(categories=['x := nominal', 'x := nominal + sigma', 'x := nominal - sigma'])\n"
     ]
    }
   ],
   "source": [
    "aghast.IntegerBinning(5, 10).toCategoryBinning().dump()\n",
    "aghast.RegularBinning(10, aghast.RealInterval(-5, 5)).toCategoryBinning().dump()\n",
    "aghast.EdgesBinning([0.01, 0.05, 0.1, 0.5, 1, 5, 10, 50, 100]).toCategoryBinning().dump()\n",
    "aghast.IrregularBinning([aghast.RealInterval(0, 5),\n",
    "                         aghast.RealInterval(10, 100),\n",
    "                         aghast.RealInterval(-10, 10)],\n",
    "                       overlapping_fill=aghast.IrregularBinning.all).toCategoryBinning().dump()\n",
    "aghast.SparseRegularBinning([5, 3, -2, 8, -100], 10).toCategoryBinning().dump()\n",
    "aghast.FractionBinning(error_method=aghast.FractionBinning.clopper_pearson).toCategoryBinning().dump()\n",
    "aghast.PredicateBinning([\"signal region\", \"control region\"]).toCategoryBinning().dump()\n",
    "aghast.VariationBinning([aghast.Variation([aghast.Assignment(\"x\", \"nominal\")]),\n",
    "                         aghast.Variation([aghast.Assignment(\"x\", \"nominal + sigma\")]),\n",
    "                         aghast.Variation([aghast.Assignment(\"x\", \"nominal - sigma\")])]).toCategoryBinning().dump()"
   ]
  },
  {
   "cell_type": "markdown",
   "metadata": {},
   "source": [
    "This technique can also clear up confusion about overflow bins."
   ]
  },
  {
   "cell_type": "code",
   "execution_count": 15,
   "metadata": {},
   "outputs": [
    {
     "name": "stdout",
     "output_type": "stream",
     "text": [
      "CategoryBinning(\n",
      "  categories=['{nan}', '[-5, -3)', '[-3, -1)', '[-1, 1)', '[1, 3)', '[3, 5)', '[5, +inf]', '[-inf, -5)'])\n"
     ]
    }
   ],
   "source": [
    "aghast.RegularBinning(5, aghast.RealInterval(-5, 5), aghast.RealOverflow(\n",
    "    loc_underflow=aghast.BinLocation.above2,\n",
    "    loc_overflow=aghast.BinLocation.above1,\n",
    "    loc_nanflow=aghast.BinLocation.below1\n",
    "    )).toCategoryBinning().dump()"
   ]
  },
  {
   "cell_type": "markdown",
   "metadata": {},
   "source": [
    "# Fancy binning types\n",
    "\n",
    "You might also be wondering about `FractionBinning`, `PredicateBinning`, and `VariationBinning`.\n",
    "\n",
    "`FractionBinning` is an axis of two bins: #passing and #total, #failing and #total, or #passing and #failing. Adding it to another axis effectively makes an \"efficiency plot.\""
   ]
  },
  {
   "cell_type": "code",
   "execution_count": 16,
   "metadata": {},
   "outputs": [
    {
     "data": {
      "text/html": [
       "<div>\n",
       "<style scoped>\n",
       "    .dataframe tbody tr th:only-of-type {\n",
       "        vertical-align: middle;\n",
       "    }\n",
       "\n",
       "    .dataframe tbody tr th {\n",
       "        vertical-align: top;\n",
       "    }\n",
       "\n",
       "    .dataframe thead th {\n",
       "        text-align: right;\n",
       "    }\n",
       "</style>\n",
       "<table border=\"1\" class=\"dataframe\">\n",
       "  <thead>\n",
       "    <tr style=\"text-align: right;\">\n",
       "      <th></th>\n",
       "      <th></th>\n",
       "      <th>unweighted</th>\n",
       "    </tr>\n",
       "  </thead>\n",
       "  <tbody>\n",
       "    <tr>\n",
       "      <th rowspan=\"10\" valign=\"top\">pass</th>\n",
       "      <th>[-5.0, -4.0)</th>\n",
       "      <td>9</td>\n",
       "    </tr>\n",
       "    <tr>\n",
       "      <th>[-4.0, -3.0)</th>\n",
       "      <td>25</td>\n",
       "    </tr>\n",
       "    <tr>\n",
       "      <th>[-3.0, -2.0)</th>\n",
       "      <td>29</td>\n",
       "    </tr>\n",
       "    <tr>\n",
       "      <th>[-2.0, -1.0)</th>\n",
       "      <td>35</td>\n",
       "    </tr>\n",
       "    <tr>\n",
       "      <th>[-1.0, 0.0)</th>\n",
       "      <td>54</td>\n",
       "    </tr>\n",
       "    <tr>\n",
       "      <th>[0.0, 1.0)</th>\n",
       "      <td>67</td>\n",
       "    </tr>\n",
       "    <tr>\n",
       "      <th>[1.0, 2.0)</th>\n",
       "      <td>60</td>\n",
       "    </tr>\n",
       "    <tr>\n",
       "      <th>[2.0, 3.0)</th>\n",
       "      <td>84</td>\n",
       "    </tr>\n",
       "    <tr>\n",
       "      <th>[3.0, 4.0)</th>\n",
       "      <td>80</td>\n",
       "    </tr>\n",
       "    <tr>\n",
       "      <th>[4.0, 5.0)</th>\n",
       "      <td>94</td>\n",
       "    </tr>\n",
       "    <tr>\n",
       "      <th rowspan=\"10\" valign=\"top\">all</th>\n",
       "      <th>[-5.0, -4.0)</th>\n",
       "      <td>99</td>\n",
       "    </tr>\n",
       "    <tr>\n",
       "      <th>[-4.0, -3.0)</th>\n",
       "      <td>119</td>\n",
       "    </tr>\n",
       "    <tr>\n",
       "      <th>[-3.0, -2.0)</th>\n",
       "      <td>109</td>\n",
       "    </tr>\n",
       "    <tr>\n",
       "      <th>[-2.0, -1.0)</th>\n",
       "      <td>109</td>\n",
       "    </tr>\n",
       "    <tr>\n",
       "      <th>[-1.0, 0.0)</th>\n",
       "      <td>95</td>\n",
       "    </tr>\n",
       "    <tr>\n",
       "      <th>[0.0, 1.0)</th>\n",
       "      <td>104</td>\n",
       "    </tr>\n",
       "    <tr>\n",
       "      <th>[1.0, 2.0)</th>\n",
       "      <td>102</td>\n",
       "    </tr>\n",
       "    <tr>\n",
       "      <th>[2.0, 3.0)</th>\n",
       "      <td>106</td>\n",
       "    </tr>\n",
       "    <tr>\n",
       "      <th>[3.0, 4.0)</th>\n",
       "      <td>112</td>\n",
       "    </tr>\n",
       "    <tr>\n",
       "      <th>[4.0, 5.0)</th>\n",
       "      <td>122</td>\n",
       "    </tr>\n",
       "  </tbody>\n",
       "</table>\n",
       "</div>"
      ],
      "text/plain": [
       "                   unweighted\n",
       "pass [-5.0, -4.0)           9\n",
       "     [-4.0, -3.0)          25\n",
       "     [-3.0, -2.0)          29\n",
       "     [-2.0, -1.0)          35\n",
       "     [-1.0, 0.0)           54\n",
       "     [0.0, 1.0)            67\n",
       "     [1.0, 2.0)            60\n",
       "     [2.0, 3.0)            84\n",
       "     [3.0, 4.0)            80\n",
       "     [4.0, 5.0)            94\n",
       "all  [-5.0, -4.0)          99\n",
       "     [-4.0, -3.0)         119\n",
       "     [-3.0, -2.0)         109\n",
       "     [-2.0, -1.0)         109\n",
       "     [-1.0, 0.0)           95\n",
       "     [0.0, 1.0)           104\n",
       "     [1.0, 2.0)           102\n",
       "     [2.0, 3.0)           106\n",
       "     [3.0, 4.0)           112\n",
       "     [4.0, 5.0)           122"
      ]
     },
     "execution_count": 16,
     "metadata": {},
     "output_type": "execute_result"
    }
   ],
   "source": [
    "h = aghast.Histogram([aghast.Axis(aghast.FractionBinning()),\n",
    "                      aghast.Axis(aghast.RegularBinning(10, aghast.RealInterval(-5, 5)))],\n",
    "                    aghast.UnweightedCounts(\n",
    "                        aghast.InterpretedInlineBuffer.fromarray(\n",
    "                            numpy.array([[  9,  25,  29,  35,  54,  67,  60,  84,  80,  94],\n",
    "                                         [ 99, 119, 109, 109,  95, 104, 102, 106, 112, 122]]))))\n",
    "df = aghast.to_pandas(h)\n",
    "df"
   ]
  },
  {
   "cell_type": "code",
   "execution_count": 17,
   "metadata": {},
   "outputs": [
    {
     "data": {
      "text/html": [
       "<div>\n",
       "<style scoped>\n",
       "    .dataframe tbody tr th:only-of-type {\n",
       "        vertical-align: middle;\n",
       "    }\n",
       "\n",
       "    .dataframe tbody tr th {\n",
       "        vertical-align: top;\n",
       "    }\n",
       "\n",
       "    .dataframe thead tr th {\n",
       "        text-align: left;\n",
       "    }\n",
       "</style>\n",
       "<table border=\"1\" class=\"dataframe\">\n",
       "  <thead>\n",
       "    <tr>\n",
       "      <th></th>\n",
       "      <th colspan=\"2\" halign=\"left\">unweighted</th>\n",
       "    </tr>\n",
       "    <tr>\n",
       "      <th></th>\n",
       "      <th>all</th>\n",
       "      <th>pass</th>\n",
       "    </tr>\n",
       "  </thead>\n",
       "  <tbody>\n",
       "    <tr>\n",
       "      <th>[-5.0, -4.0)</th>\n",
       "      <td>99</td>\n",
       "      <td>9</td>\n",
       "    </tr>\n",
       "    <tr>\n",
       "      <th>[-4.0, -3.0)</th>\n",
       "      <td>119</td>\n",
       "      <td>25</td>\n",
       "    </tr>\n",
       "    <tr>\n",
       "      <th>[-3.0, -2.0)</th>\n",
       "      <td>109</td>\n",
       "      <td>29</td>\n",
       "    </tr>\n",
       "    <tr>\n",
       "      <th>[-2.0, -1.0)</th>\n",
       "      <td>109</td>\n",
       "      <td>35</td>\n",
       "    </tr>\n",
       "    <tr>\n",
       "      <th>[-1.0, 0.0)</th>\n",
       "      <td>95</td>\n",
       "      <td>54</td>\n",
       "    </tr>\n",
       "    <tr>\n",
       "      <th>[0.0, 1.0)</th>\n",
       "      <td>104</td>\n",
       "      <td>67</td>\n",
       "    </tr>\n",
       "    <tr>\n",
       "      <th>[1.0, 2.0)</th>\n",
       "      <td>102</td>\n",
       "      <td>60</td>\n",
       "    </tr>\n",
       "    <tr>\n",
       "      <th>[2.0, 3.0)</th>\n",
       "      <td>106</td>\n",
       "      <td>84</td>\n",
       "    </tr>\n",
       "    <tr>\n",
       "      <th>[3.0, 4.0)</th>\n",
       "      <td>112</td>\n",
       "      <td>80</td>\n",
       "    </tr>\n",
       "    <tr>\n",
       "      <th>[4.0, 5.0)</th>\n",
       "      <td>122</td>\n",
       "      <td>94</td>\n",
       "    </tr>\n",
       "  </tbody>\n",
       "</table>\n",
       "</div>"
      ],
      "text/plain": [
       "             unweighted     \n",
       "                    all pass\n",
       "[-5.0, -4.0)         99    9\n",
       "[-4.0, -3.0)        119   25\n",
       "[-3.0, -2.0)        109   29\n",
       "[-2.0, -1.0)        109   35\n",
       "[-1.0, 0.0)          95   54\n",
       "[0.0, 1.0)          104   67\n",
       "[1.0, 2.0)          102   60\n",
       "[2.0, 3.0)          106   84\n",
       "[3.0, 4.0)          112   80\n",
       "[4.0, 5.0)          122   94"
      ]
     },
     "execution_count": 17,
     "metadata": {},
     "output_type": "execute_result"
    }
   ],
   "source": [
    "df = df.unstack(level=0)\n",
    "df"
   ]
  },
  {
   "cell_type": "code",
   "execution_count": 18,
   "metadata": {},
   "outputs": [
    {
     "data": {
      "text/plain": [
       "[-5.0, -4.0)    0.090909\n",
       "[-4.0, -3.0)    0.210084\n",
       "[-3.0, -2.0)    0.266055\n",
       "[-2.0, -1.0)    0.321101\n",
       "[-1.0, 0.0)     0.568421\n",
       "[0.0, 1.0)      0.644231\n",
       "[1.0, 2.0)      0.588235\n",
       "[2.0, 3.0)      0.792453\n",
       "[3.0, 4.0)      0.714286\n",
       "[4.0, 5.0)      0.770492\n",
       "dtype: float64"
      ]
     },
     "execution_count": 18,
     "metadata": {},
     "output_type": "execute_result"
    }
   ],
   "source": [
    "df[\"unweighted\", \"pass\"] / df[\"unweighted\", \"all\"]"
   ]
  },
  {
   "cell_type": "markdown",
   "metadata": {},
   "source": [
    "`PredicateBinning` means that each bin represents a predicate (if-then rule) in the filling procedure. Aghast doesn't _have_ a filling procedure, but filling-libraries can use this to encode relationships among histograms that a fitting-library can take advantage of, for combined signal-control region fits, for instance. It's possible for those regions to overlap: an input datum might satisfy more than one predicate, and `overlapping_fill` determines which bin(s) were chosen: `first`, `last`, or `all`.\n",
    "\n",
    "`VariationBinning` means that each bin represents a variation of one of the paramters used to calculate the fill-variables. This is used to determine sensitivity to systematic effects, by varying them and re-filling. In this kind of binning, the same input datum enters every bin."
   ]
  },
  {
   "cell_type": "code",
   "execution_count": 19,
   "metadata": {},
   "outputs": [
    {
     "data": {
      "text/html": [
       "<div>\n",
       "<style scoped>\n",
       "    .dataframe tbody tr th:only-of-type {\n",
       "        vertical-align: middle;\n",
       "    }\n",
       "\n",
       "    .dataframe tbody tr th {\n",
       "        vertical-align: top;\n",
       "    }\n",
       "\n",
       "    .dataframe thead th {\n",
       "        text-align: right;\n",
       "    }\n",
       "</style>\n",
       "<table border=\"1\" class=\"dataframe\">\n",
       "  <thead>\n",
       "    <tr style=\"text-align: right;\">\n",
       "      <th></th>\n",
       "      <th></th>\n",
       "      <th>unweighted</th>\n",
       "    </tr>\n",
       "  </thead>\n",
       "  <tbody>\n",
       "    <tr>\n",
       "      <th rowspan=\"10\" valign=\"top\">x := nominal</th>\n",
       "      <th>[-5.0, -4.0)</th>\n",
       "      <td>31</td>\n",
       "    </tr>\n",
       "    <tr>\n",
       "      <th>[-4.0, -3.0)</th>\n",
       "      <td>1309</td>\n",
       "    </tr>\n",
       "    <tr>\n",
       "      <th>[-3.0, -2.0)</th>\n",
       "      <td>21624</td>\n",
       "    </tr>\n",
       "    <tr>\n",
       "      <th>[-2.0, -1.0)</th>\n",
       "      <td>135279</td>\n",
       "    </tr>\n",
       "    <tr>\n",
       "      <th>[-1.0, 0.0)</th>\n",
       "      <td>341683</td>\n",
       "    </tr>\n",
       "    <tr>\n",
       "      <th>[0.0, 1.0)</th>\n",
       "      <td>341761</td>\n",
       "    </tr>\n",
       "    <tr>\n",
       "      <th>[1.0, 2.0)</th>\n",
       "      <td>135675</td>\n",
       "    </tr>\n",
       "    <tr>\n",
       "      <th>[2.0, 3.0)</th>\n",
       "      <td>21334</td>\n",
       "    </tr>\n",
       "    <tr>\n",
       "      <th>[3.0, 4.0)</th>\n",
       "      <td>1273</td>\n",
       "    </tr>\n",
       "    <tr>\n",
       "      <th>[4.0, 5.0)</th>\n",
       "      <td>31</td>\n",
       "    </tr>\n",
       "    <tr>\n",
       "      <th rowspan=\"10\" valign=\"top\">x := nominal + sigma</th>\n",
       "      <th>[-5.0, -4.0)</th>\n",
       "      <td>14</td>\n",
       "    </tr>\n",
       "    <tr>\n",
       "      <th>[-4.0, -3.0)</th>\n",
       "      <td>559</td>\n",
       "    </tr>\n",
       "    <tr>\n",
       "      <th>[-3.0, -2.0)</th>\n",
       "      <td>10814</td>\n",
       "    </tr>\n",
       "    <tr>\n",
       "      <th>[-2.0, -1.0)</th>\n",
       "      <td>84176</td>\n",
       "    </tr>\n",
       "    <tr>\n",
       "      <th>[-1.0, 0.0)</th>\n",
       "      <td>271999</td>\n",
       "    </tr>\n",
       "    <tr>\n",
       "      <th>[0.0, 1.0)</th>\n",
       "      <td>367950</td>\n",
       "    </tr>\n",
       "    <tr>\n",
       "      <th>[1.0, 2.0)</th>\n",
       "      <td>209479</td>\n",
       "    </tr>\n",
       "    <tr>\n",
       "      <th>[2.0, 3.0)</th>\n",
       "      <td>49997</td>\n",
       "    </tr>\n",
       "    <tr>\n",
       "      <th>[3.0, 4.0)</th>\n",
       "      <td>4815</td>\n",
       "    </tr>\n",
       "    <tr>\n",
       "      <th>[4.0, 5.0)</th>\n",
       "      <td>193</td>\n",
       "    </tr>\n",
       "  </tbody>\n",
       "</table>\n",
       "</div>"
      ],
      "text/plain": [
       "                                   unweighted\n",
       "x := nominal         [-5.0, -4.0)          31\n",
       "                     [-4.0, -3.0)        1309\n",
       "                     [-3.0, -2.0)       21624\n",
       "                     [-2.0, -1.0)      135279\n",
       "                     [-1.0, 0.0)       341683\n",
       "                     [0.0, 1.0)        341761\n",
       "                     [1.0, 2.0)        135675\n",
       "                     [2.0, 3.0)         21334\n",
       "                     [3.0, 4.0)          1273\n",
       "                     [4.0, 5.0)            31\n",
       "x := nominal + sigma [-5.0, -4.0)          14\n",
       "                     [-4.0, -3.0)         559\n",
       "                     [-3.0, -2.0)       10814\n",
       "                     [-2.0, -1.0)       84176\n",
       "                     [-1.0, 0.0)       271999\n",
       "                     [0.0, 1.0)        367950\n",
       "                     [1.0, 2.0)        209479\n",
       "                     [2.0, 3.0)         49997\n",
       "                     [3.0, 4.0)          4815\n",
       "                     [4.0, 5.0)           193"
      ]
     },
     "execution_count": 19,
     "metadata": {},
     "output_type": "execute_result"
    }
   ],
   "source": [
    "xdata = numpy.random.normal(0, 1, int(1e6))\n",
    "sigma = numpy.random.uniform(-0.1, 0.8, int(1e6))\n",
    "\n",
    "h = aghast.Histogram([aghast.Axis(aghast.VariationBinning([\n",
    "                         aghast.Variation([aghast.Assignment(\"x\", \"nominal\")]),\n",
    "                         aghast.Variation([aghast.Assignment(\"x\", \"nominal + sigma\")])])),\n",
    "                     aghast.Axis(aghast.RegularBinning(10, aghast.RealInterval(-5, 5)))],\n",
    "                    aghast.UnweightedCounts(\n",
    "                        aghast.InterpretedInlineBuffer.fromarray(\n",
    "                            numpy.concatenate([\n",
    "                                numpy.histogram(xdata, bins=10, range=(-5, 5))[0],\n",
    "                                numpy.histogram(xdata + sigma, bins=10, range=(-5, 5))[0]]))))\n",
    "df = aghast.to_pandas(h)\n",
    "df"
   ]
  },
  {
   "cell_type": "code",
   "execution_count": 20,
   "metadata": {},
   "outputs": [
    {
     "data": {
      "text/html": [
       "<div>\n",
       "<style scoped>\n",
       "    .dataframe tbody tr th:only-of-type {\n",
       "        vertical-align: middle;\n",
       "    }\n",
       "\n",
       "    .dataframe tbody tr th {\n",
       "        vertical-align: top;\n",
       "    }\n",
       "\n",
       "    .dataframe thead tr th {\n",
       "        text-align: left;\n",
       "    }\n",
       "</style>\n",
       "<table border=\"1\" class=\"dataframe\">\n",
       "  <thead>\n",
       "    <tr>\n",
       "      <th></th>\n",
       "      <th colspan=\"2\" halign=\"left\">unweighted</th>\n",
       "    </tr>\n",
       "    <tr>\n",
       "      <th></th>\n",
       "      <th>x := nominal</th>\n",
       "      <th>x := nominal + sigma</th>\n",
       "    </tr>\n",
       "  </thead>\n",
       "  <tbody>\n",
       "    <tr>\n",
       "      <th>[-5.0, -4.0)</th>\n",
       "      <td>31</td>\n",
       "      <td>14</td>\n",
       "    </tr>\n",
       "    <tr>\n",
       "      <th>[-4.0, -3.0)</th>\n",
       "      <td>1309</td>\n",
       "      <td>559</td>\n",
       "    </tr>\n",
       "    <tr>\n",
       "      <th>[-3.0, -2.0)</th>\n",
       "      <td>21624</td>\n",
       "      <td>10814</td>\n",
       "    </tr>\n",
       "    <tr>\n",
       "      <th>[-2.0, -1.0)</th>\n",
       "      <td>135279</td>\n",
       "      <td>84176</td>\n",
       "    </tr>\n",
       "    <tr>\n",
       "      <th>[-1.0, 0.0)</th>\n",
       "      <td>341683</td>\n",
       "      <td>271999</td>\n",
       "    </tr>\n",
       "    <tr>\n",
       "      <th>[0.0, 1.0)</th>\n",
       "      <td>341761</td>\n",
       "      <td>367950</td>\n",
       "    </tr>\n",
       "    <tr>\n",
       "      <th>[1.0, 2.0)</th>\n",
       "      <td>135675</td>\n",
       "      <td>209479</td>\n",
       "    </tr>\n",
       "    <tr>\n",
       "      <th>[2.0, 3.0)</th>\n",
       "      <td>21334</td>\n",
       "      <td>49997</td>\n",
       "    </tr>\n",
       "    <tr>\n",
       "      <th>[3.0, 4.0)</th>\n",
       "      <td>1273</td>\n",
       "      <td>4815</td>\n",
       "    </tr>\n",
       "    <tr>\n",
       "      <th>[4.0, 5.0)</th>\n",
       "      <td>31</td>\n",
       "      <td>193</td>\n",
       "    </tr>\n",
       "  </tbody>\n",
       "</table>\n",
       "</div>"
      ],
      "text/plain": [
       "               unweighted                     \n",
       "             x := nominal x := nominal + sigma\n",
       "[-5.0, -4.0)           31                   14\n",
       "[-4.0, -3.0)         1309                  559\n",
       "[-3.0, -2.0)        21624                10814\n",
       "[-2.0, -1.0)       135279                84176\n",
       "[-1.0, 0.0)        341683               271999\n",
       "[0.0, 1.0)         341761               367950\n",
       "[1.0, 2.0)         135675               209479\n",
       "[2.0, 3.0)          21334                49997\n",
       "[3.0, 4.0)           1273                 4815\n",
       "[4.0, 5.0)             31                  193"
      ]
     },
     "execution_count": 20,
     "metadata": {},
     "output_type": "execute_result"
    }
   ],
   "source": [
    "df.unstack(level=0)"
   ]
  },
  {
   "cell_type": "markdown",
   "metadata": {},
   "source": [
    "## Collections\n",
    "\n",
    "You can gather many objects (histograms, functions, ntuples) into a `Collection`, partly for convenience of encapsulating all of them in one object."
   ]
  },
  {
   "cell_type": "code",
   "execution_count": 21,
   "metadata": {},
   "outputs": [
    {
     "name": "stdout",
     "output_type": "stream",
     "text": [
      "Collection(\n",
      "  objects={\n",
      "    'one': Histogram(\n",
      "      axis=[\n",
      "        Axis(\n",
      "          binning=\n",
      "            RegularBinning(\n",
      "              num=80,\n",
      "              interval=RealInterval(low=-5.0, high=5.0),\n",
      "              overflow=RealOverflow(loc_underflow=BinLocation.below1, loc_overflow=BinLocation.above1)),\n",
      "          statistics=[\n",
      "            Statistics(\n",
      "              moments=[\n",
      "                Moments(sumwxn=InterpretedInlineInt64Buffer(buffer=[1e+07]), n=0),\n",
      "                Moments(sumwxn=InterpretedInlineFloat64Buffer(buffer=[1e+07]), n=0, weightpower=1),\n",
      "                Moments(sumwxn=InterpretedInlineFloat64Buffer(buffer=[1e+07]), n=0, weightpower=2),\n",
      "                Moments(sumwxn=InterpretedInlineFloat64Buffer(buffer=[2468.31]), n=1, weightpower=1),\n",
      "                Moments(\n",
      "                  sumwxn=InterpretedInlineFloat64Buffer(buffer=[1.00118e+07]),\n",
      "                  n=2,\n",
      "                  weightpower=1)\n",
      "              ])\n",
      "          ])\n",
      "      ],\n",
      "      counts=\n",
      "        UnweightedCounts(\n",
      "          counts=\n",
      "            InterpretedInlineFloat64Buffer(\n",
      "              buffer=\n",
      "                  [0.00000e+00 2.00000e+00 5.00000e+00 9.00000e+00 1.50000e+01 2.90000e+01\n",
      "                   4.90000e+01 8.00000e+01 1.04000e+02 2.37000e+02 3.52000e+02 5.55000e+02\n",
      "                   8.67000e+02 1.44700e+03 2.04600e+03 3.03700e+03 4.56200e+03 6.80500e+03\n",
      "                   9.54000e+03 1.35290e+04 1.85840e+04 2.55930e+04 3.50000e+04 4.60240e+04\n",
      "                   5.91030e+04 7.64920e+04 9.64410e+04 1.19873e+05 1.46159e+05 1.77533e+05\n",
      "                   2.10628e+05 2.46316e+05 2.83292e+05 3.21377e+05 3.59314e+05 3.93857e+05\n",
      "                   4.26446e+05 4.53031e+05 4.74806e+05 4.89846e+05 4.96646e+05 4.97922e+05\n",
      "                   4.90499e+05 4.73200e+05 4.53527e+05 4.25650e+05 3.93297e+05 3.58537e+05\n",
      "                   3.21099e+05 2.82519e+05 2.46469e+05 2.11181e+05 1.77550e+05 1.47417e+05\n",
      "                   1.20322e+05 9.65920e+04 7.66650e+04 5.95870e+04 4.57760e+04 3.44590e+04\n",
      "                   2.59000e+04 1.88760e+04 1.35760e+04 9.57100e+03 6.66200e+03 4.62900e+03\n",
      "                   3.16100e+03 2.06900e+03 1.33400e+03 8.78000e+02 5.81000e+02 3.32000e+02\n",
      "                   2.20000e+02 1.35000e+02 6.50000e+01 3.90000e+01 2.60000e+01 1.90000e+01\n",
      "                   1.50000e+01 4.00000e+00 4.00000e+00 0.00000e+00]))),\n",
      "    'two': Histogram(\n",
      "      axis=[\n",
      "        Axis(binning=RegularBinning(num=80, interval=RealInterval(low=-5.0, high=5.0)))\n",
      "      ],\n",
      "      counts=\n",
      "        UnweightedCounts(\n",
      "          counts=\n",
      "            InterpretedInlineInt64Buffer(\n",
      "              buffer=\n",
      "                  [     2      5      9     15     29     49     80    104    237    352\n",
      "                      555    867   1447   2046   3037   4562   6805   9540  13529  18584\n",
      "                    25593  35000  46024  59103  76492  96441 119873 146159 177533 210628\n",
      "                   246316 283292 321377 359314 393857 426446 453031 474806 489846 496646\n",
      "                   497922 490499 473200 453527 425650 393297 358537 321099 282519 246469\n",
      "                   211181 177550 147417 120322  96592  76665  59587  45776  34459  25900\n",
      "                    18876  13576   9571   6662   4629   3161   2069   1334    878    581\n",
      "                      332    220    135     65     39     26     19     15      4      4])))\n",
      "  })\n"
     ]
    }
   ],
   "source": [
    "aghast.Collection({\"one\": fromroot, \"two\": ghastly_hist}).dump()"
   ]
  },
  {
   "cell_type": "markdown",
   "metadata": {},
   "source": [
    "Not only for convenience: [you can also define](https://github.com/diana-hep/aghast/blob/master/specification.adoc#Collection) an `Axis` in the `Collection` to subdivide all contents by that `Axis`. For instance, you can make a collection of qualitatively different histograms all have a signal and control region with `PredicateBinning`, or all have systematic variations with `VariationBinning`.\n",
    "\n",
    "It is not necessary to rely on naming conventions to communicate this information from filler to fitter."
   ]
  },
  {
   "cell_type": "markdown",
   "metadata": {},
   "source": [
    "## Histogram → histogram conversions\n",
    "\n",
    "I said in the introduction that aghast does not fill histograms and does not plot histograms—the two things data analysts are expecting to do. These would be done by user-facing libraries.\n",
    "\n",
    "Aghast does, however, transform histograms into other histograms, and not just among formats. You can combine histograms with `+`. In addition to adding histogram counts, it combines auxiliary statistics appropriately (if possible)."
   ]
  },
  {
   "cell_type": "code",
   "execution_count": 22,
   "metadata": {},
   "outputs": [],
   "source": [
    "h1 = aghast.Histogram([\n",
    "    aghast.Axis(aghast.RegularBinning(10, aghast.RealInterval(-5, 5)),\n",
    "                statistics=[aghast.Statistics(\n",
    "                    moments=[\n",
    "                        aghast.Moments(aghast.InterpretedInlineBuffer.fromarray(numpy.array([10])), n=1),\n",
    "                        aghast.Moments(aghast.InterpretedInlineBuffer.fromarray(numpy.array([20])), n=2)],\n",
    "                    quantiles=[\n",
    "                        aghast.Quantiles(aghast.InterpretedInlineBuffer.fromarray(numpy.array([30])), p=0.5)],\n",
    "                    mode=aghast.Modes(aghast.InterpretedInlineBuffer.fromarray(numpy.array([40]))),\n",
    "                    min=aghast.Extremes(aghast.InterpretedInlineBuffer.fromarray(numpy.array([50]))),\n",
    "                    max=aghast.Extremes(aghast.InterpretedInlineBuffer.fromarray(numpy.array([60]))))])],\n",
    "    aghast.UnweightedCounts(aghast.InterpretedInlineBuffer.fromarray(numpy.arange(10))))\n",
    "h2 = aghast.Histogram([\n",
    "    aghast.Axis(aghast.RegularBinning(10, aghast.RealInterval(-5, 5)),\n",
    "                statistics=[aghast.Statistics(\n",
    "                    moments=[\n",
    "                        aghast.Moments(aghast.InterpretedInlineBuffer.fromarray(numpy.array([100])), n=1),\n",
    "                        aghast.Moments(aghast.InterpretedInlineBuffer.fromarray(numpy.array([200])), n=2)],\n",
    "                    quantiles=[\n",
    "                        aghast.Quantiles(aghast.InterpretedInlineBuffer.fromarray(numpy.array([300])), p=0.5)],\n",
    "                    mode=aghast.Modes(aghast.InterpretedInlineBuffer.fromarray(numpy.array([400]))),\n",
    "                    min=aghast.Extremes(aghast.InterpretedInlineBuffer.fromarray(numpy.array([500]))),\n",
    "                    max=aghast.Extremes(aghast.InterpretedInlineBuffer.fromarray(numpy.array([600]))))])],\n",
    "    aghast.UnweightedCounts(aghast.InterpretedInlineBuffer.fromarray(numpy.arange(100, 200, 10))))"
   ]
  },
  {
   "cell_type": "code",
   "execution_count": 23,
   "metadata": {},
   "outputs": [
    {
     "name": "stdout",
     "output_type": "stream",
     "text": [
      "Histogram(\n",
      "  axis=[\n",
      "    Axis(\n",
      "      binning=RegularBinning(num=10, interval=RealInterval(low=-5.0, high=5.0)),\n",
      "      statistics=[\n",
      "        Statistics(\n",
      "          moments=[\n",
      "            Moments(sumwxn=InterpretedInlineInt64Buffer(buffer=[110]), n=1),\n",
      "            Moments(sumwxn=InterpretedInlineInt64Buffer(buffer=[220]), n=2)\n",
      "          ],\n",
      "          min=Extremes(values=InterpretedInlineInt64Buffer(buffer=[50])),\n",
      "          max=Extremes(values=InterpretedInlineInt64Buffer(buffer=[600])))\n",
      "      ])\n",
      "  ],\n",
      "  counts=\n",
      "    UnweightedCounts(\n",
      "      counts=InterpretedInlineInt64Buffer(buffer=[100 111 122 133 144 155 166 177 188 199])))\n"
     ]
    }
   ],
   "source": [
    "(h1 + h2).dump()"
   ]
  },
  {
   "cell_type": "markdown",
   "metadata": {},
   "source": [
    "The corresponding moments of `h1` and `h2` were matched and added, quantiles and modes were dropped (no way to combine them), and the correct minimum and maximum were picked; the histogram contents were added as well."
   ]
  },
  {
   "cell_type": "markdown",
   "metadata": {},
   "source": [
    "Another important histogram → histogram conversion is axis-reduction, which can take three forms:\n",
    "\n",
    "   * slicing an axis, either dropping the eliminated bins or adding them to underflow/overflow (if possible, depends on binning type);\n",
    "   * rebinning by combining neighboring bins;\n",
    "   * projecting out an axis, removing it entirely, summing over all existing bins.\n",
    "\n",
    "All of these operations use a Pandas-inspired `loc`/`iloc` syntax."
   ]
  },
  {
   "cell_type": "code",
   "execution_count": 24,
   "metadata": {},
   "outputs": [],
   "source": [
    "h = aghast.Histogram(\n",
    "    [aghast.Axis(aghast.RegularBinning(10, aghast.RealInterval(-5, 5)))],\n",
    "    aghast.UnweightedCounts(\n",
    "        aghast.InterpretedInlineBuffer.fromarray(numpy.array([0, 10, 20, 30, 40, 50, 60, 70, 80, 90]))))"
   ]
  },
  {
   "cell_type": "markdown",
   "metadata": {},
   "source": [
    "`loc` slices in the data's coordinate system. `1.5` rounds up to bin index `6`. The first five bins get combined into an overflow bin: `150 = 10 + 20 + 30 + 40 + 50`."
   ]
  },
  {
   "cell_type": "code",
   "execution_count": 25,
   "metadata": {},
   "outputs": [
    {
     "name": "stdout",
     "output_type": "stream",
     "text": [
      "Histogram(\n",
      "  axis=[\n",
      "    Axis(\n",
      "      binning=\n",
      "        RegularBinning(\n",
      "          num=4,\n",
      "          interval=RealInterval(low=1.0, high=5.0),\n",
      "          overflow=\n",
      "            RealOverflow(\n",
      "              loc_underflow=BinLocation.above1,\n",
      "              minf_mapping=RealOverflow.missing,\n",
      "              pinf_mapping=RealOverflow.missing,\n",
      "              nan_mapping=RealOverflow.missing)))\n",
      "  ],\n",
      "  counts=UnweightedCounts(counts=InterpretedInlineInt64Buffer(buffer=[60 70 80 90 150])))\n"
     ]
    }
   ],
   "source": [
    "h.loc[1.5:].dump()"
   ]
  },
  {
   "cell_type": "markdown",
   "metadata": {},
   "source": [
    "`iloc` slices by bin index number."
   ]
  },
  {
   "cell_type": "code",
   "execution_count": 26,
   "metadata": {},
   "outputs": [
    {
     "name": "stdout",
     "output_type": "stream",
     "text": [
      "Histogram(\n",
      "  axis=[\n",
      "    Axis(\n",
      "      binning=\n",
      "        RegularBinning(\n",
      "          num=4,\n",
      "          interval=RealInterval(low=1.0, high=5.0),\n",
      "          overflow=\n",
      "            RealOverflow(\n",
      "              loc_underflow=BinLocation.above1,\n",
      "              minf_mapping=RealOverflow.missing,\n",
      "              pinf_mapping=RealOverflow.missing,\n",
      "              nan_mapping=RealOverflow.missing)))\n",
      "  ],\n",
      "  counts=UnweightedCounts(counts=InterpretedInlineInt64Buffer(buffer=[60 70 80 90 150])))\n"
     ]
    }
   ],
   "source": [
    "h.iloc[6:].dump()"
   ]
  },
  {
   "cell_type": "markdown",
   "metadata": {},
   "source": [
    "Slices have a `start`, `stop`, and `step` (`start:stop:step`). The `step` parameter rebins:"
   ]
  },
  {
   "cell_type": "code",
   "execution_count": 27,
   "metadata": {},
   "outputs": [
    {
     "name": "stdout",
     "output_type": "stream",
     "text": [
      "Histogram(\n",
      "  axis=[\n",
      "    Axis(binning=RegularBinning(num=5, interval=RealInterval(low=-5.0, high=5.0)))\n",
      "  ],\n",
      "  counts=UnweightedCounts(counts=InterpretedInlineInt64Buffer(buffer=[10 50 90 130 170])))\n"
     ]
    }
   ],
   "source": [
    "h.iloc[::2].dump()"
   ]
  },
  {
   "cell_type": "markdown",
   "metadata": {},
   "source": [
    "Thus, you can slice and rebin as part of the same operation."
   ]
  },
  {
   "cell_type": "markdown",
   "metadata": {},
   "source": [
    "Projecting uses the same mechanism, except that `None` passed as an axis's slice projects it."
   ]
  },
  {
   "cell_type": "code",
   "execution_count": 28,
   "metadata": {},
   "outputs": [
    {
     "name": "stdout",
     "output_type": "stream",
     "text": [
      "Histogram(\n",
      "  axis=[\n",
      "    Axis(binning=RegularBinning(num=10, interval=RealInterval(low=-5.0, high=5.0)))\n",
      "  ],\n",
      "  counts=\n",
      "    UnweightedCounts(\n",
      "      counts=InterpretedInlineInt64Buffer(buffer=[45 145 245 345 445 545 645 745 845 945])))\n"
     ]
    }
   ],
   "source": [
    "h2 = aghast.Histogram(\n",
    "    [aghast.Axis(aghast.RegularBinning(10, aghast.RealInterval(-5, 5))),\n",
    "     aghast.Axis(aghast.RegularBinning(10, aghast.RealInterval(-5, 5)))],\n",
    "    aghast.UnweightedCounts(\n",
    "        aghast.InterpretedInlineBuffer.fromarray(numpy.arange(100))))\n",
    "\n",
    "h2.iloc[:, None].dump()"
   ]
  },
  {
   "cell_type": "markdown",
   "metadata": {},
   "source": [
    "Thus, all three axis reduction operations can be performed in a single syntax."
   ]
  },
  {
   "cell_type": "markdown",
   "metadata": {},
   "source": [
    "In general, an n-dimensional ghastly histogram can be sliced like an n-dimensional Numpy array. This includes integer and boolean indexing (though that necessarily changes the binning to `IrregularBinning`)."
   ]
  },
  {
   "cell_type": "code",
   "execution_count": 29,
   "metadata": {},
   "outputs": [
    {
     "name": "stdout",
     "output_type": "stream",
     "text": [
      "Histogram(\n",
      "  axis=[\n",
      "    Axis(\n",
      "      binning=\n",
      "        IrregularBinning(\n",
      "          intervals=[\n",
      "            RealInterval(low=-1.0, high=0.0),\n",
      "            RealInterval(low=-2.0, high=-1.0),\n",
      "            RealInterval(low=1.0, high=2.0),\n",
      "            RealInterval(low=2.0, high=3.0),\n",
      "            RealInterval(low=-4.0, high=-3.0)\n",
      "          ]))\n",
      "  ],\n",
      "  counts=UnweightedCounts(counts=InterpretedInlineInt64Buffer(buffer=[40 30 60 70 10])))\n"
     ]
    }
   ],
   "source": [
    "h.iloc[[4, 3, 6, 7, 1]].dump()"
   ]
  },
  {
   "cell_type": "code",
   "execution_count": 30,
   "metadata": {},
   "outputs": [
    {
     "name": "stdout",
     "output_type": "stream",
     "text": [
      "Histogram(\n",
      "  axis=[\n",
      "    Axis(\n",
      "      binning=\n",
      "        IrregularBinning(\n",
      "          intervals=[\n",
      "            RealInterval(low=-5.0, high=-4.0),\n",
      "            RealInterval(low=-3.0, high=-2.0),\n",
      "            RealInterval(low=-1.0, high=0.0),\n",
      "            RealInterval(low=1.0, high=2.0),\n",
      "            RealInterval(low=3.0, high=4.0)\n",
      "          ]))\n",
      "  ],\n",
      "  counts=UnweightedCounts(counts=InterpretedInlineInt64Buffer(buffer=[0 20 40 60 80])))\n"
     ]
    }
   ],
   "source": [
    "h.iloc[[True, False, True, False, True, False, True, False, True, False]].dump()"
   ]
  },
  {
   "cell_type": "markdown",
   "metadata": {},
   "source": [
    "`loc` for numerical binnings accepts\n",
    "\n",
    "   * a real number\n",
    "   * a real-valued slice\n",
    "   * `None` for projection\n",
    "   * ellipsis (`...`)\n",
    "\n",
    "`loc` for categorical binnings accepts\n",
    "\n",
    "   * a string\n",
    "   * an iterable of strings\n",
    "   * an _empty_ slice\n",
    "   * `None` for projection\n",
    "   * ellipsis (`...`)\n",
    "\n",
    "`iloc` accepts\n",
    "\n",
    "   * an integer\n",
    "   * an integer-valued slice\n",
    "   * `None` for projection\n",
    "   * integer-valued array-like\n",
    "   * boolean-valued array-like\n",
    "   * ellipsis (`...`)"
   ]
  },
  {
   "cell_type": "markdown",
   "metadata": {},
   "source": [
    "## Bin counts → Numpy\n",
    "\n",
    "Frequently, one wants to extract bin counts from a histogram. The `loc`/`iloc` syntax above creates _histograms_ from _histograms_, not bin counts.\n",
    "\n",
    "A histogram's `counts` property has a slice syntax."
   ]
  },
  {
   "cell_type": "code",
   "execution_count": 31,
   "metadata": {},
   "outputs": [
    {
     "name": "stdout",
     "output_type": "stream",
     "text": [
      "[[-999  999    0    0    0    0    0    0    0    0    0    0]\n",
      " [-999  999    2    3    4    5    6    7    8    9   10   11]\n",
      " [-999  999    4    6    8   10   12   14   16   18   20   22]\n",
      " [-999  999    6    9   12   15   18   21   24   27   30   33]\n",
      " [-999  999    8   12   16   20   24   28   32   36   40   44]\n",
      " [-999  999   10   15   20   25   30   35   40   45   50   55]\n",
      " [-999  999   12   18   24   30   36   42   48   54   60   66]\n",
      " [-999  999   14   21   28   35   42   49   56   63   70   77]\n",
      " [-999  999   16   24   32   40   48   56   64   72   80   88]\n",
      " [-999  999   18   27   36   45   54   63   72   81   90   99]\n",
      " [-999  999 -999 -999 -999 -999 -999 -999 -999 -999 -999 -999]\n",
      " [-999  999  999  999  999  999  999  999  999  999  999  999]]\n"
     ]
    }
   ],
   "source": [
    "allcounts = numpy.arange(12) * numpy.arange(12)[:, None]   # multiplication table\n",
    "allcounts[10, :] = -999   # underflows\n",
    "allcounts[11, :] = 999    # overflows\n",
    "allcounts[:, 0]  = -999   # underflows\n",
    "allcounts[:, 1]  = 999    # overflows\n",
    "print(allcounts)"
   ]
  },
  {
   "cell_type": "code",
   "execution_count": 32,
   "metadata": {},
   "outputs": [],
   "source": [
    "h2 = aghast.Histogram(\n",
    "    [aghast.Axis(aghast.RegularBinning(10, aghast.RealInterval(-5, 5),\n",
    "                     aghast.RealOverflow(loc_underflow=aghast.RealOverflow.above1,\n",
    "                                       loc_overflow=aghast.RealOverflow.above2))),\n",
    "     aghast.Axis(aghast.RegularBinning(10, aghast.RealInterval(-5, 5),\n",
    "                     aghast.RealOverflow(loc_underflow=aghast.RealOverflow.below2,\n",
    "                                       loc_overflow=aghast.RealOverflow.below1)))],\n",
    "    aghast.UnweightedCounts(\n",
    "        aghast.InterpretedInlineBuffer.fromarray(allcounts)))"
   ]
  },
  {
   "cell_type": "code",
   "execution_count": 33,
   "metadata": {},
   "outputs": [
    {
     "name": "stdout",
     "output_type": "stream",
     "text": [
      "[[ 0  0  0  0  0  0  0  0  0  0]\n",
      " [ 2  3  4  5  6  7  8  9 10 11]\n",
      " [ 4  6  8 10 12 14 16 18 20 22]\n",
      " [ 6  9 12 15 18 21 24 27 30 33]\n",
      " [ 8 12 16 20 24 28 32 36 40 44]\n",
      " [10 15 20 25 30 35 40 45 50 55]\n",
      " [12 18 24 30 36 42 48 54 60 66]\n",
      " [14 21 28 35 42 49 56 63 70 77]\n",
      " [16 24 32 40 48 56 64 72 80 88]\n",
      " [18 27 36 45 54 63 72 81 90 99]]\n"
     ]
    }
   ],
   "source": [
    "print(h2.counts[:, :])"
   ]
  },
  {
   "cell_type": "markdown",
   "metadata": {},
   "source": [
    "To get the underflows and overflows, set the slice extremes to `-inf` and `+inf`."
   ]
  },
  {
   "cell_type": "code",
   "execution_count": 34,
   "metadata": {},
   "outputs": [
    {
     "name": "stdout",
     "output_type": "stream",
     "text": [
      "[[-999 -999 -999 -999 -999 -999 -999 -999 -999 -999]\n",
      " [   0    0    0    0    0    0    0    0    0    0]\n",
      " [   2    3    4    5    6    7    8    9   10   11]\n",
      " [   4    6    8   10   12   14   16   18   20   22]\n",
      " [   6    9   12   15   18   21   24   27   30   33]\n",
      " [   8   12   16   20   24   28   32   36   40   44]\n",
      " [  10   15   20   25   30   35   40   45   50   55]\n",
      " [  12   18   24   30   36   42   48   54   60   66]\n",
      " [  14   21   28   35   42   49   56   63   70   77]\n",
      " [  16   24   32   40   48   56   64   72   80   88]\n",
      " [  18   27   36   45   54   63   72   81   90   99]\n",
      " [ 999  999  999  999  999  999  999  999  999  999]]\n"
     ]
    }
   ],
   "source": [
    "print(h2.counts[-numpy.inf:numpy.inf, :])"
   ]
  },
  {
   "cell_type": "code",
   "execution_count": 35,
   "metadata": {},
   "outputs": [
    {
     "name": "stdout",
     "output_type": "stream",
     "text": [
      "[[-999    0    0    0    0    0    0    0    0    0    0  999]\n",
      " [-999    2    3    4    5    6    7    8    9   10   11  999]\n",
      " [-999    4    6    8   10   12   14   16   18   20   22  999]\n",
      " [-999    6    9   12   15   18   21   24   27   30   33  999]\n",
      " [-999    8   12   16   20   24   28   32   36   40   44  999]\n",
      " [-999   10   15   20   25   30   35   40   45   50   55  999]\n",
      " [-999   12   18   24   30   36   42   48   54   60   66  999]\n",
      " [-999   14   21   28   35   42   49   56   63   70   77  999]\n",
      " [-999   16   24   32   40   48   56   64   72   80   88  999]\n",
      " [-999   18   27   36   45   54   63   72   81   90   99  999]]\n"
     ]
    }
   ],
   "source": [
    "print(h2.counts[:, -numpy.inf:numpy.inf])"
   ]
  },
  {
   "cell_type": "markdown",
   "metadata": {},
   "source": [
    "Also note that the underflows are now all below the normal bins and overflows are now all above the normal bins, regardless of how they were arranged in the ghast. This allows analysis code to be independent of histogram source."
   ]
  },
  {
   "cell_type": "markdown",
   "metadata": {},
   "source": [
    "# Other types\n",
    "\n",
    "Aghast can attach fit functions to histograms, can store standalone functions, such as lookup tables, and can store ntuples for unweighted fits or machine learning."
   ]
  }
 ],
 "metadata": {
  "kernelspec": {
   "display_name": "Python 3",
   "language": "python",
   "name": "python3"
  },
  "language_info": {
   "codemirror_mode": {
    "name": "ipython",
    "version": 3
   },
   "file_extension": ".py",
   "mimetype": "text/x-python",
   "name": "python",
   "nbconvert_exporter": "python",
   "pygments_lexer": "ipython3",
   "version": "3.7.2"
  }
 },
 "nbformat": 4,
 "nbformat_minor": 2
}
