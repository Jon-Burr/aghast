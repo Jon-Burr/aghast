{
 "cells": [
  {
   "cell_type": "code",
   "execution_count": 1,
   "metadata": {},
   "outputs": [
    {
     "data": {
      "text/plain": [
       "(array([    0,     0,     1,     3,     2,     2,     2,     9,     8,\n",
       "           17,    12,    17,    34,    59,    84,   113,   160,   205,\n",
       "          306,   386,   502,   652,   909,  1152,  1570,  1985,  2471,\n",
       "         3144,  3957,  4808,  5900,  7232,  8631, 10252, 11947, 14131,\n",
       "        15981, 18268, 20617, 22898, 25646, 27872, 29988, 31971, 34238,\n",
       "        36278, 37307, 38728, 39196, 40184, 39988, 39295, 38888, 37707,\n",
       "        35940, 34429, 32201, 29990, 27697, 25414, 22868, 20636, 18354,\n",
       "        15952, 13981, 12066, 10175,  8585,  7168,  6010,  4875,  3932,\n",
       "         3186,  2574,  1915,  1643,  1196,   922,   677,   517,   363,\n",
       "          309,   214,   146,   122,    89,    50,    37,    13,     9,\n",
       "           12,     8,     3,     3,     0,     2,     2,     0,     0,\n",
       "            1]),\n",
       " array([-5. , -4.9, -4.8, -4.7, -4.6, -4.5, -4.4, -4.3, -4.2, -4.1, -4. ,\n",
       "        -3.9, -3.8, -3.7, -3.6, -3.5, -3.4, -3.3, -3.2, -3.1, -3. , -2.9,\n",
       "        -2.8, -2.7, -2.6, -2.5, -2.4, -2.3, -2.2, -2.1, -2. , -1.9, -1.8,\n",
       "        -1.7, -1.6, -1.5, -1.4, -1.3, -1.2, -1.1, -1. , -0.9, -0.8, -0.7,\n",
       "        -0.6, -0.5, -0.4, -0.3, -0.2, -0.1,  0. ,  0.1,  0.2,  0.3,  0.4,\n",
       "         0.5,  0.6,  0.7,  0.8,  0.9,  1. ,  1.1,  1.2,  1.3,  1.4,  1.5,\n",
       "         1.6,  1.7,  1.8,  1.9,  2. ,  2.1,  2.2,  2.3,  2.4,  2.5,  2.6,\n",
       "         2.7,  2.8,  2.9,  3. ,  3.1,  3.2,  3.3,  3.4,  3.5,  3.6,  3.7,\n",
       "         3.8,  3.9,  4. ,  4.1,  4.2,  4.3,  4.4,  4.5,  4.6,  4.7,  4.8,\n",
       "         4.9,  5. ]))"
      ]
     },
     "execution_count": 1,
     "metadata": {},
     "output_type": "execute_result"
    }
   ],
   "source": [
    "import numpy\n",
    "\n",
    "numpy_hist = numpy.histogram(numpy.random.normal(0, 1, int(1e6)), bins=100, range=(-5, 5))\n",
    "numpy_hist"
   ]
  },
  {
   "cell_type": "code",
   "execution_count": 2,
   "metadata": {},
   "outputs": [
    {
     "data": {
      "text/plain": [
       "<Histogram at 0x7f802c4d0e10>"
      ]
     },
     "execution_count": 2,
     "metadata": {},
     "output_type": "execute_result"
    }
   ],
   "source": [
    "import stagg.connect.numpy\n",
    "\n",
    "stagg_hist = stagg.connect.numpy.tostagg(numpy_hist)\n",
    "stagg_hist"
   ]
  },
  {
   "cell_type": "code",
   "execution_count": 3,
   "metadata": {},
   "outputs": [
    {
     "name": "stdout",
     "output_type": "stream",
     "text": [
      "Histogram(\n",
      "  axis=[\n",
      "    Axis(binning=RegularBinning(num=100, interval=RealInterval(low=-5.0, high=5.0)))\n",
      "  ],\n",
      "  counts=\n",
      "    UnweightedCounts(\n",
      "      counts=\n",
      "        InterpretedInlineInt64Buffer(\n",
      "          buffer=\n",
      "              [    0     0     1     3     2     2     2     9     8    17    12    17\n",
      "                  34    59    84   113   160   205   306   386   502   652   909  1152\n",
      "                1570  1985  2471  3144  3957  4808  5900  7232  8631 10252 11947 14131\n",
      "               15981 18268 20617 22898 25646 27872 29988 31971 34238 36278 37307 38728\n",
      "               39196 40184 39988 39295 38888 37707 35940 34429 32201 29990 27697 25414\n",
      "               22868 20636 18354 15952 13981 12066 10175  8585  7168  6010  4875  3932\n",
      "                3186  2574  1915  1643  1196   922   677   517   363   309   214   146\n",
      "                 122    89    50    37    13     9    12     8     3     3     0     2\n",
      "                   2     0     0     1])))\n"
     ]
    }
   ],
   "source": [
    "stagg_hist.dump()"
   ]
  },
  {
   "cell_type": "code",
   "execution_count": 4,
   "metadata": {},
   "outputs": [
    {
     "name": "stdout",
     "output_type": "stream",
     "text": [
      "Welcome to JupyROOT 6.14/04\n"
     ]
    },
    {
     "data": {
      "text/plain": [
       "<ROOT.TH1D object (\"root_hist\") at 0x564e0bc50f30>"
      ]
     },
     "execution_count": 4,
     "metadata": {},
     "output_type": "execute_result"
    }
   ],
   "source": [
    "import stagg.connect.root\n",
    "\n",
    "root_hist = stagg.connect.root.toroot(stagg_hist, \"root_hist\")\n",
    "root_hist"
   ]
  },
  {
   "cell_type": "code",
   "execution_count": 5,
   "metadata": {},
   "outputs": [
    {
     "data": {
      "image/png": "[encoded data removed]",
      "text/plain": [
       "<IPython.core.display.Image object>"
      ]
     },
     "metadata": {},
     "output_type": "display_data"
    }
   ],
   "source": [
    "import ROOT\n",
    "canvas = ROOT.TCanvas()\n",
    "root_hist.Draw()\n",
    "canvas.Draw()"
   ]
  },
  {
   "cell_type": "code",
   "execution_count": null,
   "metadata": {},
   "outputs": [],
   "source": []
  }
 ],
 "metadata": {
  "kernelspec": {
   "display_name": "Python 3",
   "language": "python",
   "name": "python3"
  },
  "language_info": {
   "codemirror_mode": {
    "name": "ipython",
    "version": 3
   },
   "file_extension": ".py",
   "mimetype": "text/x-python",
   "name": "python",
   "nbconvert_exporter": "python",
   "pygments_lexer": "ipython3",
   "version": "3.7.2"
  }
 },
 "nbformat": 4,
 "nbformat_minor": 2
}
