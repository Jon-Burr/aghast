{
 "cells": [
  {
   "cell_type": "markdown",
   "metadata": {},
   "source": [
    "# Stagg examples"
   ]
  },
  {
   "cell_type": "markdown",
   "metadata": {},
   "source": [
    "## Conversions\n",
    "\n",
    "The main purpose of Stagg is to move **st**atistical **agg**reggations, such as histograms, from one framework to the next. This requires a conversion of high-level domain concepts.\n",
    "\n",
    "Consider the following example: in Numpy, a histogram is simply a 2-tuple of arrays with special meaning—bin contents, then bin edges."
   ]
  },
  {
   "cell_type": "code",
   "execution_count": 1,
   "metadata": {},
   "outputs": [
    {
     "data": {
      "text/plain": [
       "(array([     1,      5,      7,      5,     33,     33,     86,    131,\n",
       "           231,    372,    535,    830,   1328,   2040,   3083,   4659,\n",
       "          6658,   9396,  13359,  18781,  25517,  34332,  45693,  59426,\n",
       "         76253,  96663, 120033, 147445, 178282, 210477, 246754, 283516,\n",
       "        321796, 358848, 394406, 426514, 452504, 474519, 488075, 496935,\n",
       "        497412, 490101, 474491, 451690, 425318, 393808, 359420, 321822,\n",
       "        283949, 245722, 211360, 177348, 146944, 120554,  97067,  76220,\n",
       "         59524,  45386,  34509,  25806,  18560,  13573,   9623,   6652,\n",
       "          4575,   3139,   2123,   1387,    898,    553,    373,    219,\n",
       "           134,     73,     54,     17,     14,     10,      5,      4]),\n",
       " array([-5.   , -4.875, -4.75 , -4.625, -4.5  , -4.375, -4.25 , -4.125,\n",
       "        -4.   , -3.875, -3.75 , -3.625, -3.5  , -3.375, -3.25 , -3.125,\n",
       "        -3.   , -2.875, -2.75 , -2.625, -2.5  , -2.375, -2.25 , -2.125,\n",
       "        -2.   , -1.875, -1.75 , -1.625, -1.5  , -1.375, -1.25 , -1.125,\n",
       "        -1.   , -0.875, -0.75 , -0.625, -0.5  , -0.375, -0.25 , -0.125,\n",
       "         0.   ,  0.125,  0.25 ,  0.375,  0.5  ,  0.625,  0.75 ,  0.875,\n",
       "         1.   ,  1.125,  1.25 ,  1.375,  1.5  ,  1.625,  1.75 ,  1.875,\n",
       "         2.   ,  2.125,  2.25 ,  2.375,  2.5  ,  2.625,  2.75 ,  2.875,\n",
       "         3.   ,  3.125,  3.25 ,  3.375,  3.5  ,  3.625,  3.75 ,  3.875,\n",
       "         4.   ,  4.125,  4.25 ,  4.375,  4.5  ,  4.625,  4.75 ,  4.875,\n",
       "         5.   ]))"
      ]
     },
     "execution_count": 1,
     "metadata": {},
     "output_type": "execute_result"
    }
   ],
   "source": [
    "import numpy\n",
    "\n",
    "numpy_hist = numpy.histogram(numpy.random.normal(0, 1, int(10e6)), bins=80, range=(-5, 5))\n",
    "numpy_hist"
   ]
  },
  {
   "cell_type": "markdown",
   "metadata": {},
   "source": [
    "We convert that into its Stagg equivalent with a connector (two-function module: `tostagg` and `tonumpy`)."
   ]
  },
  {
   "cell_type": "code",
   "execution_count": 2,
   "metadata": {},
   "outputs": [
    {
     "data": {
      "text/plain": [
       "<Histogram at 0x7fa0b832d048>"
      ]
     },
     "execution_count": 2,
     "metadata": {},
     "output_type": "execute_result"
    }
   ],
   "source": [
    "import stagg.connect.numpy\n",
    "\n",
    "stagg_hist = stagg.connect.numpy.tostagg(numpy_hist)\n",
    "stagg_hist"
   ]
  },
  {
   "cell_type": "markdown",
   "metadata": {},
   "source": [
    "This object is instantiated from a class structure built from simple pieces."
   ]
  },
  {
   "cell_type": "code",
   "execution_count": 3,
   "metadata": {},
   "outputs": [
    {
     "name": "stdout",
     "output_type": "stream",
     "text": [
      "Histogram(\n",
      "  axis=[\n",
      "    Axis(binning=RegularBinning(num=80, interval=RealInterval(low=-5.0, high=5.0)))\n",
      "  ],\n",
      "  counts=\n",
      "    UnweightedCounts(\n",
      "      counts=\n",
      "        InterpretedInlineInt64Buffer(\n",
      "          buffer=\n",
      "              [     1      5      7      5     33     33     86    131    231    372\n",
      "                  535    830   1328   2040   3083   4659   6658   9396  13359  18781\n",
      "                25517  34332  45693  59426  76253  96663 120033 147445 178282 210477\n",
      "               246754 283516 321796 358848 394406 426514 452504 474519 488075 496935\n",
      "               497412 490101 474491 451690 425318 393808 359420 321822 283949 245722\n",
      "               211360 177348 146944 120554  97067  76220  59524  45386  34509  25806\n",
      "                18560  13573   9623   6652   4575   3139   2123   1387    898    553\n",
      "                  373    219    134     73     54     17     14     10      5      4])))\n"
     ]
    }
   ],
   "source": [
    "stagg_hist.dump()"
   ]
  },
  {
   "cell_type": "markdown",
   "metadata": {},
   "source": [
    "Now it can be converted to a ROOT histogram with another connector."
   ]
  },
  {
   "cell_type": "code",
   "execution_count": 4,
   "metadata": {},
   "outputs": [
    {
     "name": "stdout",
     "output_type": "stream",
     "text": [
      "Welcome to JupyROOT 6.14/04\n"
     ]
    },
    {
     "data": {
      "text/plain": [
       "<ROOT.TH1D object (\"root_hist\") at 0x557cb5aaa6b0>"
      ]
     },
     "execution_count": 4,
     "metadata": {},
     "output_type": "execute_result"
    }
   ],
   "source": [
    "import stagg.connect.root\n",
    "\n",
    "root_hist = stagg.connect.root.toroot(stagg_hist, \"root_hist\")\n",
    "root_hist"
   ]
  },
  {
   "cell_type": "code",
   "execution_count": 5,
   "metadata": {},
   "outputs": [
    {
     "data": {
      "image/png": "[encoded data removed]",
      "text/plain": [
       "<IPython.core.display.Image object>"
      ]
     },
     "metadata": {},
     "output_type": "display_data"
    }
   ],
   "source": [
    "import ROOT\n",
    "canvas = ROOT.TCanvas()\n",
    "root_hist.Draw()\n",
    "canvas.Draw()"
   ]
  },
  {
   "cell_type": "markdown",
   "metadata": {},
   "source": [
    "And Pandas with yet another connector."
   ]
  },
  {
   "cell_type": "code",
   "execution_count": 6,
   "metadata": {},
   "outputs": [
    {
     "data": {
      "text/html": [
       "<div>\n",
       "<style scoped>\n",
       "    .dataframe tbody tr th:only-of-type {\n",
       "        vertical-align: middle;\n",
       "    }\n",
       "\n",
       "    .dataframe tbody tr th {\n",
       "        vertical-align: top;\n",
       "    }\n",
       "\n",
       "    .dataframe thead th {\n",
       "        text-align: right;\n",
       "    }\n",
       "</style>\n",
       "<table border=\"1\" class=\"dataframe\">\n",
       "  <thead>\n",
       "    <tr style=\"text-align: right;\">\n",
       "      <th></th>\n",
       "      <th>unweighted</th>\n",
       "    </tr>\n",
       "  </thead>\n",
       "  <tbody>\n",
       "    <tr>\n",
       "      <th>[-5.0, -4.875)</th>\n",
       "      <td>1</td>\n",
       "    </tr>\n",
       "    <tr>\n",
       "      <th>[-4.875, -4.75)</th>\n",
       "      <td>5</td>\n",
       "    </tr>\n",
       "    <tr>\n",
       "      <th>[-4.75, -4.625)</th>\n",
       "      <td>7</td>\n",
       "    </tr>\n",
       "    <tr>\n",
       "      <th>[-4.625, -4.5)</th>\n",
       "      <td>5</td>\n",
       "    </tr>\n",
       "    <tr>\n",
       "      <th>[-4.5, -4.375)</th>\n",
       "      <td>33</td>\n",
       "    </tr>\n",
       "    <tr>\n",
       "      <th>[-4.375, -4.25)</th>\n",
       "      <td>33</td>\n",
       "    </tr>\n",
       "    <tr>\n",
       "      <th>[-4.25, -4.125)</th>\n",
       "      <td>86</td>\n",
       "    </tr>\n",
       "    <tr>\n",
       "      <th>[-4.125, -4.0)</th>\n",
       "      <td>131</td>\n",
       "    </tr>\n",
       "    <tr>\n",
       "      <th>[-4.0, -3.875)</th>\n",
       "      <td>231</td>\n",
       "    </tr>\n",
       "    <tr>\n",
       "      <th>[-3.875, -3.75)</th>\n",
       "      <td>372</td>\n",
       "    </tr>\n",
       "    <tr>\n",
       "      <th>[-3.75, -3.625)</th>\n",
       "      <td>535</td>\n",
       "    </tr>\n",
       "    <tr>\n",
       "      <th>[-3.625, -3.5)</th>\n",
       "      <td>830</td>\n",
       "    </tr>\n",
       "    <tr>\n",
       "      <th>[-3.5, -3.375)</th>\n",
       "      <td>1328</td>\n",
       "    </tr>\n",
       "    <tr>\n",
       "      <th>[-3.375, -3.25)</th>\n",
       "      <td>2040</td>\n",
       "    </tr>\n",
       "    <tr>\n",
       "      <th>[-3.25, -3.125)</th>\n",
       "      <td>3083</td>\n",
       "    </tr>\n",
       "    <tr>\n",
       "      <th>[-3.125, -3.0)</th>\n",
       "      <td>4659</td>\n",
       "    </tr>\n",
       "    <tr>\n",
       "      <th>[-3.0, -2.875)</th>\n",
       "      <td>6658</td>\n",
       "    </tr>\n",
       "    <tr>\n",
       "      <th>[-2.875, -2.75)</th>\n",
       "      <td>9396</td>\n",
       "    </tr>\n",
       "    <tr>\n",
       "      <th>[-2.75, -2.625)</th>\n",
       "      <td>13359</td>\n",
       "    </tr>\n",
       "    <tr>\n",
       "      <th>[-2.625, -2.5)</th>\n",
       "      <td>18781</td>\n",
       "    </tr>\n",
       "    <tr>\n",
       "      <th>[-2.5, -2.375)</th>\n",
       "      <td>25517</td>\n",
       "    </tr>\n",
       "    <tr>\n",
       "      <th>[-2.375, -2.25)</th>\n",
       "      <td>34332</td>\n",
       "    </tr>\n",
       "    <tr>\n",
       "      <th>[-2.25, -2.125)</th>\n",
       "      <td>45693</td>\n",
       "    </tr>\n",
       "    <tr>\n",
       "      <th>[-2.125, -2.0)</th>\n",
       "      <td>59426</td>\n",
       "    </tr>\n",
       "    <tr>\n",
       "      <th>[-2.0, -1.875)</th>\n",
       "      <td>76253</td>\n",
       "    </tr>\n",
       "    <tr>\n",
       "      <th>[-1.875, -1.75)</th>\n",
       "      <td>96663</td>\n",
       "    </tr>\n",
       "    <tr>\n",
       "      <th>[-1.75, -1.625)</th>\n",
       "      <td>120033</td>\n",
       "    </tr>\n",
       "    <tr>\n",
       "      <th>[-1.625, -1.5)</th>\n",
       "      <td>147445</td>\n",
       "    </tr>\n",
       "    <tr>\n",
       "      <th>[-1.5, -1.375)</th>\n",
       "      <td>178282</td>\n",
       "    </tr>\n",
       "    <tr>\n",
       "      <th>[-1.375, -1.25)</th>\n",
       "      <td>210477</td>\n",
       "    </tr>\n",
       "    <tr>\n",
       "      <th>...</th>\n",
       "      <td>...</td>\n",
       "    </tr>\n",
       "    <tr>\n",
       "      <th>[1.25, 1.375)</th>\n",
       "      <td>211360</td>\n",
       "    </tr>\n",
       "    <tr>\n",
       "      <th>[1.375, 1.5)</th>\n",
       "      <td>177348</td>\n",
       "    </tr>\n",
       "    <tr>\n",
       "      <th>[1.5, 1.625)</th>\n",
       "      <td>146944</td>\n",
       "    </tr>\n",
       "    <tr>\n",
       "      <th>[1.625, 1.75)</th>\n",
       "      <td>120554</td>\n",
       "    </tr>\n",
       "    <tr>\n",
       "      <th>[1.75, 1.875)</th>\n",
       "      <td>97067</td>\n",
       "    </tr>\n",
       "    <tr>\n",
       "      <th>[1.875, 2.0)</th>\n",
       "      <td>76220</td>\n",
       "    </tr>\n",
       "    <tr>\n",
       "      <th>[2.0, 2.125)</th>\n",
       "      <td>59524</td>\n",
       "    </tr>\n",
       "    <tr>\n",
       "      <th>[2.125, 2.25)</th>\n",
       "      <td>45386</td>\n",
       "    </tr>\n",
       "    <tr>\n",
       "      <th>[2.25, 2.375)</th>\n",
       "      <td>34509</td>\n",
       "    </tr>\n",
       "    <tr>\n",
       "      <th>[2.375, 2.5)</th>\n",
       "      <td>25806</td>\n",
       "    </tr>\n",
       "    <tr>\n",
       "      <th>[2.5, 2.625)</th>\n",
       "      <td>18560</td>\n",
       "    </tr>\n",
       "    <tr>\n",
       "      <th>[2.625, 2.75)</th>\n",
       "      <td>13573</td>\n",
       "    </tr>\n",
       "    <tr>\n",
       "      <th>[2.75, 2.875)</th>\n",
       "      <td>9623</td>\n",
       "    </tr>\n",
       "    <tr>\n",
       "      <th>[2.875, 3.0)</th>\n",
       "      <td>6652</td>\n",
       "    </tr>\n",
       "    <tr>\n",
       "      <th>[3.0, 3.125)</th>\n",
       "      <td>4575</td>\n",
       "    </tr>\n",
       "    <tr>\n",
       "      <th>[3.125, 3.25)</th>\n",
       "      <td>3139</td>\n",
       "    </tr>\n",
       "    <tr>\n",
       "      <th>[3.25, 3.375)</th>\n",
       "      <td>2123</td>\n",
       "    </tr>\n",
       "    <tr>\n",
       "      <th>[3.375, 3.5)</th>\n",
       "      <td>1387</td>\n",
       "    </tr>\n",
       "    <tr>\n",
       "      <th>[3.5, 3.625)</th>\n",
       "      <td>898</td>\n",
       "    </tr>\n",
       "    <tr>\n",
       "      <th>[3.625, 3.75)</th>\n",
       "      <td>553</td>\n",
       "    </tr>\n",
       "    <tr>\n",
       "      <th>[3.75, 3.875)</th>\n",
       "      <td>373</td>\n",
       "    </tr>\n",
       "    <tr>\n",
       "      <th>[3.875, 4.0)</th>\n",
       "      <td>219</td>\n",
       "    </tr>\n",
       "    <tr>\n",
       "      <th>[4.0, 4.125)</th>\n",
       "      <td>134</td>\n",
       "    </tr>\n",
       "    <tr>\n",
       "      <th>[4.125, 4.25)</th>\n",
       "      <td>73</td>\n",
       "    </tr>\n",
       "    <tr>\n",
       "      <th>[4.25, 4.375)</th>\n",
       "      <td>54</td>\n",
       "    </tr>\n",
       "    <tr>\n",
       "      <th>[4.375, 4.5)</th>\n",
       "      <td>17</td>\n",
       "    </tr>\n",
       "    <tr>\n",
       "      <th>[4.5, 4.625)</th>\n",
       "      <td>14</td>\n",
       "    </tr>\n",
       "    <tr>\n",
       "      <th>[4.625, 4.75)</th>\n",
       "      <td>10</td>\n",
       "    </tr>\n",
       "    <tr>\n",
       "      <th>[4.75, 4.875)</th>\n",
       "      <td>5</td>\n",
       "    </tr>\n",
       "    <tr>\n",
       "      <th>[4.875, 5.0)</th>\n",
       "      <td>4</td>\n",
       "    </tr>\n",
       "  </tbody>\n",
       "</table>\n",
       "<p>80 rows × 1 columns</p>\n",
       "</div>"
      ],
      "text/plain": [
       "                 unweighted\n",
       "[-5.0, -4.875)            1\n",
       "[-4.875, -4.75)           5\n",
       "[-4.75, -4.625)           7\n",
       "[-4.625, -4.5)            5\n",
       "[-4.5, -4.375)           33\n",
       "[-4.375, -4.25)          33\n",
       "[-4.25, -4.125)          86\n",
       "[-4.125, -4.0)          131\n",
       "[-4.0, -3.875)          231\n",
       "[-3.875, -3.75)         372\n",
       "[-3.75, -3.625)         535\n",
       "[-3.625, -3.5)          830\n",
       "[-3.5, -3.375)         1328\n",
       "[-3.375, -3.25)        2040\n",
       "[-3.25, -3.125)        3083\n",
       "[-3.125, -3.0)         4659\n",
       "[-3.0, -2.875)         6658\n",
       "[-2.875, -2.75)        9396\n",
       "[-2.75, -2.625)       13359\n",
       "[-2.625, -2.5)        18781\n",
       "[-2.5, -2.375)        25517\n",
       "[-2.375, -2.25)       34332\n",
       "[-2.25, -2.125)       45693\n",
       "[-2.125, -2.0)        59426\n",
       "[-2.0, -1.875)        76253\n",
       "[-1.875, -1.75)       96663\n",
       "[-1.75, -1.625)      120033\n",
       "[-1.625, -1.5)       147445\n",
       "[-1.5, -1.375)       178282\n",
       "[-1.375, -1.25)      210477\n",
       "...                     ...\n",
       "[1.25, 1.375)        211360\n",
       "[1.375, 1.5)         177348\n",
       "[1.5, 1.625)         146944\n",
       "[1.625, 1.75)        120554\n",
       "[1.75, 1.875)         97067\n",
       "[1.875, 2.0)          76220\n",
       "[2.0, 2.125)          59524\n",
       "[2.125, 2.25)         45386\n",
       "[2.25, 2.375)         34509\n",
       "[2.375, 2.5)          25806\n",
       "[2.5, 2.625)          18560\n",
       "[2.625, 2.75)         13573\n",
       "[2.75, 2.875)          9623\n",
       "[2.875, 3.0)           6652\n",
       "[3.0, 3.125)           4575\n",
       "[3.125, 3.25)          3139\n",
       "[3.25, 3.375)          2123\n",
       "[3.375, 3.5)           1387\n",
       "[3.5, 3.625)            898\n",
       "[3.625, 3.75)           553\n",
       "[3.75, 3.875)           373\n",
       "[3.875, 4.0)            219\n",
       "[4.0, 4.125)            134\n",
       "[4.125, 4.25)            73\n",
       "[4.25, 4.375)            54\n",
       "[4.375, 4.5)             17\n",
       "[4.5, 4.625)             14\n",
       "[4.625, 4.75)            10\n",
       "[4.75, 4.875)             5\n",
       "[4.875, 5.0)              4\n",
       "\n",
       "[80 rows x 1 columns]"
      ]
     },
     "execution_count": 6,
     "metadata": {},
     "output_type": "execute_result"
    }
   ],
   "source": [
    "import stagg.connect.pandas\n",
    "\n",
    "pandas_hist = stagg.connect.pandas.topandas(stagg_hist)\n",
    "pandas_hist"
   ]
  },
  {
   "cell_type": "markdown",
   "metadata": {},
   "source": [
    "## Serialization\n",
    "\n",
    "The `stagg_hist` object is also a [Flatbuffers](http://google.github.io/flatbuffers/) object, which has a [multi-lingual](https://google.github.io/flatbuffers/flatbuffers_support.html), [random-access](https://github.com/mzaks/FlatBuffersSwift/wiki/FlatBuffers-Explained), [small-footprint](http://google.github.io/flatbuffers/md__benchmarks.html) serialization:"
   ]
  },
  {
   "cell_type": "code",
   "execution_count": 7,
   "metadata": {},
   "outputs": [
    {
     "data": {
      "text/plain": [
       "bytearray(b'\\x04\\x00\\x00\\x00\\x90\\xff\\xff\\xff\\x10\\x00\\x00\\x00\\x00\\x01\\n\\x00\\x10\\x00\\x0c\\x00\\x0b\\x00\\x04\\x00\\n\\x00\\x00\\x00`\\x00\\x00\\x00\\x00\\x00\\x00\\x01\\x04\\x00\\x00\\x00\\x01\\x00\\x00\\x00\\x0c\\x00\\x00\\x00\\x08\\x00\\x0c\\x00\\x0b\\x00\\x04\\x00\\x08\\x00\\x00\\x00\\x10\\x00\\x00\\x00\\x00\\x00\\x00\\x02\\x08\\x00(\\x00\\x1c\\x00\\x04\\x00\\x08\\x00\\x00\\x00\\x00\\x00\\x00\\x00\\x00\\x00\\x14\\xc0\\x00\\x00\\x00\\x00\\x00\\x00\\x14@\\x01\\x00\\x00\\x00\\x00\\x00\\x00\\x00P\\x00\\x00\\x00\\x00\\x00\\x00\\x00\\x00\\x00\\x00\\x00\\x08\\x00\\n\\x00\\t\\x00\\x04\\x00\\x08\\x00\\x00\\x00\\x0c\\x00\\x00\\x00\\x00\\x02\\x06\\x00\\x08\\x00\\x04\\x00\\x06\\x00\\x00\\x00\\x04\\x00\\x00\\x00\\x80\\x02\\x00\\x00\\x01\\x00\\x00\\x00\\x00\\x00\\x00\\x00\\x05\\x00\\x00\\x00\\x00\\x00\\x00\\x00\\x07\\x00\\x00\\x00\\x00\\x00\\x00\\x00\\x05\\x00\\x00\\x00\\x00\\x00\\x00\\x00!\\x00\\x00\\x00\\x00\\x00\\x00\\x00!\\x00\\x00\\x00\\x00\\x00\\x00\\x00V\\x00\\x00\\x00\\x00\\x00\\x00\\x00\\x83\\x00\\x00\\x00\\x00\\x00\\x00\\x00\\xe7\\x00\\x00\\x00\\x00\\x00\\x00\\x00t\\x01\\x00\\x00\\x00\\x00\\x00\\x00\\x17\\x02\\x00\\x00\\x00\\x00\\x00\\x00>\\x03\\x00\\x00\\x00\\x00\\x00\\x000\\x05\\x00\\x00\\x00\\x00\\x00\\x00\\xf8\\x07\\x00\\x00\\x00\\x00\\x00\\x00\\x0b\\x0c\\x00\\x00\\x00\\x00\\x00\\x003\\x12\\x00\\x00\\x00\\x00\\x00\\x00\\x02\\x1a\\x00\\x00\\x00\\x00\\x00\\x00\\xb4$\\x00\\x00\\x00\\x00\\x00\\x00/4\\x00\\x00\\x00\\x00\\x00\\x00]I\\x00\\x00\\x00\\x00\\x00\\x00\\xadc\\x00\\x00\\x00\\x00\\x00\\x00\\x1c\\x86\\x00\\x00\\x00\\x00\\x00\\x00}\\xb2\\x00\\x00\\x00\\x00\\x00\\x00\"\\xe8\\x00\\x00\\x00\\x00\\x00\\x00\\xdd)\\x01\\x00\\x00\\x00\\x00\\x00\\x97y\\x01\\x00\\x00\\x00\\x00\\x00\\xe1\\xd4\\x01\\x00\\x00\\x00\\x00\\x00\\xf5?\\x02\\x00\\x00\\x00\\x00\\x00j\\xb8\\x02\\x00\\x00\\x00\\x00\\x00-6\\x03\\x00\\x00\\x00\\x00\\x00\\xe2\\xc3\\x03\\x00\\x00\\x00\\x00\\x00|S\\x04\\x00\\x00\\x00\\x00\\x00\\x04\\xe9\\x04\\x00\\x00\\x00\\x00\\x00\\xc0y\\x05\\x00\\x00\\x00\\x00\\x00\\xa6\\x04\\x06\\x00\\x00\\x00\\x00\\x00\\x12\\x82\\x06\\x00\\x00\\x00\\x00\\x00\\x98\\xe7\\x06\\x00\\x00\\x00\\x00\\x00\\x97=\\x07\\x00\\x00\\x00\\x00\\x00\\x8br\\x07\\x00\\x00\\x00\\x00\\x00\\'\\x95\\x07\\x00\\x00\\x00\\x00\\x00\\x04\\x97\\x07\\x00\\x00\\x00\\x00\\x00uz\\x07\\x00\\x00\\x00\\x00\\x00{=\\x07\\x00\\x00\\x00\\x00\\x00j\\xe4\\x06\\x00\\x00\\x00\\x00\\x00f}\\x06\\x00\\x00\\x00\\x00\\x00P\\x02\\x06\\x00\\x00\\x00\\x00\\x00\\xfc{\\x05\\x00\\x00\\x00\\x00\\x00\\x1e\\xe9\\x04\\x00\\x00\\x00\\x00\\x00-U\\x04\\x00\\x00\\x00\\x00\\x00\\xda\\xbf\\x03\\x00\\x00\\x00\\x00\\x00\\xa09\\x03\\x00\\x00\\x00\\x00\\x00\\xc4\\xb4\\x02\\x00\\x00\\x00\\x00\\x00\\x00>\\x02\\x00\\x00\\x00\\x00\\x00\\xea\\xd6\\x01\\x00\\x00\\x00\\x00\\x00+{\\x01\\x00\\x00\\x00\\x00\\x00\\xbc)\\x01\\x00\\x00\\x00\\x00\\x00\\x84\\xe8\\x00\\x00\\x00\\x00\\x00\\x00J\\xb1\\x00\\x00\\x00\\x00\\x00\\x00\\xcd\\x86\\x00\\x00\\x00\\x00\\x00\\x00\\xced\\x00\\x00\\x00\\x00\\x00\\x00\\x80H\\x00\\x00\\x00\\x00\\x00\\x00\\x055\\x00\\x00\\x00\\x00\\x00\\x00\\x97%\\x00\\x00\\x00\\x00\\x00\\x00\\xfc\\x19\\x00\\x00\\x00\\x00\\x00\\x00\\xdf\\x11\\x00\\x00\\x00\\x00\\x00\\x00C\\x0c\\x00\\x00\\x00\\x00\\x00\\x00K\\x08\\x00\\x00\\x00\\x00\\x00\\x00k\\x05\\x00\\x00\\x00\\x00\\x00\\x00\\x82\\x03\\x00\\x00\\x00\\x00\\x00\\x00)\\x02\\x00\\x00\\x00\\x00\\x00\\x00u\\x01\\x00\\x00\\x00\\x00\\x00\\x00\\xdb\\x00\\x00\\x00\\x00\\x00\\x00\\x00\\x86\\x00\\x00\\x00\\x00\\x00\\x00\\x00I\\x00\\x00\\x00\\x00\\x00\\x00\\x006\\x00\\x00\\x00\\x00\\x00\\x00\\x00\\x11\\x00\\x00\\x00\\x00\\x00\\x00\\x00\\x0e\\x00\\x00\\x00\\x00\\x00\\x00\\x00\\n\\x00\\x00\\x00\\x00\\x00\\x00\\x00\\x05\\x00\\x00\\x00\\x00\\x00\\x00\\x00\\x04\\x00\\x00\\x00\\x00\\x00\\x00\\x00')"
      ]
     },
     "execution_count": 7,
     "metadata": {},
     "output_type": "execute_result"
    }
   ],
   "source": [
    "stagg_hist.tobuffer()"
   ]
  },
  {
   "cell_type": "code",
   "execution_count": 8,
   "metadata": {},
   "outputs": [
    {
     "name": "stdout",
     "output_type": "stream",
     "text": [
      "Numpy size:  1288\n",
      "ROOT size:   1962\n",
      "Pandas size: 2984\n",
      "Stagg size:   792\n"
     ]
    }
   ],
   "source": [
    "print(\"Numpy size: \", numpy_hist[0].nbytes + numpy_hist[1].nbytes)\n",
    "\n",
    "tmessage = ROOT.TMessage()\n",
    "tmessage.WriteObject(root_hist)\n",
    "print(\"ROOT size:  \", tmessage.Length())\n",
    "\n",
    "import pickle\n",
    "print(\"Pandas size:\", len(pickle.dumps(pandas_hist)))\n",
    "\n",
    "print(\"Stagg size:  \", len(stagg_hist.tobuffer()))"
   ]
  },
  {
   "cell_type": "markdown",
   "metadata": {},
   "source": [
    "Stagg is generally forseen as a memory format, like [Apache Arrow](https://arrow.apache.org), but for statistical aggregations. Like Arrow, it reduces the need to implement $N(N - 1)/2$ conversion functions among $N$ statistical libraries to just $N$ conversion functions. (See the figure on Arrow's website.)"
   ]
  },
  {
   "cell_type": "markdown",
   "metadata": {},
   "source": [
    "## Translation of conventions\n",
    "\n",
    "Stagg also intends to be as close to zero-copy as possible. This means that it must make graceful translations among conventions. Different histogramming libraries handle overflow bins in different ways:"
   ]
  },
  {
   "cell_type": "code",
   "execution_count": 9,
   "metadata": {},
   "outputs": [
    {
     "name": "stdout",
     "output_type": "stream",
     "text": [
      "RegularBinning(\n",
      "  num=80,\n",
      "  interval=RealInterval(low=-5.0, high=5.0),\n",
      "  overflow=RealOverflow(loc_underflow=BinLocation.below1, loc_overflow=BinLocation.above1))\n",
      "Bin contents length: 82\n"
     ]
    }
   ],
   "source": [
    "fromroot = stagg.connect.root.tostagg(root_hist)\n",
    "fromroot.axis[0].binning.dump()\n",
    "print(\"Bin contents length:\", len(fromroot.counts.array))"
   ]
  },
  {
   "cell_type": "code",
   "execution_count": 10,
   "metadata": {},
   "outputs": [
    {
     "name": "stdout",
     "output_type": "stream",
     "text": [
      "RegularBinning(num=80, interval=RealInterval(low=-5.0, high=5.0))\n",
      "Bin contents length: 80\n"
     ]
    }
   ],
   "source": [
    "stagg_hist.axis[0].binning.dump()\n",
    "print(\"Bin contents length:\", len(stagg_hist.counts.array))"
   ]
  },
  {
   "cell_type": "markdown",
   "metadata": {},
   "source": [
    "And yet we want to be able to manipulate them as though these differences did not exist."
   ]
  },
  {
   "cell_type": "code",
   "execution_count": 11,
   "metadata": {},
   "outputs": [],
   "source": [
    "sum_hist = fromroot + stagg_hist"
   ]
  },
  {
   "cell_type": "code",
   "execution_count": 12,
   "metadata": {},
   "outputs": [
    {
     "name": "stdout",
     "output_type": "stream",
     "text": [
      "RegularBinning(\n",
      "  num=80,\n",
      "  interval=RealInterval(low=-5.0, high=5.0),\n",
      "  overflow=RealOverflow(loc_underflow=BinLocation.above1, loc_overflow=BinLocation.above2))\n",
      "Bin contents length: 82\n"
     ]
    }
   ],
   "source": [
    "sum_hist.axis[0].binning.dump()\n",
    "print(\"Bin contents length:\", len(sum_hist.counts.array))"
   ]
  },
  {
   "cell_type": "markdown",
   "metadata": {},
   "source": [
    "The binning structure keeps track of the existence of underflow/overflow bins and where they are located.\n",
    "\n",
    "   * ROOT's convention is to put underflow before the normal bins (`below1`) and overflow after (`above1`), so that the normal bins are effectively 1-indexed.\n",
    "   * Boost.Histogram's convention is to put overflow after the normal bins (`above1`) and underflow after that (`above2`), so that underflow is accessed via `myhist[-1]` in Numpy.\n",
    "   * Numpy histograms don't have underflow/overflow bins.\n",
    "   * Pandas could have `Intervals` that extend to infinity.\n",
    "\n",
    "Stagg accepts all of these, so that it doesn't have to manipulate the bin contents buffer it receives, but knows how to deal with them if it has to combine histograms that follow different conventions."
   ]
  },
  {
   "cell_type": "markdown",
   "metadata": {},
   "source": [
    "## Binning types\n",
    "\n",
    "All the different axis types have an equivalent in Stagg (and not all are single-dimensional)."
   ]
  },
  {
   "cell_type": "code",
   "execution_count": 13,
   "metadata": {},
   "outputs": [
    {
     "name": "stdout",
     "output_type": "stream",
     "text": [
      "IntegerBinning(min=5, max=10)\n",
      "RegularBinning(num=100, interval=RealInterval(low=-5.0, high=5.0))\n",
      "HexagonalBinning(qmin=0, qmax=100, rmin=0, rmax=100, coordinates=HexagonalBinning.cube_xy)\n",
      "EdgesBinning(edges=[0.01 0.05 0.1 0.5 1 5 10 50 100])\n",
      "IrregularBinning(\n",
      "  intervals=[\n",
      "    RealInterval(low=0.0, high=5.0),\n",
      "    RealInterval(low=10.0, high=100.0),\n",
      "    RealInterval(low=-10.0, high=10.0)\n",
      "  ],\n",
      "  overlapping_fill=IrregularBinning.all)\n",
      "CategoryBinning(categories=['one', 'two', 'three'])\n",
      "SparseRegularBinning(bins=[5 3 -2 8 -100], bin_width=10.0)\n",
      "FractionBinning(error_method=FractionBinning.clopper_pearson)\n",
      "PredicateBinning(predicates=['signal region', 'control region'])\n",
      "VariationBinning(\n",
      "  variations=[\n",
      "    Variation(assignments=[\n",
      "        Assignment(identifier='x', expression='nominal')\n",
      "      ]),\n",
      "    Variation(\n",
      "      assignments=[\n",
      "        Assignment(identifier='x', expression='nominal + sigma')\n",
      "      ]),\n",
      "    Variation(\n",
      "      assignments=[\n",
      "        Assignment(identifier='x', expression='nominal - sigma')\n",
      "      ])\n",
      "  ])\n"
     ]
    }
   ],
   "source": [
    "import stagg\n",
    "stagg.IntegerBinning(5, 10).dump()\n",
    "stagg.RegularBinning(100, stagg.RealInterval(-5, 5)).dump()\n",
    "stagg.HexagonalBinning(0, 100, 0, 100, stagg.HexagonalBinning.cube_xy).dump()\n",
    "stagg.EdgesBinning([0.01, 0.05, 0.1, 0.5, 1, 5, 10, 50, 100]).dump()\n",
    "stagg.IrregularBinning([stagg.RealInterval(0, 5),\n",
    "                        stagg.RealInterval(10, 100),\n",
    "                        stagg.RealInterval(-10, 10)],\n",
    "                       overlapping_fill=stagg.IrregularBinning.all).dump()\n",
    "stagg.CategoryBinning([\"one\", \"two\", \"three\"]).dump()\n",
    "stagg.SparseRegularBinning([5, 3, -2, 8, -100], 10).dump()\n",
    "stagg.FractionBinning(error_method=stagg.FractionBinning.clopper_pearson).dump()\n",
    "stagg.PredicateBinning([\"signal region\", \"control region\"]).dump()\n",
    "stagg.VariationBinning([stagg.Variation([stagg.Assignment(\"x\", \"nominal\")]),\n",
    "                        stagg.Variation([stagg.Assignment(\"x\", \"nominal + sigma\")]),\n",
    "                        stagg.Variation([stagg.Assignment(\"x\", \"nominal - sigma\")])]).dump()"
   ]
  },
  {
   "cell_type": "markdown",
   "metadata": {},
   "source": [
    "The meanings of these binning classes are given in [the specification](https://github.com/diana-hep/stagg/blob/master/specification.adoc#integerbinning), but many of them can be converted into one another, and converting to `CategoryBinning` (strings) often makes the intent clear."
   ]
  },
  {
   "cell_type": "code",
   "execution_count": 14,
   "metadata": {},
   "outputs": [
    {
     "name": "stdout",
     "output_type": "stream",
     "text": [
      "CategoryBinning(categories=['5', '6', '7', '8', '9', '10'])\n",
      "CategoryBinning(\n",
      "  categories=['[-5, -4)', '[-4, -3)', '[-3, -2)', '[-2, -1)', '[-1, 0)', '[0, 1)', '[1, 2)', '[2, 3)', '[3, 4)', '[4, 5)'])\n",
      "CategoryBinning(\n",
      "  categories=['[0.01, 0.05)', '[0.05, 0.1)', '[0.1, 0.5)', '[0.5, 1)', '[1, 5)', '[5, 10)', '[10, 50)', '[50, 100)'])\n",
      "CategoryBinning(categories=['[0, 5)', '[10, 100)', '[-10, 10)'])\n",
      "CategoryBinning(categories=['[50, 60)', '[30, 40)', '[-20, -10)', '[80, 90)', '[-1000, -990)'])\n",
      "CategoryBinning(categories=['pass', 'all'])\n",
      "CategoryBinning(categories=['signal region', 'control region'])\n",
      "CategoryBinning(categories=['x := nominal', 'x := nominal + sigma', 'x := nominal - sigma'])\n"
     ]
    }
   ],
   "source": [
    "stagg.IntegerBinning(5, 10).toCategoryBinning().dump()\n",
    "stagg.RegularBinning(10, stagg.RealInterval(-5, 5)).toCategoryBinning().dump()\n",
    "stagg.EdgesBinning([0.01, 0.05, 0.1, 0.5, 1, 5, 10, 50, 100]).toCategoryBinning().dump()\n",
    "stagg.IrregularBinning([stagg.RealInterval(0, 5),\n",
    "                        stagg.RealInterval(10, 100),\n",
    "                        stagg.RealInterval(-10, 10)],\n",
    "                       overlapping_fill=stagg.IrregularBinning.all).toCategoryBinning().dump()\n",
    "stagg.SparseRegularBinning([5, 3, -2, 8, -100], 10).toCategoryBinning().dump()\n",
    "stagg.FractionBinning(error_method=stagg.FractionBinning.clopper_pearson).toCategoryBinning().dump()\n",
    "stagg.PredicateBinning([\"signal region\", \"control region\"]).toCategoryBinning().dump()\n",
    "stagg.VariationBinning([stagg.Variation([stagg.Assignment(\"x\", \"nominal\")]),\n",
    "                        stagg.Variation([stagg.Assignment(\"x\", \"nominal + sigma\")]),\n",
    "                        stagg.Variation([stagg.Assignment(\"x\", \"nominal - sigma\")])]).toCategoryBinning().dump()"
   ]
  },
  {
   "cell_type": "markdown",
   "metadata": {},
   "source": [
    "This technique can also clear up confusion about overflow bins."
   ]
  },
  {
   "cell_type": "code",
   "execution_count": 15,
   "metadata": {},
   "outputs": [
    {
     "name": "stdout",
     "output_type": "stream",
     "text": [
      "CategoryBinning(\n",
      "  categories=['{nan}', '[-5, -3)', '[-3, -1)', '[-1, 1)', '[1, 3)', '[3, 5)', '[5, +inf]', '[-inf, -5)'])\n"
     ]
    }
   ],
   "source": [
    "stagg.RegularBinning(5, stagg.RealInterval(-5, 5), stagg.RealOverflow(\n",
    "    loc_underflow=stagg.BinLocation.above2,\n",
    "    loc_overflow=stagg.BinLocation.above1,\n",
    "    loc_nanflow=stagg.BinLocation.below1\n",
    "    )).toCategoryBinning().dump()"
   ]
  },
  {
   "cell_type": "markdown",
   "metadata": {},
   "source": [
    "# Fancy binning types\n",
    "\n",
    "You might also be wondering about `FractionBinning`, `PredicateBinning`, and `VariationBinning`.\n",
    "\n",
    "`FractionBinning` is an axis of two bins: #passing and #total, #failing and #total, or #passing and #failing. Adding it to another axis effectively makes an \"efficiency plot.\""
   ]
  },
  {
   "cell_type": "code",
   "execution_count": 16,
   "metadata": {},
   "outputs": [
    {
     "data": {
      "text/html": [
       "<div>\n",
       "<style scoped>\n",
       "    .dataframe tbody tr th:only-of-type {\n",
       "        vertical-align: middle;\n",
       "    }\n",
       "\n",
       "    .dataframe tbody tr th {\n",
       "        vertical-align: top;\n",
       "    }\n",
       "\n",
       "    .dataframe thead th {\n",
       "        text-align: right;\n",
       "    }\n",
       "</style>\n",
       "<table border=\"1\" class=\"dataframe\">\n",
       "  <thead>\n",
       "    <tr style=\"text-align: right;\">\n",
       "      <th></th>\n",
       "      <th></th>\n",
       "      <th>unweighted</th>\n",
       "    </tr>\n",
       "  </thead>\n",
       "  <tbody>\n",
       "    <tr>\n",
       "      <th rowspan=\"10\" valign=\"top\">pass</th>\n",
       "      <th>[-5.0, -4.0)</th>\n",
       "      <td>9</td>\n",
       "    </tr>\n",
       "    <tr>\n",
       "      <th>[-4.0, -3.0)</th>\n",
       "      <td>25</td>\n",
       "    </tr>\n",
       "    <tr>\n",
       "      <th>[-3.0, -2.0)</th>\n",
       "      <td>29</td>\n",
       "    </tr>\n",
       "    <tr>\n",
       "      <th>[-2.0, -1.0)</th>\n",
       "      <td>35</td>\n",
       "    </tr>\n",
       "    <tr>\n",
       "      <th>[-1.0, 0.0)</th>\n",
       "      <td>54</td>\n",
       "    </tr>\n",
       "    <tr>\n",
       "      <th>[0.0, 1.0)</th>\n",
       "      <td>67</td>\n",
       "    </tr>\n",
       "    <tr>\n",
       "      <th>[1.0, 2.0)</th>\n",
       "      <td>60</td>\n",
       "    </tr>\n",
       "    <tr>\n",
       "      <th>[2.0, 3.0)</th>\n",
       "      <td>84</td>\n",
       "    </tr>\n",
       "    <tr>\n",
       "      <th>[3.0, 4.0)</th>\n",
       "      <td>80</td>\n",
       "    </tr>\n",
       "    <tr>\n",
       "      <th>[4.0, 5.0)</th>\n",
       "      <td>94</td>\n",
       "    </tr>\n",
       "    <tr>\n",
       "      <th rowspan=\"10\" valign=\"top\">all</th>\n",
       "      <th>[-5.0, -4.0)</th>\n",
       "      <td>99</td>\n",
       "    </tr>\n",
       "    <tr>\n",
       "      <th>[-4.0, -3.0)</th>\n",
       "      <td>119</td>\n",
       "    </tr>\n",
       "    <tr>\n",
       "      <th>[-3.0, -2.0)</th>\n",
       "      <td>109</td>\n",
       "    </tr>\n",
       "    <tr>\n",
       "      <th>[-2.0, -1.0)</th>\n",
       "      <td>109</td>\n",
       "    </tr>\n",
       "    <tr>\n",
       "      <th>[-1.0, 0.0)</th>\n",
       "      <td>95</td>\n",
       "    </tr>\n",
       "    <tr>\n",
       "      <th>[0.0, 1.0)</th>\n",
       "      <td>104</td>\n",
       "    </tr>\n",
       "    <tr>\n",
       "      <th>[1.0, 2.0)</th>\n",
       "      <td>102</td>\n",
       "    </tr>\n",
       "    <tr>\n",
       "      <th>[2.0, 3.0)</th>\n",
       "      <td>106</td>\n",
       "    </tr>\n",
       "    <tr>\n",
       "      <th>[3.0, 4.0)</th>\n",
       "      <td>112</td>\n",
       "    </tr>\n",
       "    <tr>\n",
       "      <th>[4.0, 5.0)</th>\n",
       "      <td>122</td>\n",
       "    </tr>\n",
       "  </tbody>\n",
       "</table>\n",
       "</div>"
      ],
      "text/plain": [
       "                   unweighted\n",
       "pass [-5.0, -4.0)           9\n",
       "     [-4.0, -3.0)          25\n",
       "     [-3.0, -2.0)          29\n",
       "     [-2.0, -1.0)          35\n",
       "     [-1.0, 0.0)           54\n",
       "     [0.0, 1.0)            67\n",
       "     [1.0, 2.0)            60\n",
       "     [2.0, 3.0)            84\n",
       "     [3.0, 4.0)            80\n",
       "     [4.0, 5.0)            94\n",
       "all  [-5.0, -4.0)          99\n",
       "     [-4.0, -3.0)         119\n",
       "     [-3.0, -2.0)         109\n",
       "     [-2.0, -1.0)         109\n",
       "     [-1.0, 0.0)           95\n",
       "     [0.0, 1.0)           104\n",
       "     [1.0, 2.0)           102\n",
       "     [2.0, 3.0)           106\n",
       "     [3.0, 4.0)           112\n",
       "     [4.0, 5.0)           122"
      ]
     },
     "execution_count": 16,
     "metadata": {},
     "output_type": "execute_result"
    }
   ],
   "source": [
    "h = stagg.Histogram([stagg.Axis(stagg.FractionBinning()),\n",
    "                     stagg.Axis(stagg.RegularBinning(10, stagg.RealInterval(-5, 5)))],\n",
    "                    stagg.UnweightedCounts(\n",
    "                        stagg.InterpretedInlineBuffer.fromarray(\n",
    "                            numpy.array([[  9,  25,  29,  35,  54,  67,  60,  84,  80,  94],\n",
    "                                         [ 99, 119, 109, 109,  95, 104, 102, 106, 112, 122]]))))\n",
    "df = stagg.connect.pandas.topandas(h)\n",
    "df"
   ]
  },
  {
   "cell_type": "code",
   "execution_count": 17,
   "metadata": {},
   "outputs": [
    {
     "data": {
      "text/html": [
       "<div>\n",
       "<style scoped>\n",
       "    .dataframe tbody tr th:only-of-type {\n",
       "        vertical-align: middle;\n",
       "    }\n",
       "\n",
       "    .dataframe tbody tr th {\n",
       "        vertical-align: top;\n",
       "    }\n",
       "\n",
       "    .dataframe thead tr th {\n",
       "        text-align: left;\n",
       "    }\n",
       "</style>\n",
       "<table border=\"1\" class=\"dataframe\">\n",
       "  <thead>\n",
       "    <tr>\n",
       "      <th></th>\n",
       "      <th colspan=\"2\" halign=\"left\">unweighted</th>\n",
       "    </tr>\n",
       "    <tr>\n",
       "      <th></th>\n",
       "      <th>all</th>\n",
       "      <th>pass</th>\n",
       "    </tr>\n",
       "  </thead>\n",
       "  <tbody>\n",
       "    <tr>\n",
       "      <th>[-5.0, -4.0)</th>\n",
       "      <td>99</td>\n",
       "      <td>9</td>\n",
       "    </tr>\n",
       "    <tr>\n",
       "      <th>[-4.0, -3.0)</th>\n",
       "      <td>119</td>\n",
       "      <td>25</td>\n",
       "    </tr>\n",
       "    <tr>\n",
       "      <th>[-3.0, -2.0)</th>\n",
       "      <td>109</td>\n",
       "      <td>29</td>\n",
       "    </tr>\n",
       "    <tr>\n",
       "      <th>[-2.0, -1.0)</th>\n",
       "      <td>109</td>\n",
       "      <td>35</td>\n",
       "    </tr>\n",
       "    <tr>\n",
       "      <th>[-1.0, 0.0)</th>\n",
       "      <td>95</td>\n",
       "      <td>54</td>\n",
       "    </tr>\n",
       "    <tr>\n",
       "      <th>[0.0, 1.0)</th>\n",
       "      <td>104</td>\n",
       "      <td>67</td>\n",
       "    </tr>\n",
       "    <tr>\n",
       "      <th>[1.0, 2.0)</th>\n",
       "      <td>102</td>\n",
       "      <td>60</td>\n",
       "    </tr>\n",
       "    <tr>\n",
       "      <th>[2.0, 3.0)</th>\n",
       "      <td>106</td>\n",
       "      <td>84</td>\n",
       "    </tr>\n",
       "    <tr>\n",
       "      <th>[3.0, 4.0)</th>\n",
       "      <td>112</td>\n",
       "      <td>80</td>\n",
       "    </tr>\n",
       "    <tr>\n",
       "      <th>[4.0, 5.0)</th>\n",
       "      <td>122</td>\n",
       "      <td>94</td>\n",
       "    </tr>\n",
       "  </tbody>\n",
       "</table>\n",
       "</div>"
      ],
      "text/plain": [
       "             unweighted     \n",
       "                    all pass\n",
       "[-5.0, -4.0)         99    9\n",
       "[-4.0, -3.0)        119   25\n",
       "[-3.0, -2.0)        109   29\n",
       "[-2.0, -1.0)        109   35\n",
       "[-1.0, 0.0)          95   54\n",
       "[0.0, 1.0)          104   67\n",
       "[1.0, 2.0)          102   60\n",
       "[2.0, 3.0)          106   84\n",
       "[3.0, 4.0)          112   80\n",
       "[4.0, 5.0)          122   94"
      ]
     },
     "execution_count": 17,
     "metadata": {},
     "output_type": "execute_result"
    }
   ],
   "source": [
    "df = df.unstack(level=0)\n",
    "df"
   ]
  },
  {
   "cell_type": "code",
   "execution_count": 18,
   "metadata": {},
   "outputs": [
    {
     "data": {
      "text/plain": [
       "[-5.0, -4.0)    0.090909\n",
       "[-4.0, -3.0)    0.210084\n",
       "[-3.0, -2.0)    0.266055\n",
       "[-2.0, -1.0)    0.321101\n",
       "[-1.0, 0.0)     0.568421\n",
       "[0.0, 1.0)      0.644231\n",
       "[1.0, 2.0)      0.588235\n",
       "[2.0, 3.0)      0.792453\n",
       "[3.0, 4.0)      0.714286\n",
       "[4.0, 5.0)      0.770492\n",
       "dtype: float64"
      ]
     },
     "execution_count": 18,
     "metadata": {},
     "output_type": "execute_result"
    }
   ],
   "source": [
    "df[\"unweighted\", \"pass\"] / df[\"unweighted\", \"all\"]"
   ]
  },
  {
   "cell_type": "markdown",
   "metadata": {},
   "source": [
    "`PredicateBinning` means that each bin represents a predicate (if-then rule) in the filling procedure. Stagg doesn't _have_ a filling procedure, but filling-libraries can use this to encode relationships among histograms that a fitting-library can take advantage of, for combined signal-control region fits, for instance. It's possible for those regions to overlap: an input datum might satisfy more than one predicate, and `overlapping_fill` determines which bin(s) were chosen: `first`, `last`, or `all`.\n",
    "\n",
    "`VariationBinning` means that each bin represents a variation of one of the paramters used to calculate the fill-variables. This is used to determine sensitivity to systematic effects, by varying them and re-filling. In this kind of binning, the same input datum enters every bin."
   ]
  },
  {
   "cell_type": "code",
   "execution_count": 19,
   "metadata": {},
   "outputs": [
    {
     "data": {
      "text/html": [
       "<div>\n",
       "<style scoped>\n",
       "    .dataframe tbody tr th:only-of-type {\n",
       "        vertical-align: middle;\n",
       "    }\n",
       "\n",
       "    .dataframe tbody tr th {\n",
       "        vertical-align: top;\n",
       "    }\n",
       "\n",
       "    .dataframe thead th {\n",
       "        text-align: right;\n",
       "    }\n",
       "</style>\n",
       "<table border=\"1\" class=\"dataframe\">\n",
       "  <thead>\n",
       "    <tr style=\"text-align: right;\">\n",
       "      <th></th>\n",
       "      <th></th>\n",
       "      <th>unweighted</th>\n",
       "    </tr>\n",
       "  </thead>\n",
       "  <tbody>\n",
       "    <tr>\n",
       "      <th rowspan=\"10\" valign=\"top\">x := nominal</th>\n",
       "      <th>[-5.0, -4.0)</th>\n",
       "      <td>30</td>\n",
       "    </tr>\n",
       "    <tr>\n",
       "      <th>[-4.0, -3.0)</th>\n",
       "      <td>1322</td>\n",
       "    </tr>\n",
       "    <tr>\n",
       "      <th>[-3.0, -2.0)</th>\n",
       "      <td>21536</td>\n",
       "    </tr>\n",
       "    <tr>\n",
       "      <th>[-2.0, -1.0)</th>\n",
       "      <td>136272</td>\n",
       "    </tr>\n",
       "    <tr>\n",
       "      <th>[-1.0, 0.0)</th>\n",
       "      <td>341895</td>\n",
       "    </tr>\n",
       "    <tr>\n",
       "      <th>[0.0, 1.0)</th>\n",
       "      <td>340137</td>\n",
       "    </tr>\n",
       "    <tr>\n",
       "      <th>[1.0, 2.0)</th>\n",
       "      <td>136223</td>\n",
       "    </tr>\n",
       "    <tr>\n",
       "      <th>[2.0, 3.0)</th>\n",
       "      <td>21256</td>\n",
       "    </tr>\n",
       "    <tr>\n",
       "      <th>[3.0, 4.0)</th>\n",
       "      <td>1307</td>\n",
       "    </tr>\n",
       "    <tr>\n",
       "      <th>[4.0, 5.0)</th>\n",
       "      <td>22</td>\n",
       "    </tr>\n",
       "    <tr>\n",
       "      <th rowspan=\"10\" valign=\"top\">x := nominal + sigma</th>\n",
       "      <th>[-5.0, -4.0)</th>\n",
       "      <td>13</td>\n",
       "    </tr>\n",
       "    <tr>\n",
       "      <th>[-4.0, -3.0)</th>\n",
       "      <td>559</td>\n",
       "    </tr>\n",
       "    <tr>\n",
       "      <th>[-3.0, -2.0)</th>\n",
       "      <td>10929</td>\n",
       "    </tr>\n",
       "    <tr>\n",
       "      <th>[-2.0, -1.0)</th>\n",
       "      <td>84503</td>\n",
       "    </tr>\n",
       "    <tr>\n",
       "      <th>[-1.0, 0.0)</th>\n",
       "      <td>272182</td>\n",
       "    </tr>\n",
       "    <tr>\n",
       "      <th>[0.0, 1.0)</th>\n",
       "      <td>367686</td>\n",
       "    </tr>\n",
       "    <tr>\n",
       "      <th>[1.0, 2.0)</th>\n",
       "      <td>209070</td>\n",
       "    </tr>\n",
       "    <tr>\n",
       "      <th>[2.0, 3.0)</th>\n",
       "      <td>50053</td>\n",
       "    </tr>\n",
       "    <tr>\n",
       "      <th>[3.0, 4.0)</th>\n",
       "      <td>4839</td>\n",
       "    </tr>\n",
       "    <tr>\n",
       "      <th>[4.0, 5.0)</th>\n",
       "      <td>164</td>\n",
       "    </tr>\n",
       "  </tbody>\n",
       "</table>\n",
       "</div>"
      ],
      "text/plain": [
       "                                   unweighted\n",
       "x := nominal         [-5.0, -4.0)          30\n",
       "                     [-4.0, -3.0)        1322\n",
       "                     [-3.0, -2.0)       21536\n",
       "                     [-2.0, -1.0)      136272\n",
       "                     [-1.0, 0.0)       341895\n",
       "                     [0.0, 1.0)        340137\n",
       "                     [1.0, 2.0)        136223\n",
       "                     [2.0, 3.0)         21256\n",
       "                     [3.0, 4.0)          1307\n",
       "                     [4.0, 5.0)            22\n",
       "x := nominal + sigma [-5.0, -4.0)          13\n",
       "                     [-4.0, -3.0)         559\n",
       "                     [-3.0, -2.0)       10929\n",
       "                     [-2.0, -1.0)       84503\n",
       "                     [-1.0, 0.0)       272182\n",
       "                     [0.0, 1.0)        367686\n",
       "                     [1.0, 2.0)        209070\n",
       "                     [2.0, 3.0)         50053\n",
       "                     [3.0, 4.0)          4839\n",
       "                     [4.0, 5.0)           164"
      ]
     },
     "execution_count": 19,
     "metadata": {},
     "output_type": "execute_result"
    }
   ],
   "source": [
    "xdata = numpy.random.normal(0, 1, int(1e6))\n",
    "sigma = numpy.random.uniform(-0.1, 0.8, int(1e6))\n",
    "\n",
    "h = stagg.Histogram([stagg.Axis(stagg.VariationBinning([\n",
    "                        stagg.Variation([stagg.Assignment(\"x\", \"nominal\")]),\n",
    "                        stagg.Variation([stagg.Assignment(\"x\", \"nominal + sigma\")])])),\n",
    "                     stagg.Axis(stagg.RegularBinning(10, stagg.RealInterval(-5, 5)))],\n",
    "                    stagg.UnweightedCounts(\n",
    "                        stagg.InterpretedInlineBuffer.fromarray(\n",
    "                            numpy.concatenate([\n",
    "                                numpy.histogram(xdata, bins=10, range=(-5, 5))[0],\n",
    "                                numpy.histogram(xdata + sigma, bins=10, range=(-5, 5))[0]]))))\n",
    "df = stagg.connect.pandas.topandas(h)\n",
    "df"
   ]
  },
  {
   "cell_type": "code",
   "execution_count": 20,
   "metadata": {},
   "outputs": [
    {
     "data": {
      "text/html": [
       "<div>\n",
       "<style scoped>\n",
       "    .dataframe tbody tr th:only-of-type {\n",
       "        vertical-align: middle;\n",
       "    }\n",
       "\n",
       "    .dataframe tbody tr th {\n",
       "        vertical-align: top;\n",
       "    }\n",
       "\n",
       "    .dataframe thead tr th {\n",
       "        text-align: left;\n",
       "    }\n",
       "</style>\n",
       "<table border=\"1\" class=\"dataframe\">\n",
       "  <thead>\n",
       "    <tr>\n",
       "      <th></th>\n",
       "      <th colspan=\"2\" halign=\"left\">unweighted</th>\n",
       "    </tr>\n",
       "    <tr>\n",
       "      <th></th>\n",
       "      <th>x := nominal</th>\n",
       "      <th>x := nominal + sigma</th>\n",
       "    </tr>\n",
       "  </thead>\n",
       "  <tbody>\n",
       "    <tr>\n",
       "      <th>[-5.0, -4.0)</th>\n",
       "      <td>30</td>\n",
       "      <td>13</td>\n",
       "    </tr>\n",
       "    <tr>\n",
       "      <th>[-4.0, -3.0)</th>\n",
       "      <td>1322</td>\n",
       "      <td>559</td>\n",
       "    </tr>\n",
       "    <tr>\n",
       "      <th>[-3.0, -2.0)</th>\n",
       "      <td>21536</td>\n",
       "      <td>10929</td>\n",
       "    </tr>\n",
       "    <tr>\n",
       "      <th>[-2.0, -1.0)</th>\n",
       "      <td>136272</td>\n",
       "      <td>84503</td>\n",
       "    </tr>\n",
       "    <tr>\n",
       "      <th>[-1.0, 0.0)</th>\n",
       "      <td>341895</td>\n",
       "      <td>272182</td>\n",
       "    </tr>\n",
       "    <tr>\n",
       "      <th>[0.0, 1.0)</th>\n",
       "      <td>340137</td>\n",
       "      <td>367686</td>\n",
       "    </tr>\n",
       "    <tr>\n",
       "      <th>[1.0, 2.0)</th>\n",
       "      <td>136223</td>\n",
       "      <td>209070</td>\n",
       "    </tr>\n",
       "    <tr>\n",
       "      <th>[2.0, 3.0)</th>\n",
       "      <td>21256</td>\n",
       "      <td>50053</td>\n",
       "    </tr>\n",
       "    <tr>\n",
       "      <th>[3.0, 4.0)</th>\n",
       "      <td>1307</td>\n",
       "      <td>4839</td>\n",
       "    </tr>\n",
       "    <tr>\n",
       "      <th>[4.0, 5.0)</th>\n",
       "      <td>22</td>\n",
       "      <td>164</td>\n",
       "    </tr>\n",
       "  </tbody>\n",
       "</table>\n",
       "</div>"
      ],
      "text/plain": [
       "               unweighted                     \n",
       "             x := nominal x := nominal + sigma\n",
       "[-5.0, -4.0)           30                   13\n",
       "[-4.0, -3.0)         1322                  559\n",
       "[-3.0, -2.0)        21536                10929\n",
       "[-2.0, -1.0)       136272                84503\n",
       "[-1.0, 0.0)        341895               272182\n",
       "[0.0, 1.0)         340137               367686\n",
       "[1.0, 2.0)         136223               209070\n",
       "[2.0, 3.0)          21256                50053\n",
       "[3.0, 4.0)           1307                 4839\n",
       "[4.0, 5.0)             22                  164"
      ]
     },
     "execution_count": 20,
     "metadata": {},
     "output_type": "execute_result"
    }
   ],
   "source": [
    "df.unstack(level=0)"
   ]
  },
  {
   "cell_type": "markdown",
   "metadata": {},
   "source": [
    "## Collections\n",
    "\n",
    "You can gather many objects (histograms, functions, ntuples) into a `Collection`, partly for convenience of encapsulating all of them in one object."
   ]
  },
  {
   "cell_type": "code",
   "execution_count": 21,
   "metadata": {},
   "outputs": [
    {
     "name": "stdout",
     "output_type": "stream",
     "text": [
      "Collection(\n",
      "  objects={\n",
      "    'one': Histogram(\n",
      "      axis=[\n",
      "        Axis(\n",
      "          binning=\n",
      "            RegularBinning(\n",
      "              num=80,\n",
      "              interval=RealInterval(low=-5.0, high=5.0),\n",
      "              overflow=RealOverflow(loc_underflow=BinLocation.below1, loc_overflow=BinLocation.above1)),\n",
      "          statistics=[\n",
      "            Statistics(\n",
      "              moments=[\n",
      "                Moments(sumwxn=InterpretedInlineInt64Buffer(buffer=[1e+07]), n=0),\n",
      "                Moments(sumwxn=InterpretedInlineFloat64Buffer(buffer=[1e+07]), n=0, weightpower=1),\n",
      "                Moments(sumwxn=InterpretedInlineFloat64Buffer(buffer=[1e+07]), n=0, weightpower=2),\n",
      "                Moments(sumwxn=InterpretedInlineFloat64Buffer(buffer=[1251]), n=1, weightpower=1),\n",
      "                Moments(\n",
      "                  sumwxn=InterpretedInlineFloat64Buffer(buffer=[1.00081e+07]),\n",
      "                  n=2,\n",
      "                  weightpower=1)\n",
      "              ])\n",
      "          ])\n",
      "      ],\n",
      "      counts=\n",
      "        UnweightedCounts(\n",
      "          counts=\n",
      "            InterpretedInlineFloat64Buffer(\n",
      "              buffer=\n",
      "                  [0.00000e+00 1.00000e+00 5.00000e+00 7.00000e+00 5.00000e+00 3.30000e+01\n",
      "                   3.30000e+01 8.60000e+01 1.31000e+02 2.31000e+02 3.72000e+02 5.35000e+02\n",
      "                   8.30000e+02 1.32800e+03 2.04000e+03 3.08300e+03 4.65900e+03 6.65800e+03\n",
      "                   9.39600e+03 1.33590e+04 1.87810e+04 2.55170e+04 3.43320e+04 4.56930e+04\n",
      "                   5.94260e+04 7.62530e+04 9.66630e+04 1.20033e+05 1.47445e+05 1.78282e+05\n",
      "                   2.10477e+05 2.46754e+05 2.83516e+05 3.21796e+05 3.58848e+05 3.94406e+05\n",
      "                   4.26514e+05 4.52504e+05 4.74519e+05 4.88075e+05 4.96935e+05 4.97412e+05\n",
      "                   4.90101e+05 4.74491e+05 4.51690e+05 4.25318e+05 3.93808e+05 3.59420e+05\n",
      "                   3.21822e+05 2.83949e+05 2.45722e+05 2.11360e+05 1.77348e+05 1.46944e+05\n",
      "                   1.20554e+05 9.70670e+04 7.62200e+04 5.95240e+04 4.53860e+04 3.45090e+04\n",
      "                   2.58060e+04 1.85600e+04 1.35730e+04 9.62300e+03 6.65200e+03 4.57500e+03\n",
      "                   3.13900e+03 2.12300e+03 1.38700e+03 8.98000e+02 5.53000e+02 3.73000e+02\n",
      "                   2.19000e+02 1.34000e+02 7.30000e+01 5.40000e+01 1.70000e+01 1.40000e+01\n",
      "                   1.00000e+01 5.00000e+00 4.00000e+00 0.00000e+00]))),\n",
      "    'two': Histogram(\n",
      "      axis=[\n",
      "        Axis(binning=RegularBinning(num=80, interval=RealInterval(low=-5.0, high=5.0)))\n",
      "      ],\n",
      "      counts=\n",
      "        UnweightedCounts(\n",
      "          counts=\n",
      "            InterpretedInlineInt64Buffer(\n",
      "              buffer=\n",
      "                  [     1      5      7      5     33     33     86    131    231    372\n",
      "                      535    830   1328   2040   3083   4659   6658   9396  13359  18781\n",
      "                    25517  34332  45693  59426  76253  96663 120033 147445 178282 210477\n",
      "                   246754 283516 321796 358848 394406 426514 452504 474519 488075 496935\n",
      "                   497412 490101 474491 451690 425318 393808 359420 321822 283949 245722\n",
      "                   211360 177348 146944 120554  97067  76220  59524  45386  34509  25806\n",
      "                    18560  13573   9623   6652   4575   3139   2123   1387    898    553\n",
      "                      373    219    134     73     54     17     14     10      5      4])))\n",
      "  })\n"
     ]
    }
   ],
   "source": [
    "stagg.Collection({\"one\": fromroot, \"two\": stagg_hist}).dump()"
   ]
  },
  {
   "cell_type": "markdown",
   "metadata": {},
   "source": [
    "Not only for convenience: [you can also define](https://github.com/diana-hep/stagg/blob/master/specification.adoc#Collection) an `Axis` in the `Collection` to subdivide all contents by that `Axis`. For instance, you can make a collection of qualitatively different histograms all have a signal and control region with `PredicateBinning`, or all have systematic variations with `VariationBinning`.\n",
    "\n",
    "It is not necessary to rely on naming conventions to communicate this information from filler to fitter."
   ]
  },
  {
   "cell_type": "markdown",
   "metadata": {},
   "source": [
    "## Histogram → histogram conversions\n",
    "\n",
    "I said in the introduction that Stagg does not fill histograms and does not plot histograms—the two things data analysts are expecting to do. These would be done by user-facing libraries.\n",
    "\n",
    "Stagg does, however, transform histograms into other histograms, and not just among formats. You can combine histograms with `+`. In addition to adding histogram counts, it combines auxiliary statistics appropriately (if possible)."
   ]
  },
  {
   "cell_type": "code",
   "execution_count": 22,
   "metadata": {},
   "outputs": [],
   "source": [
    "h1 = stagg.Histogram([\n",
    "    stagg.Axis(stagg.RegularBinning(10, stagg.RealInterval(-5, 5)),\n",
    "               statistics=[stagg.Statistics(\n",
    "                   moments=[\n",
    "                       stagg.Moments(stagg.InterpretedInlineBuffer.fromarray(numpy.array([10])), n=1),\n",
    "                       stagg.Moments(stagg.InterpretedInlineBuffer.fromarray(numpy.array([10])), n=2)],\n",
    "                   quantiles=[\n",
    "                       stagg.Quantiles(stagg.InterpretedInlineBuffer.fromarray(numpy.array([10])), p=0.5)],\n",
    "                   mode=stagg.Modes(stagg.InterpretedInlineBuffer.fromarray(numpy.array([10]))),\n",
    "                   min=stagg.Extremes(stagg.InterpretedInlineBuffer.fromarray(numpy.array([10]))),\n",
    "                   max=stagg.Extremes(stagg.InterpretedInlineBuffer.fromarray(numpy.array([10]))))])],\n",
    "    stagg.UnweightedCounts(stagg.InterpretedInlineBuffer.fromarray(numpy.arange(10))))\n",
    "h2 = stagg.Histogram([\n",
    "    stagg.Axis(stagg.RegularBinning(10, stagg.RealInterval(-5, 5)),\n",
    "               statistics=[stagg.Statistics(\n",
    "                   moments=[\n",
    "                       stagg.Moments(stagg.InterpretedInlineBuffer.fromarray(numpy.array([100])), n=1),\n",
    "                       stagg.Moments(stagg.InterpretedInlineBuffer.fromarray(numpy.array([100])), n=2)],\n",
    "                   quantiles=[\n",
    "                       stagg.Quantiles(stagg.InterpretedInlineBuffer.fromarray(numpy.array([100])), p=0.5)],\n",
    "                   mode=stagg.Modes(stagg.InterpretedInlineBuffer.fromarray(numpy.array([100]))),\n",
    "                   min=stagg.Extremes(stagg.InterpretedInlineBuffer.fromarray(numpy.array([100]))),\n",
    "                   max=stagg.Extremes(stagg.InterpretedInlineBuffer.fromarray(numpy.array([100]))))])],\n",
    "    stagg.UnweightedCounts(stagg.InterpretedInlineBuffer.fromarray(numpy.arange(10))))"
   ]
  },
  {
   "cell_type": "code",
   "execution_count": 23,
   "metadata": {},
   "outputs": [
    {
     "name": "stdout",
     "output_type": "stream",
     "text": [
      "Histogram(\n",
      "  axis=[\n",
      "    Axis(\n",
      "      binning=RegularBinning(num=10, interval=RealInterval(low=-5.0, high=5.0)),\n",
      "      statistics=[\n",
      "        Statistics(\n",
      "          moments=[\n",
      "            Moments(sumwxn=InterpretedInlineInt64Buffer(buffer=[110]), n=1),\n",
      "            Moments(sumwxn=InterpretedInlineInt64Buffer(buffer=[110]), n=2)\n",
      "          ],\n",
      "          min=Extremes(values=InterpretedInlineInt64Buffer(buffer=[10])),\n",
      "          max=Extremes(values=InterpretedInlineInt64Buffer(buffer=[100])))\n",
      "      ])\n",
      "  ],\n",
      "  counts=UnweightedCounts(counts=InterpretedInlineInt64Buffer(buffer=[0 2 4 6 8 10 12 14 16 18])))\n"
     ]
    }
   ],
   "source": [
    "(h1 + h2).dump()"
   ]
  },
  {
   "cell_type": "code",
   "execution_count": null,
   "metadata": {},
   "outputs": [],
   "source": []
  }
 ],
 "metadata": {
  "kernelspec": {
   "display_name": "Python 3",
   "language": "python",
   "name": "python3"
  },
  "language_info": {
   "codemirror_mode": {
    "name": "ipython",
    "version": 3
   },
   "file_extension": ".py",
   "mimetype": "text/x-python",
   "name": "python",
   "nbconvert_exporter": "python",
   "pygments_lexer": "ipython3",
   "version": "3.7.2"
  }
 },
 "nbformat": 4,
 "nbformat_minor": 2
}
