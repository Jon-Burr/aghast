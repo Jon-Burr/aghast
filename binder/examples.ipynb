{
 "cells": [
  {
   "cell_type": "markdown",
   "metadata": {},
   "source": [
    "# Stagg examples"
   ]
  },
  {
   "cell_type": "markdown",
   "metadata": {},
   "source": [
    "## Conversions\n",
    "\n",
    "The main purpose of Stagg is to move **st**atistical **agg**reggations, such as histograms, from one framework to the next. This requires a conversion of high-level domain concepts.\n",
    "\n",
    "Consider the following example: in Numpy, a histogram is simply a 2-tuple of arrays with special meaning—bin contents, then bin edges."
   ]
  },
  {
   "cell_type": "code",
   "execution_count": 1,
   "metadata": {},
   "outputs": [
    {
     "data": {
      "text/plain": [
       "(array([     5,      6,     11,     17,     24,     36,     92,    153,\n",
       "           216,    339,    568,    919,   1365,   2123,   3120,   4601,\n",
       "          6601,   9827,  13522,  18855,  25463,  34319,  45627,  59252,\n",
       "         75957,  96428, 120693, 147142, 177340, 210846, 246321, 284183,\n",
       "        321165, 357582, 393704, 425717, 453391, 473174, 489798, 495525,\n",
       "        497347, 490840, 474602, 453037, 424795, 393574, 358691, 320922,\n",
       "        284138, 247136, 211133, 178113, 147084, 120576,  96548,  77119,\n",
       "         59747,  45863,  34838,  25605,  18718,  13420,   9819,   6845,\n",
       "          4490,   3179,   2030,   1321,    947,    573,    364,    219,\n",
       "           145,     83,     47,     29,     10,      8,      9,      6]),\n",
       " array([-5.   , -4.875, -4.75 , -4.625, -4.5  , -4.375, -4.25 , -4.125,\n",
       "        -4.   , -3.875, -3.75 , -3.625, -3.5  , -3.375, -3.25 , -3.125,\n",
       "        -3.   , -2.875, -2.75 , -2.625, -2.5  , -2.375, -2.25 , -2.125,\n",
       "        -2.   , -1.875, -1.75 , -1.625, -1.5  , -1.375, -1.25 , -1.125,\n",
       "        -1.   , -0.875, -0.75 , -0.625, -0.5  , -0.375, -0.25 , -0.125,\n",
       "         0.   ,  0.125,  0.25 ,  0.375,  0.5  ,  0.625,  0.75 ,  0.875,\n",
       "         1.   ,  1.125,  1.25 ,  1.375,  1.5  ,  1.625,  1.75 ,  1.875,\n",
       "         2.   ,  2.125,  2.25 ,  2.375,  2.5  ,  2.625,  2.75 ,  2.875,\n",
       "         3.   ,  3.125,  3.25 ,  3.375,  3.5  ,  3.625,  3.75 ,  3.875,\n",
       "         4.   ,  4.125,  4.25 ,  4.375,  4.5  ,  4.625,  4.75 ,  4.875,\n",
       "         5.   ]))"
      ]
     },
     "execution_count": 1,
     "metadata": {},
     "output_type": "execute_result"
    }
   ],
   "source": [
    "import numpy\n",
    "\n",
    "numpy_hist = numpy.histogram(numpy.random.normal(0, 1, int(10e6)), bins=80, range=(-5, 5))\n",
    "numpy_hist"
   ]
  },
  {
   "cell_type": "markdown",
   "metadata": {},
   "source": [
    "We convert that into its Stagg equivalent with a connector (two-function module: `tostagg` and `tonumpy`)."
   ]
  },
  {
   "cell_type": "code",
   "execution_count": 2,
   "metadata": {},
   "outputs": [
    {
     "data": {
      "text/plain": [
       "<Histogram at 0x7c6e566cf710>"
      ]
     },
     "execution_count": 2,
     "metadata": {},
     "output_type": "execute_result"
    }
   ],
   "source": [
    "import stagg.connect.numpy\n",
    "\n",
    "stagg_hist = stagg.connect.numpy.tostagg(numpy_hist)\n",
    "stagg_hist"
   ]
  },
  {
   "cell_type": "markdown",
   "metadata": {},
   "source": [
    "This object is instantiated from a class structure built from simple pieces."
   ]
  },
  {
   "cell_type": "code",
   "execution_count": 3,
   "metadata": {},
   "outputs": [
    {
     "name": "stdout",
     "output_type": "stream",
     "text": [
      "Histogram(\n",
      "  axis=[\n",
      "    Axis(binning=RegularBinning(num=80, interval=RealInterval(low=-5.0, high=5.0)))\n",
      "  ],\n",
      "  counts=\n",
      "    UnweightedCounts(\n",
      "      counts=\n",
      "        InterpretedInlineInt64Buffer(\n",
      "          buffer=\n",
      "              [     5      6     11     17     24     36     92    153    216    339\n",
      "                  568    919   1365   2123   3120   4601   6601   9827  13522  18855\n",
      "                25463  34319  45627  59252  75957  96428 120693 147142 177340 210846\n",
      "               246321 284183 321165 357582 393704 425717 453391 473174 489798 495525\n",
      "               497347 490840 474602 453037 424795 393574 358691 320922 284138 247136\n",
      "               211133 178113 147084 120576  96548  77119  59747  45863  34838  25605\n",
      "                18718  13420   9819   6845   4490   3179   2030   1321    947    573\n",
      "                  364    219    145     83     47     29     10      8      9      6])))\n"
     ]
    }
   ],
   "source": [
    "stagg_hist.dump()"
   ]
  },
  {
   "cell_type": "markdown",
   "metadata": {},
   "source": [
    "Now it can be converted to a ROOT histogram with another connector."
   ]
  },
  {
   "cell_type": "code",
   "execution_count": 4,
   "metadata": {},
   "outputs": [
    {
     "name": "stdout",
     "output_type": "stream",
     "text": [
      "Welcome to JupyROOT 6.14/04\n"
     ]
    },
    {
     "data": {
      "text/plain": [
       "<ROOT.TH1D object (\"root_hist\") at 0x5f18a929d280>"
      ]
     },
     "execution_count": 4,
     "metadata": {},
     "output_type": "execute_result"
    }
   ],
   "source": [
    "import stagg.connect.root\n",
    "\n",
    "root_hist = stagg.connect.root.toroot(stagg_hist, \"root_hist\")\n",
    "root_hist"
   ]
  },
  {
   "cell_type": "code",
   "execution_count": 5,
   "metadata": {},
   "outputs": [
    {
     "data": {
      "image/png": "[encoded data removed]",
      "text/plain": [
       "<IPython.core.display.Image object>"
      ]
     },
     "metadata": {},
     "output_type": "display_data"
    }
   ],
   "source": [
    "import ROOT\n",
    "canvas = ROOT.TCanvas()\n",
    "root_hist.Draw()\n",
    "canvas.Draw()"
   ]
  },
  {
   "cell_type": "markdown",
   "metadata": {},
   "source": [
    "And Pandas with yet another connector."
   ]
  },
  {
   "cell_type": "code",
   "execution_count": 6,
   "metadata": {},
   "outputs": [
    {
     "data": {
      "text/html": [
       "<div>\n",
       "<style scoped>\n",
       "    .dataframe tbody tr th:only-of-type {\n",
       "        vertical-align: middle;\n",
       "    }\n",
       "\n",
       "    .dataframe tbody tr th {\n",
       "        vertical-align: top;\n",
       "    }\n",
       "\n",
       "    .dataframe thead th {\n",
       "        text-align: right;\n",
       "    }\n",
       "</style>\n",
       "<table border=\"1\" class=\"dataframe\">\n",
       "  <thead>\n",
       "    <tr style=\"text-align: right;\">\n",
       "      <th></th>\n",
       "      <th>unweighted</th>\n",
       "    </tr>\n",
       "  </thead>\n",
       "  <tbody>\n",
       "    <tr>\n",
       "      <th>[-5.0, -4.875)</th>\n",
       "      <td>5</td>\n",
       "    </tr>\n",
       "    <tr>\n",
       "      <th>[-4.875, -4.75)</th>\n",
       "      <td>6</td>\n",
       "    </tr>\n",
       "    <tr>\n",
       "      <th>[-4.75, -4.625)</th>\n",
       "      <td>11</td>\n",
       "    </tr>\n",
       "    <tr>\n",
       "      <th>[-4.625, -4.5)</th>\n",
       "      <td>17</td>\n",
       "    </tr>\n",
       "    <tr>\n",
       "      <th>[-4.5, -4.375)</th>\n",
       "      <td>24</td>\n",
       "    </tr>\n",
       "    <tr>\n",
       "      <th>[-4.375, -4.25)</th>\n",
       "      <td>36</td>\n",
       "    </tr>\n",
       "    <tr>\n",
       "      <th>[-4.25, -4.125)</th>\n",
       "      <td>92</td>\n",
       "    </tr>\n",
       "    <tr>\n",
       "      <th>[-4.125, -4.0)</th>\n",
       "      <td>153</td>\n",
       "    </tr>\n",
       "    <tr>\n",
       "      <th>[-4.0, -3.875)</th>\n",
       "      <td>216</td>\n",
       "    </tr>\n",
       "    <tr>\n",
       "      <th>[-3.875, -3.75)</th>\n",
       "      <td>339</td>\n",
       "    </tr>\n",
       "    <tr>\n",
       "      <th>[-3.75, -3.625)</th>\n",
       "      <td>568</td>\n",
       "    </tr>\n",
       "    <tr>\n",
       "      <th>[-3.625, -3.5)</th>\n",
       "      <td>919</td>\n",
       "    </tr>\n",
       "    <tr>\n",
       "      <th>[-3.5, -3.375)</th>\n",
       "      <td>1365</td>\n",
       "    </tr>\n",
       "    <tr>\n",
       "      <th>[-3.375, -3.25)</th>\n",
       "      <td>2123</td>\n",
       "    </tr>\n",
       "    <tr>\n",
       "      <th>[-3.25, -3.125)</th>\n",
       "      <td>3120</td>\n",
       "    </tr>\n",
       "    <tr>\n",
       "      <th>[-3.125, -3.0)</th>\n",
       "      <td>4601</td>\n",
       "    </tr>\n",
       "    <tr>\n",
       "      <th>[-3.0, -2.875)</th>\n",
       "      <td>6601</td>\n",
       "    </tr>\n",
       "    <tr>\n",
       "      <th>[-2.875, -2.75)</th>\n",
       "      <td>9827</td>\n",
       "    </tr>\n",
       "    <tr>\n",
       "      <th>[-2.75, -2.625)</th>\n",
       "      <td>13522</td>\n",
       "    </tr>\n",
       "    <tr>\n",
       "      <th>[-2.625, -2.5)</th>\n",
       "      <td>18855</td>\n",
       "    </tr>\n",
       "    <tr>\n",
       "      <th>[-2.5, -2.375)</th>\n",
       "      <td>25463</td>\n",
       "    </tr>\n",
       "    <tr>\n",
       "      <th>[-2.375, -2.25)</th>\n",
       "      <td>34319</td>\n",
       "    </tr>\n",
       "    <tr>\n",
       "      <th>[-2.25, -2.125)</th>\n",
       "      <td>45627</td>\n",
       "    </tr>\n",
       "    <tr>\n",
       "      <th>[-2.125, -2.0)</th>\n",
       "      <td>59252</td>\n",
       "    </tr>\n",
       "    <tr>\n",
       "      <th>[-2.0, -1.875)</th>\n",
       "      <td>75957</td>\n",
       "    </tr>\n",
       "    <tr>\n",
       "      <th>[-1.875, -1.75)</th>\n",
       "      <td>96428</td>\n",
       "    </tr>\n",
       "    <tr>\n",
       "      <th>[-1.75, -1.625)</th>\n",
       "      <td>120693</td>\n",
       "    </tr>\n",
       "    <tr>\n",
       "      <th>[-1.625, -1.5)</th>\n",
       "      <td>147142</td>\n",
       "    </tr>\n",
       "    <tr>\n",
       "      <th>[-1.5, -1.375)</th>\n",
       "      <td>177340</td>\n",
       "    </tr>\n",
       "    <tr>\n",
       "      <th>[-1.375, -1.25)</th>\n",
       "      <td>210846</td>\n",
       "    </tr>\n",
       "    <tr>\n",
       "      <th>...</th>\n",
       "      <td>...</td>\n",
       "    </tr>\n",
       "    <tr>\n",
       "      <th>[1.25, 1.375)</th>\n",
       "      <td>211133</td>\n",
       "    </tr>\n",
       "    <tr>\n",
       "      <th>[1.375, 1.5)</th>\n",
       "      <td>178113</td>\n",
       "    </tr>\n",
       "    <tr>\n",
       "      <th>[1.5, 1.625)</th>\n",
       "      <td>147084</td>\n",
       "    </tr>\n",
       "    <tr>\n",
       "      <th>[1.625, 1.75)</th>\n",
       "      <td>120576</td>\n",
       "    </tr>\n",
       "    <tr>\n",
       "      <th>[1.75, 1.875)</th>\n",
       "      <td>96548</td>\n",
       "    </tr>\n",
       "    <tr>\n",
       "      <th>[1.875, 2.0)</th>\n",
       "      <td>77119</td>\n",
       "    </tr>\n",
       "    <tr>\n",
       "      <th>[2.0, 2.125)</th>\n",
       "      <td>59747</td>\n",
       "    </tr>\n",
       "    <tr>\n",
       "      <th>[2.125, 2.25)</th>\n",
       "      <td>45863</td>\n",
       "    </tr>\n",
       "    <tr>\n",
       "      <th>[2.25, 2.375)</th>\n",
       "      <td>34838</td>\n",
       "    </tr>\n",
       "    <tr>\n",
       "      <th>[2.375, 2.5)</th>\n",
       "      <td>25605</td>\n",
       "    </tr>\n",
       "    <tr>\n",
       "      <th>[2.5, 2.625)</th>\n",
       "      <td>18718</td>\n",
       "    </tr>\n",
       "    <tr>\n",
       "      <th>[2.625, 2.75)</th>\n",
       "      <td>13420</td>\n",
       "    </tr>\n",
       "    <tr>\n",
       "      <th>[2.75, 2.875)</th>\n",
       "      <td>9819</td>\n",
       "    </tr>\n",
       "    <tr>\n",
       "      <th>[2.875, 3.0)</th>\n",
       "      <td>6845</td>\n",
       "    </tr>\n",
       "    <tr>\n",
       "      <th>[3.0, 3.125)</th>\n",
       "      <td>4490</td>\n",
       "    </tr>\n",
       "    <tr>\n",
       "      <th>[3.125, 3.25)</th>\n",
       "      <td>3179</td>\n",
       "    </tr>\n",
       "    <tr>\n",
       "      <th>[3.25, 3.375)</th>\n",
       "      <td>2030</td>\n",
       "    </tr>\n",
       "    <tr>\n",
       "      <th>[3.375, 3.5)</th>\n",
       "      <td>1321</td>\n",
       "    </tr>\n",
       "    <tr>\n",
       "      <th>[3.5, 3.625)</th>\n",
       "      <td>947</td>\n",
       "    </tr>\n",
       "    <tr>\n",
       "      <th>[3.625, 3.75)</th>\n",
       "      <td>573</td>\n",
       "    </tr>\n",
       "    <tr>\n",
       "      <th>[3.75, 3.875)</th>\n",
       "      <td>364</td>\n",
       "    </tr>\n",
       "    <tr>\n",
       "      <th>[3.875, 4.0)</th>\n",
       "      <td>219</td>\n",
       "    </tr>\n",
       "    <tr>\n",
       "      <th>[4.0, 4.125)</th>\n",
       "      <td>145</td>\n",
       "    </tr>\n",
       "    <tr>\n",
       "      <th>[4.125, 4.25)</th>\n",
       "      <td>83</td>\n",
       "    </tr>\n",
       "    <tr>\n",
       "      <th>[4.25, 4.375)</th>\n",
       "      <td>47</td>\n",
       "    </tr>\n",
       "    <tr>\n",
       "      <th>[4.375, 4.5)</th>\n",
       "      <td>29</td>\n",
       "    </tr>\n",
       "    <tr>\n",
       "      <th>[4.5, 4.625)</th>\n",
       "      <td>10</td>\n",
       "    </tr>\n",
       "    <tr>\n",
       "      <th>[4.625, 4.75)</th>\n",
       "      <td>8</td>\n",
       "    </tr>\n",
       "    <tr>\n",
       "      <th>[4.75, 4.875)</th>\n",
       "      <td>9</td>\n",
       "    </tr>\n",
       "    <tr>\n",
       "      <th>[4.875, 5.0)</th>\n",
       "      <td>6</td>\n",
       "    </tr>\n",
       "  </tbody>\n",
       "</table>\n",
       "<p>80 rows × 1 columns</p>\n",
       "</div>"
      ],
      "text/plain": [
       "                 unweighted\n",
       "[-5.0, -4.875)            5\n",
       "[-4.875, -4.75)           6\n",
       "[-4.75, -4.625)          11\n",
       "[-4.625, -4.5)           17\n",
       "[-4.5, -4.375)           24\n",
       "[-4.375, -4.25)          36\n",
       "[-4.25, -4.125)          92\n",
       "[-4.125, -4.0)          153\n",
       "[-4.0, -3.875)          216\n",
       "[-3.875, -3.75)         339\n",
       "[-3.75, -3.625)         568\n",
       "[-3.625, -3.5)          919\n",
       "[-3.5, -3.375)         1365\n",
       "[-3.375, -3.25)        2123\n",
       "[-3.25, -3.125)        3120\n",
       "[-3.125, -3.0)         4601\n",
       "[-3.0, -2.875)         6601\n",
       "[-2.875, -2.75)        9827\n",
       "[-2.75, -2.625)       13522\n",
       "[-2.625, -2.5)        18855\n",
       "[-2.5, -2.375)        25463\n",
       "[-2.375, -2.25)       34319\n",
       "[-2.25, -2.125)       45627\n",
       "[-2.125, -2.0)        59252\n",
       "[-2.0, -1.875)        75957\n",
       "[-1.875, -1.75)       96428\n",
       "[-1.75, -1.625)      120693\n",
       "[-1.625, -1.5)       147142\n",
       "[-1.5, -1.375)       177340\n",
       "[-1.375, -1.25)      210846\n",
       "...                     ...\n",
       "[1.25, 1.375)        211133\n",
       "[1.375, 1.5)         178113\n",
       "[1.5, 1.625)         147084\n",
       "[1.625, 1.75)        120576\n",
       "[1.75, 1.875)         96548\n",
       "[1.875, 2.0)          77119\n",
       "[2.0, 2.125)          59747\n",
       "[2.125, 2.25)         45863\n",
       "[2.25, 2.375)         34838\n",
       "[2.375, 2.5)          25605\n",
       "[2.5, 2.625)          18718\n",
       "[2.625, 2.75)         13420\n",
       "[2.75, 2.875)          9819\n",
       "[2.875, 3.0)           6845\n",
       "[3.0, 3.125)           4490\n",
       "[3.125, 3.25)          3179\n",
       "[3.25, 3.375)          2030\n",
       "[3.375, 3.5)           1321\n",
       "[3.5, 3.625)            947\n",
       "[3.625, 3.75)           573\n",
       "[3.75, 3.875)           364\n",
       "[3.875, 4.0)            219\n",
       "[4.0, 4.125)            145\n",
       "[4.125, 4.25)            83\n",
       "[4.25, 4.375)            47\n",
       "[4.375, 4.5)             29\n",
       "[4.5, 4.625)             10\n",
       "[4.625, 4.75)             8\n",
       "[4.75, 4.875)             9\n",
       "[4.875, 5.0)              6\n",
       "\n",
       "[80 rows x 1 columns]"
      ]
     },
     "execution_count": 6,
     "metadata": {},
     "output_type": "execute_result"
    }
   ],
   "source": [
    "import stagg.connect.pandas\n",
    "\n",
    "pandas_hist = stagg.connect.pandas.topandas(stagg_hist)\n",
    "pandas_hist"
   ]
  },
  {
   "cell_type": "markdown",
   "metadata": {},
   "source": [
    "## Serialization\n",
    "\n",
    "The `stagg_hist` object is also a [Flatbuffers](http://google.github.io/flatbuffers/) object, which has a [multi-lingual](https://google.github.io/flatbuffers/flatbuffers_support.html), [random-access](https://github.com/mzaks/FlatBuffersSwift/wiki/FlatBuffers-Explained), [small-footprint](http://google.github.io/flatbuffers/md__benchmarks.html) serialization:"
   ]
  },
  {
   "cell_type": "code",
   "execution_count": 7,
   "metadata": {},
   "outputs": [
    {
     "data": {
      "text/plain": [
       "bytearray(b\"\\x04\\x00\\x00\\x00\\x90\\xff\\xff\\xff\\x10\\x00\\x00\\x00\\x00\\x01\\n\\x00\\x10\\x00\\x0c\\x00\\x0b\\x00\\x04\\x00\\n\\x00\\x00\\x00`\\x00\\x00\\x00\\x00\\x00\\x00\\x01\\x04\\x00\\x00\\x00\\x01\\x00\\x00\\x00\\x0c\\x00\\x00\\x00\\x08\\x00\\x0c\\x00\\x0b\\x00\\x04\\x00\\x08\\x00\\x00\\x00\\x10\\x00\\x00\\x00\\x00\\x00\\x00\\x02\\x08\\x00(\\x00\\x1c\\x00\\x04\\x00\\x08\\x00\\x00\\x00\\x00\\x00\\x00\\x00\\x00\\x00\\x14\\xc0\\x00\\x00\\x00\\x00\\x00\\x00\\x14@\\x01\\x00\\x00\\x00\\x00\\x00\\x00\\x00P\\x00\\x00\\x00\\x00\\x00\\x00\\x00\\x00\\x00\\x00\\x00\\x08\\x00\\n\\x00\\t\\x00\\x04\\x00\\x08\\x00\\x00\\x00\\x0c\\x00\\x00\\x00\\x00\\x02\\x06\\x00\\x08\\x00\\x04\\x00\\x06\\x00\\x00\\x00\\x04\\x00\\x00\\x00\\x80\\x02\\x00\\x00\\x05\\x00\\x00\\x00\\x00\\x00\\x00\\x00\\x06\\x00\\x00\\x00\\x00\\x00\\x00\\x00\\x0b\\x00\\x00\\x00\\x00\\x00\\x00\\x00\\x11\\x00\\x00\\x00\\x00\\x00\\x00\\x00\\x18\\x00\\x00\\x00\\x00\\x00\\x00\\x00$\\x00\\x00\\x00\\x00\\x00\\x00\\x00\\\\\\x00\\x00\\x00\\x00\\x00\\x00\\x00\\x99\\x00\\x00\\x00\\x00\\x00\\x00\\x00\\xd8\\x00\\x00\\x00\\x00\\x00\\x00\\x00S\\x01\\x00\\x00\\x00\\x00\\x00\\x008\\x02\\x00\\x00\\x00\\x00\\x00\\x00\\x97\\x03\\x00\\x00\\x00\\x00\\x00\\x00U\\x05\\x00\\x00\\x00\\x00\\x00\\x00K\\x08\\x00\\x00\\x00\\x00\\x00\\x000\\x0c\\x00\\x00\\x00\\x00\\x00\\x00\\xf9\\x11\\x00\\x00\\x00\\x00\\x00\\x00\\xc9\\x19\\x00\\x00\\x00\\x00\\x00\\x00c&\\x00\\x00\\x00\\x00\\x00\\x00\\xd24\\x00\\x00\\x00\\x00\\x00\\x00\\xa7I\\x00\\x00\\x00\\x00\\x00\\x00wc\\x00\\x00\\x00\\x00\\x00\\x00\\x0f\\x86\\x00\\x00\\x00\\x00\\x00\\x00;\\xb2\\x00\\x00\\x00\\x00\\x00\\x00t\\xe7\\x00\\x00\\x00\\x00\\x00\\x00\\xb5(\\x01\\x00\\x00\\x00\\x00\\x00\\xacx\\x01\\x00\\x00\\x00\\x00\\x00u\\xd7\\x01\\x00\\x00\\x00\\x00\\x00\\xc6>\\x02\\x00\\x00\\x00\\x00\\x00\\xbc\\xb4\\x02\\x00\\x00\\x00\\x00\\x00\\x9e7\\x03\\x00\\x00\\x00\\x00\\x001\\xc2\\x03\\x00\\x00\\x00\\x00\\x00\\x17V\\x04\\x00\\x00\\x00\\x00\\x00\\x8d\\xe6\\x04\\x00\\x00\\x00\\x00\\x00\\xcet\\x05\\x00\\x00\\x00\\x00\\x00\\xe8\\x01\\x06\\x00\\x00\\x00\\x00\\x00\\xf5~\\x06\\x00\\x00\\x00\\x00\\x00\\x0f\\xeb\\x06\\x00\\x00\\x00\\x00\\x00V8\\x07\\x00\\x00\\x00\\x00\\x00Fy\\x07\\x00\\x00\\x00\\x00\\x00\\xa5\\x8f\\x07\\x00\\x00\\x00\\x00\\x00\\xc3\\x96\\x07\\x00\\x00\\x00\\x00\\x00X}\\x07\\x00\\x00\\x00\\x00\\x00\\xea=\\x07\\x00\\x00\\x00\\x00\\x00\\xad\\xe9\\x06\\x00\\x00\\x00\\x00\\x00[{\\x06\\x00\\x00\\x00\\x00\\x00f\\x01\\x06\\x00\\x00\\x00\\x00\\x00#y\\x05\\x00\\x00\\x00\\x00\\x00\\x9a\\xe5\\x04\\x00\\x00\\x00\\x00\\x00\\xeaU\\x04\\x00\\x00\\x00\\x00\\x00`\\xc5\\x03\\x00\\x00\\x00\\x00\\x00\\xbd8\\x03\\x00\\x00\\x00\\x00\\x00\\xc1\\xb7\\x02\\x00\\x00\\x00\\x00\\x00\\x8c>\\x02\\x00\\x00\\x00\\x00\\x00\\x00\\xd7\\x01\\x00\\x00\\x00\\x00\\x00$y\\x01\\x00\\x00\\x00\\x00\\x00?-\\x01\\x00\\x00\\x00\\x00\\x00c\\xe9\\x00\\x00\\x00\\x00\\x00\\x00\\'\\xb3\\x00\\x00\\x00\\x00\\x00\\x00\\x16\\x88\\x00\\x00\\x00\\x00\\x00\\x00\\x05d\\x00\\x00\\x00\\x00\\x00\\x00\\x1eI\\x00\\x00\\x00\\x00\\x00\\x00l4\\x00\\x00\\x00\\x00\\x00\\x00[&\\x00\\x00\\x00\\x00\\x00\\x00\\xbd\\x1a\\x00\\x00\\x00\\x00\\x00\\x00\\x8a\\x11\\x00\\x00\\x00\\x00\\x00\\x00k\\x0c\\x00\\x00\\x00\\x00\\x00\\x00\\xee\\x07\\x00\\x00\\x00\\x00\\x00\\x00)\\x05\\x00\\x00\\x00\\x00\\x00\\x00\\xb3\\x03\\x00\\x00\\x00\\x00\\x00\\x00=\\x02\\x00\\x00\\x00\\x00\\x00\\x00l\\x01\\x00\\x00\\x00\\x00\\x00\\x00\\xdb\\x00\\x00\\x00\\x00\\x00\\x00\\x00\\x91\\x00\\x00\\x00\\x00\\x00\\x00\\x00S\\x00\\x00\\x00\\x00\\x00\\x00\\x00/\\x00\\x00\\x00\\x00\\x00\\x00\\x00\\x1d\\x00\\x00\\x00\\x00\\x00\\x00\\x00\\n\\x00\\x00\\x00\\x00\\x00\\x00\\x00\\x08\\x00\\x00\\x00\\x00\\x00\\x00\\x00\\t\\x00\\x00\\x00\\x00\\x00\\x00\\x00\\x06\\x00\\x00\\x00\\x00\\x00\\x00\\x00\")"
      ]
     },
     "execution_count": 7,
     "metadata": {},
     "output_type": "execute_result"
    }
   ],
   "source": [
    "stagg_hist.tobuffer()"
   ]
  },
  {
   "cell_type": "code",
   "execution_count": 8,
   "metadata": {},
   "outputs": [
    {
     "name": "stdout",
     "output_type": "stream",
     "text": [
      "Numpy size:  1288\n",
      "ROOT size:   1962\n",
      "Pandas size: 2975\n",
      "Stagg size:   792\n"
     ]
    }
   ],
   "source": [
    "print(\"Numpy size: \", numpy_hist[0].nbytes + numpy_hist[1].nbytes)\n",
    "\n",
    "tmessage = ROOT.TMessage()\n",
    "tmessage.WriteObject(root_hist)\n",
    "print(\"ROOT size:  \", tmessage.Length())\n",
    "\n",
    "import pickle\n",
    "print(\"Pandas size:\", len(pickle.dumps(pandas_hist)))\n",
    "\n",
    "print(\"Stagg size:  \", len(stagg_hist.tobuffer()))"
   ]
  },
  {
   "cell_type": "markdown",
   "metadata": {},
   "source": [
    "Stagg is generally forseen as a memory format, like [Apache Arrow](https://arrow.apache.org), but for statistical aggregations. Like Arrow, it reduces the need to implement $N(N - 1)/2$ conversion functions among $N$ statistical libraries to just $N$ conversion functions. (See the figure on Arrow's website.)"
   ]
  },
  {
   "cell_type": "markdown",
   "metadata": {},
   "source": [
    "## Translation of conventions\n",
    "\n",
    "Stagg also intends to be as close to zero-copy as possible. This means that it must make graceful translations among conventions. Different histogramming libraries handle overflow bins in different ways:"
   ]
  },
  {
   "cell_type": "code",
   "execution_count": 9,
   "metadata": {},
   "outputs": [
    {
     "name": "stdout",
     "output_type": "stream",
     "text": [
      "RegularBinning(\n",
      "  num=80,\n",
      "  interval=RealInterval(low=-5.0, high=5.0),\n",
      "  overflow=RealOverflow(loc_underflow=BinLocation.below1, loc_overflow=BinLocation.above1))\n",
      "Bin contents length: 82\n"
     ]
    }
   ],
   "source": [
    "fromroot = stagg.connect.root.tostagg(root_hist)\n",
    "fromroot.axis[0].binning.dump()\n",
    "print(\"Bin contents length:\", len(fromroot.counts.array))"
   ]
  },
  {
   "cell_type": "code",
   "execution_count": 10,
   "metadata": {},
   "outputs": [
    {
     "name": "stdout",
     "output_type": "stream",
     "text": [
      "RegularBinning(num=80, interval=RealInterval(low=-5.0, high=5.0))\n",
      "Bin contents length: 80\n"
     ]
    }
   ],
   "source": [
    "stagg_hist.axis[0].binning.dump()\n",
    "print(\"Bin contents length:\", len(stagg_hist.counts.array))"
   ]
  },
  {
   "cell_type": "markdown",
   "metadata": {},
   "source": [
    "And yet we want to be able to manipulate them as though these differences did not exist."
   ]
  },
  {
   "cell_type": "code",
   "execution_count": 11,
   "metadata": {},
   "outputs": [],
   "source": [
    "sum_hist = fromroot + stagg_hist"
   ]
  },
  {
   "cell_type": "code",
   "execution_count": 12,
   "metadata": {},
   "outputs": [
    {
     "name": "stdout",
     "output_type": "stream",
     "text": [
      "RegularBinning(\n",
      "  num=80,\n",
      "  interval=RealInterval(low=-5.0, high=5.0),\n",
      "  overflow=RealOverflow(loc_underflow=BinLocation.above1, loc_overflow=BinLocation.above2))\n",
      "Bin contents length: 82\n"
     ]
    }
   ],
   "source": [
    "sum_hist.axis[0].binning.dump()\n",
    "print(\"Bin contents length:\", len(sum_hist.counts.array))"
   ]
  },
  {
   "cell_type": "markdown",
   "metadata": {},
   "source": [
    "The binning structure keeps track of the existence of underflow/overflow bins and where they are located.\n",
    "\n",
    "   * ROOT's convention is to put underflow before the normal bins (`below1`) and overflow after (`above1`), so that the normal bins are effectively 1-indexed.\n",
    "   * Boost.Histogram's convention is to put overflow after the normal bins (`above1`) and underflow after that (`above2`), so that underflow is accessed via `myhist[-1]` in Numpy.\n",
    "   * Numpy histograms don't have underflow/overflow bins.\n",
    "   * Pandas could have `Intervals` that extend to infinity.\n",
    "\n",
    "Stagg accepts all of these, so that it doesn't have to manipulate the bin contents buffer it receives, but knows how to deal with them if it has to combine histograms that follow different conventions."
   ]
  },
  {
   "cell_type": "markdown",
   "metadata": {},
   "source": [
    "## Binning types\n",
    "\n",
    "All the different axis types have an equivalent in Stagg (and not all are single-dimensional)."
   ]
  },
  {
   "cell_type": "code",
   "execution_count": 13,
   "metadata": {},
   "outputs": [
    {
     "name": "stdout",
     "output_type": "stream",
     "text": [
      "IntegerBinning(min=5, max=10)\n",
      "RegularBinning(num=100, interval=RealInterval(low=-5.0, high=5.0))\n",
      "HexagonalBinning(qmin=0, qmax=100, rmin=0, rmax=100, coordinates=HexagonalBinning.cube_xy)\n",
      "EdgesBinning(edges=[0.01 0.05 0.1 0.5 1 5 10 50 100])\n",
      "IrregularBinning(\n",
      "  intervals=[\n",
      "    RealInterval(low=0.0, high=5.0),\n",
      "    RealInterval(low=10.0, high=100.0),\n",
      "    RealInterval(low=-10.0, high=10.0)\n",
      "  ],\n",
      "  overlapping_fill=IrregularBinning.all)\n",
      "CategoryBinning(categories=['one', 'two', 'three'])\n",
      "SparseRegularBinning(bins=[5 3 -2 8 -100], bin_width=10.0)\n",
      "FractionBinning(error_method=FractionBinning.clopper_pearson)\n",
      "PredicateBinning(predicates=['signal region', 'control region'])\n",
      "VariationBinning(\n",
      "  variations=[\n",
      "    Variation(assignments=[\n",
      "        Assignment(identifier='x', expression='nominal')\n",
      "      ]),\n",
      "    Variation(\n",
      "      assignments=[\n",
      "        Assignment(identifier='x', expression='nominal + sigma')\n",
      "      ]),\n",
      "    Variation(\n",
      "      assignments=[\n",
      "        Assignment(identifier='x', expression='nominal - sigma')\n",
      "      ])\n",
      "  ])\n"
     ]
    }
   ],
   "source": [
    "import stagg\n",
    "stagg.IntegerBinning(5, 10).dump()\n",
    "stagg.RegularBinning(100, stagg.RealInterval(-5, 5)).dump()\n",
    "stagg.HexagonalBinning(0, 100, 0, 100, stagg.HexagonalBinning.cube_xy).dump()\n",
    "stagg.EdgesBinning([0.01, 0.05, 0.1, 0.5, 1, 5, 10, 50, 100]).dump()\n",
    "stagg.IrregularBinning([stagg.RealInterval(0, 5),\n",
    "                        stagg.RealInterval(10, 100),\n",
    "                        stagg.RealInterval(-10, 10)],\n",
    "                       overlapping_fill=stagg.IrregularBinning.all).dump()\n",
    "stagg.CategoryBinning([\"one\", \"two\", \"three\"]).dump()\n",
    "stagg.SparseRegularBinning([5, 3, -2, 8, -100], 10).dump()\n",
    "stagg.FractionBinning(error_method=stagg.FractionBinning.clopper_pearson).dump()\n",
    "stagg.PredicateBinning([\"signal region\", \"control region\"]).dump()\n",
    "stagg.VariationBinning([stagg.Variation([stagg.Assignment(\"x\", \"nominal\")]),\n",
    "                        stagg.Variation([stagg.Assignment(\"x\", \"nominal + sigma\")]),\n",
    "                        stagg.Variation([stagg.Assignment(\"x\", \"nominal - sigma\")])]).dump()"
   ]
  },
  {
   "cell_type": "markdown",
   "metadata": {},
   "source": [
    "The meanings of these binning classes are given in [the specification](https://github.com/diana-hep/stagg/blob/master/specification.adoc#integerbinning), but many of them can be converted into one another, and converting to `CategoryBinning` (strings) often makes the intent clear."
   ]
  },
  {
   "cell_type": "code",
   "execution_count": 14,
   "metadata": {},
   "outputs": [
    {
     "name": "stdout",
     "output_type": "stream",
     "text": [
      "CategoryBinning(categories=['5', '6', '7', '8', '9', '10'])\n",
      "CategoryBinning(\n",
      "  categories=['[-5, -4)', '[-4, -3)', '[-3, -2)', '[-2, -1)', '[-1, 0)', '[0, 1)', '[1, 2)', '[2, 3)', '[3, 4)', '[4, 5)'])\n",
      "CategoryBinning(\n",
      "  categories=['[0.01, 0.05)', '[0.05, 0.1)', '[0.1, 0.5)', '[0.5, 1)', '[1, 5)', '[5, 10)', '[10, 50)', '[50, 100)'])\n",
      "CategoryBinning(categories=['[0, 5)', '[10, 100)', '[-10, 10)'])\n",
      "CategoryBinning(categories=['[50, 60)', '[30, 40)', '[-20, -10)', '[80, 90)', '[-1000, -990)'])\n",
      "CategoryBinning(categories=['pass', 'all'])\n",
      "CategoryBinning(categories=['signal region', 'control region'])\n",
      "CategoryBinning(categories=['x := nominal', 'x := nominal + sigma', 'x := nominal - sigma'])\n"
     ]
    }
   ],
   "source": [
    "stagg.IntegerBinning(5, 10).toCategoryBinning().dump()\n",
    "stagg.RegularBinning(10, stagg.RealInterval(-5, 5)).toCategoryBinning().dump()\n",
    "stagg.EdgesBinning([0.01, 0.05, 0.1, 0.5, 1, 5, 10, 50, 100]).toCategoryBinning().dump()\n",
    "stagg.IrregularBinning([stagg.RealInterval(0, 5),\n",
    "                        stagg.RealInterval(10, 100),\n",
    "                        stagg.RealInterval(-10, 10)],\n",
    "                       overlapping_fill=stagg.IrregularBinning.all).toCategoryBinning().dump()\n",
    "stagg.SparseRegularBinning([5, 3, -2, 8, -100], 10).toCategoryBinning().dump()\n",
    "stagg.FractionBinning(error_method=stagg.FractionBinning.clopper_pearson).toCategoryBinning().dump()\n",
    "stagg.PredicateBinning([\"signal region\", \"control region\"]).toCategoryBinning().dump()\n",
    "stagg.VariationBinning([stagg.Variation([stagg.Assignment(\"x\", \"nominal\")]),\n",
    "                        stagg.Variation([stagg.Assignment(\"x\", \"nominal + sigma\")]),\n",
    "                        stagg.Variation([stagg.Assignment(\"x\", \"nominal - sigma\")])]).toCategoryBinning().dump()"
   ]
  },
  {
   "cell_type": "markdown",
   "metadata": {},
   "source": [
    "This technique can also clear up confusion about overflow bins."
   ]
  },
  {
   "cell_type": "code",
   "execution_count": 15,
   "metadata": {},
   "outputs": [
    {
     "name": "stdout",
     "output_type": "stream",
     "text": [
      "CategoryBinning(\n",
      "  categories=['{nan}', '[-5, -3)', '[-3, -1)', '[-1, 1)', '[1, 3)', '[3, 5)', '[5, +inf]', '[-inf, -5)'])\n"
     ]
    }
   ],
   "source": [
    "stagg.RegularBinning(5, stagg.RealInterval(-5, 5), stagg.RealOverflow(\n",
    "    loc_underflow=stagg.BinLocation.above2,\n",
    "    loc_overflow=stagg.BinLocation.above1,\n",
    "    loc_nanflow=stagg.BinLocation.below1\n",
    "    )).toCategoryBinning().dump()"
   ]
  },
  {
   "cell_type": "markdown",
   "metadata": {},
   "source": [
    "# Fancy binning types\n",
    "\n",
    "You might also be wondering about `FractionBinning`, `PredicateBinning`, and `VariationBinning`.\n",
    "\n",
    "`FractionBinning` is an axis of two bins: #passing and #total, #failing and #total, or #passing and #failing. Adding it to another axis effectively makes an \"efficiency plot.\""
   ]
  },
  {
   "cell_type": "code",
   "execution_count": 16,
   "metadata": {},
   "outputs": [
    {
     "data": {
      "text/html": [
       "<div>\n",
       "<style scoped>\n",
       "    .dataframe tbody tr th:only-of-type {\n",
       "        vertical-align: middle;\n",
       "    }\n",
       "\n",
       "    .dataframe tbody tr th {\n",
       "        vertical-align: top;\n",
       "    }\n",
       "\n",
       "    .dataframe thead th {\n",
       "        text-align: right;\n",
       "    }\n",
       "</style>\n",
       "<table border=\"1\" class=\"dataframe\">\n",
       "  <thead>\n",
       "    <tr style=\"text-align: right;\">\n",
       "      <th></th>\n",
       "      <th></th>\n",
       "      <th>unweighted</th>\n",
       "    </tr>\n",
       "  </thead>\n",
       "  <tbody>\n",
       "    <tr>\n",
       "      <th rowspan=\"10\" valign=\"top\">pass</th>\n",
       "      <th>[-5.0, -4.0)</th>\n",
       "      <td>9</td>\n",
       "    </tr>\n",
       "    <tr>\n",
       "      <th>[-4.0, -3.0)</th>\n",
       "      <td>25</td>\n",
       "    </tr>\n",
       "    <tr>\n",
       "      <th>[-3.0, -2.0)</th>\n",
       "      <td>29</td>\n",
       "    </tr>\n",
       "    <tr>\n",
       "      <th>[-2.0, -1.0)</th>\n",
       "      <td>35</td>\n",
       "    </tr>\n",
       "    <tr>\n",
       "      <th>[-1.0, 0.0)</th>\n",
       "      <td>54</td>\n",
       "    </tr>\n",
       "    <tr>\n",
       "      <th>[0.0, 1.0)</th>\n",
       "      <td>67</td>\n",
       "    </tr>\n",
       "    <tr>\n",
       "      <th>[1.0, 2.0)</th>\n",
       "      <td>60</td>\n",
       "    </tr>\n",
       "    <tr>\n",
       "      <th>[2.0, 3.0)</th>\n",
       "      <td>84</td>\n",
       "    </tr>\n",
       "    <tr>\n",
       "      <th>[3.0, 4.0)</th>\n",
       "      <td>80</td>\n",
       "    </tr>\n",
       "    <tr>\n",
       "      <th>[4.0, 5.0)</th>\n",
       "      <td>94</td>\n",
       "    </tr>\n",
       "    <tr>\n",
       "      <th rowspan=\"10\" valign=\"top\">all</th>\n",
       "      <th>[-5.0, -4.0)</th>\n",
       "      <td>99</td>\n",
       "    </tr>\n",
       "    <tr>\n",
       "      <th>[-4.0, -3.0)</th>\n",
       "      <td>119</td>\n",
       "    </tr>\n",
       "    <tr>\n",
       "      <th>[-3.0, -2.0)</th>\n",
       "      <td>109</td>\n",
       "    </tr>\n",
       "    <tr>\n",
       "      <th>[-2.0, -1.0)</th>\n",
       "      <td>109</td>\n",
       "    </tr>\n",
       "    <tr>\n",
       "      <th>[-1.0, 0.0)</th>\n",
       "      <td>95</td>\n",
       "    </tr>\n",
       "    <tr>\n",
       "      <th>[0.0, 1.0)</th>\n",
       "      <td>104</td>\n",
       "    </tr>\n",
       "    <tr>\n",
       "      <th>[1.0, 2.0)</th>\n",
       "      <td>102</td>\n",
       "    </tr>\n",
       "    <tr>\n",
       "      <th>[2.0, 3.0)</th>\n",
       "      <td>106</td>\n",
       "    </tr>\n",
       "    <tr>\n",
       "      <th>[3.0, 4.0)</th>\n",
       "      <td>112</td>\n",
       "    </tr>\n",
       "    <tr>\n",
       "      <th>[4.0, 5.0)</th>\n",
       "      <td>122</td>\n",
       "    </tr>\n",
       "  </tbody>\n",
       "</table>\n",
       "</div>"
      ],
      "text/plain": [
       "                   unweighted\n",
       "pass [-5.0, -4.0)           9\n",
       "     [-4.0, -3.0)          25\n",
       "     [-3.0, -2.0)          29\n",
       "     [-2.0, -1.0)          35\n",
       "     [-1.0, 0.0)           54\n",
       "     [0.0, 1.0)            67\n",
       "     [1.0, 2.0)            60\n",
       "     [2.0, 3.0)            84\n",
       "     [3.0, 4.0)            80\n",
       "     [4.0, 5.0)            94\n",
       "all  [-5.0, -4.0)          99\n",
       "     [-4.0, -3.0)         119\n",
       "     [-3.0, -2.0)         109\n",
       "     [-2.0, -1.0)         109\n",
       "     [-1.0, 0.0)           95\n",
       "     [0.0, 1.0)           104\n",
       "     [1.0, 2.0)           102\n",
       "     [2.0, 3.0)           106\n",
       "     [3.0, 4.0)           112\n",
       "     [4.0, 5.0)           122"
      ]
     },
     "execution_count": 16,
     "metadata": {},
     "output_type": "execute_result"
    }
   ],
   "source": [
    "h = stagg.Histogram([stagg.Axis(stagg.FractionBinning()),\n",
    "                     stagg.Axis(stagg.RegularBinning(10, stagg.RealInterval(-5, 5)))],\n",
    "                    stagg.UnweightedCounts(\n",
    "                        stagg.InterpretedInlineBuffer.fromarray(\n",
    "                            numpy.array([[  9,  25,  29,  35,  54,  67,  60,  84,  80,  94],\n",
    "                                         [ 99, 119, 109, 109,  95, 104, 102, 106, 112, 122]]))))\n",
    "df = stagg.connect.pandas.topandas(h)\n",
    "df"
   ]
  },
  {
   "cell_type": "code",
   "execution_count": 17,
   "metadata": {},
   "outputs": [
    {
     "data": {
      "text/html": [
       "<div>\n",
       "<style scoped>\n",
       "    .dataframe tbody tr th:only-of-type {\n",
       "        vertical-align: middle;\n",
       "    }\n",
       "\n",
       "    .dataframe tbody tr th {\n",
       "        vertical-align: top;\n",
       "    }\n",
       "\n",
       "    .dataframe thead tr th {\n",
       "        text-align: left;\n",
       "    }\n",
       "</style>\n",
       "<table border=\"1\" class=\"dataframe\">\n",
       "  <thead>\n",
       "    <tr>\n",
       "      <th></th>\n",
       "      <th colspan=\"2\" halign=\"left\">unweighted</th>\n",
       "    </tr>\n",
       "    <tr>\n",
       "      <th></th>\n",
       "      <th>all</th>\n",
       "      <th>pass</th>\n",
       "    </tr>\n",
       "  </thead>\n",
       "  <tbody>\n",
       "    <tr>\n",
       "      <th>[-5.0, -4.0)</th>\n",
       "      <td>99</td>\n",
       "      <td>9</td>\n",
       "    </tr>\n",
       "    <tr>\n",
       "      <th>[-4.0, -3.0)</th>\n",
       "      <td>119</td>\n",
       "      <td>25</td>\n",
       "    </tr>\n",
       "    <tr>\n",
       "      <th>[-3.0, -2.0)</th>\n",
       "      <td>109</td>\n",
       "      <td>29</td>\n",
       "    </tr>\n",
       "    <tr>\n",
       "      <th>[-2.0, -1.0)</th>\n",
       "      <td>109</td>\n",
       "      <td>35</td>\n",
       "    </tr>\n",
       "    <tr>\n",
       "      <th>[-1.0, 0.0)</th>\n",
       "      <td>95</td>\n",
       "      <td>54</td>\n",
       "    </tr>\n",
       "    <tr>\n",
       "      <th>[0.0, 1.0)</th>\n",
       "      <td>104</td>\n",
       "      <td>67</td>\n",
       "    </tr>\n",
       "    <tr>\n",
       "      <th>[1.0, 2.0)</th>\n",
       "      <td>102</td>\n",
       "      <td>60</td>\n",
       "    </tr>\n",
       "    <tr>\n",
       "      <th>[2.0, 3.0)</th>\n",
       "      <td>106</td>\n",
       "      <td>84</td>\n",
       "    </tr>\n",
       "    <tr>\n",
       "      <th>[3.0, 4.0)</th>\n",
       "      <td>112</td>\n",
       "      <td>80</td>\n",
       "    </tr>\n",
       "    <tr>\n",
       "      <th>[4.0, 5.0)</th>\n",
       "      <td>122</td>\n",
       "      <td>94</td>\n",
       "    </tr>\n",
       "  </tbody>\n",
       "</table>\n",
       "</div>"
      ],
      "text/plain": [
       "             unweighted     \n",
       "                    all pass\n",
       "[-5.0, -4.0)         99    9\n",
       "[-4.0, -3.0)        119   25\n",
       "[-3.0, -2.0)        109   29\n",
       "[-2.0, -1.0)        109   35\n",
       "[-1.0, 0.0)          95   54\n",
       "[0.0, 1.0)          104   67\n",
       "[1.0, 2.0)          102   60\n",
       "[2.0, 3.0)          106   84\n",
       "[3.0, 4.0)          112   80\n",
       "[4.0, 5.0)          122   94"
      ]
     },
     "execution_count": 17,
     "metadata": {},
     "output_type": "execute_result"
    }
   ],
   "source": [
    "df = df.unstack(level=0)\n",
    "df"
   ]
  },
  {
   "cell_type": "code",
   "execution_count": 18,
   "metadata": {},
   "outputs": [
    {
     "data": {
      "text/plain": [
       "[-5.0, -4.0)    0.090909\n",
       "[-4.0, -3.0)    0.210084\n",
       "[-3.0, -2.0)    0.266055\n",
       "[-2.0, -1.0)    0.321101\n",
       "[-1.0, 0.0)     0.568421\n",
       "[0.0, 1.0)      0.644231\n",
       "[1.0, 2.0)      0.588235\n",
       "[2.0, 3.0)      0.792453\n",
       "[3.0, 4.0)      0.714286\n",
       "[4.0, 5.0)      0.770492\n",
       "dtype: float64"
      ]
     },
     "execution_count": 18,
     "metadata": {},
     "output_type": "execute_result"
    }
   ],
   "source": [
    "df[\"unweighted\", \"pass\"] / df[\"unweighted\", \"all\"]"
   ]
  },
  {
   "cell_type": "markdown",
   "metadata": {},
   "source": [
    "`PredicateBinning` means that each bin represents a predicate (if-then rule) in the filling procedure. Stagg doesn't _have_ a filling procedure, but filling-libraries can use this to encode relationships among histograms that a fitting-library can take advantage of, for combined signal-control region fits, for instance. It's possible for those regions to overlap: an input datum might satisfy more than one predicate, and `overlapping_fill` determines which bin(s) were chosen: `first`, `last`, or `all`.\n",
    "\n",
    "`VariationBinning` means that each bin represents a variation of one of the paramters used to calculate the fill-variables. This is used to determine sensitivity to systematic effects, by varying them and re-filling. In this kind of binning, the same input datum enters every bin."
   ]
  },
  {
   "cell_type": "code",
   "execution_count": 19,
   "metadata": {},
   "outputs": [
    {
     "data": {
      "text/html": [
       "<div>\n",
       "<style scoped>\n",
       "    .dataframe tbody tr th:only-of-type {\n",
       "        vertical-align: middle;\n",
       "    }\n",
       "\n",
       "    .dataframe tbody tr th {\n",
       "        vertical-align: top;\n",
       "    }\n",
       "\n",
       "    .dataframe thead th {\n",
       "        text-align: right;\n",
       "    }\n",
       "</style>\n",
       "<table border=\"1\" class=\"dataframe\">\n",
       "  <thead>\n",
       "    <tr style=\"text-align: right;\">\n",
       "      <th></th>\n",
       "      <th></th>\n",
       "      <th>unweighted</th>\n",
       "    </tr>\n",
       "  </thead>\n",
       "  <tbody>\n",
       "    <tr>\n",
       "      <th rowspan=\"10\" valign=\"top\">x := nominal</th>\n",
       "      <th>[-5.0, -4.0)</th>\n",
       "      <td>25</td>\n",
       "    </tr>\n",
       "    <tr>\n",
       "      <th>[-4.0, -3.0)</th>\n",
       "      <td>1333</td>\n",
       "    </tr>\n",
       "    <tr>\n",
       "      <th>[-3.0, -2.0)</th>\n",
       "      <td>21310</td>\n",
       "    </tr>\n",
       "    <tr>\n",
       "      <th>[-2.0, -1.0)</th>\n",
       "      <td>136078</td>\n",
       "    </tr>\n",
       "    <tr>\n",
       "      <th>[-1.0, 0.0)</th>\n",
       "      <td>341596</td>\n",
       "    </tr>\n",
       "    <tr>\n",
       "      <th>[0.0, 1.0)</th>\n",
       "      <td>341226</td>\n",
       "    </tr>\n",
       "    <tr>\n",
       "      <th>[1.0, 2.0)</th>\n",
       "      <td>135824</td>\n",
       "    </tr>\n",
       "    <tr>\n",
       "      <th>[2.0, 3.0)</th>\n",
       "      <td>21229</td>\n",
       "    </tr>\n",
       "    <tr>\n",
       "      <th>[3.0, 4.0)</th>\n",
       "      <td>1356</td>\n",
       "    </tr>\n",
       "    <tr>\n",
       "      <th>[4.0, 5.0)</th>\n",
       "      <td>22</td>\n",
       "    </tr>\n",
       "    <tr>\n",
       "      <th rowspan=\"10\" valign=\"top\">x := nominal + sigma</th>\n",
       "      <th>[-5.0, -4.0)</th>\n",
       "      <td>13</td>\n",
       "    </tr>\n",
       "    <tr>\n",
       "      <th>[-4.0, -3.0)</th>\n",
       "      <td>543</td>\n",
       "    </tr>\n",
       "    <tr>\n",
       "      <th>[-3.0, -2.0)</th>\n",
       "      <td>10871</td>\n",
       "    </tr>\n",
       "    <tr>\n",
       "      <th>[-2.0, -1.0)</th>\n",
       "      <td>84407</td>\n",
       "    </tr>\n",
       "    <tr>\n",
       "      <th>[-1.0, 0.0)</th>\n",
       "      <td>271585</td>\n",
       "    </tr>\n",
       "    <tr>\n",
       "      <th>[0.0, 1.0)</th>\n",
       "      <td>368236</td>\n",
       "    </tr>\n",
       "    <tr>\n",
       "      <th>[1.0, 2.0)</th>\n",
       "      <td>209046</td>\n",
       "    </tr>\n",
       "    <tr>\n",
       "      <th>[2.0, 3.0)</th>\n",
       "      <td>50163</td>\n",
       "    </tr>\n",
       "    <tr>\n",
       "      <th>[3.0, 4.0)</th>\n",
       "      <td>4939</td>\n",
       "    </tr>\n",
       "    <tr>\n",
       "      <th>[4.0, 5.0)</th>\n",
       "      <td>195</td>\n",
       "    </tr>\n",
       "  </tbody>\n",
       "</table>\n",
       "</div>"
      ],
      "text/plain": [
       "                                   unweighted\n",
       "x := nominal         [-5.0, -4.0)          25\n",
       "                     [-4.0, -3.0)        1333\n",
       "                     [-3.0, -2.0)       21310\n",
       "                     [-2.0, -1.0)      136078\n",
       "                     [-1.0, 0.0)       341596\n",
       "                     [0.0, 1.0)        341226\n",
       "                     [1.0, 2.0)        135824\n",
       "                     [2.0, 3.0)         21229\n",
       "                     [3.0, 4.0)          1356\n",
       "                     [4.0, 5.0)            22\n",
       "x := nominal + sigma [-5.0, -4.0)          13\n",
       "                     [-4.0, -3.0)         543\n",
       "                     [-3.0, -2.0)       10871\n",
       "                     [-2.0, -1.0)       84407\n",
       "                     [-1.0, 0.0)       271585\n",
       "                     [0.0, 1.0)        368236\n",
       "                     [1.0, 2.0)        209046\n",
       "                     [2.0, 3.0)         50163\n",
       "                     [3.0, 4.0)          4939\n",
       "                     [4.0, 5.0)           195"
      ]
     },
     "execution_count": 19,
     "metadata": {},
     "output_type": "execute_result"
    }
   ],
   "source": [
    "xdata = numpy.random.normal(0, 1, int(1e6))\n",
    "sigma = numpy.random.uniform(-0.1, 0.8, int(1e6))\n",
    "\n",
    "h = stagg.Histogram([stagg.Axis(stagg.VariationBinning([\n",
    "                        stagg.Variation([stagg.Assignment(\"x\", \"nominal\")]),\n",
    "                        stagg.Variation([stagg.Assignment(\"x\", \"nominal + sigma\")])])),\n",
    "                     stagg.Axis(stagg.RegularBinning(10, stagg.RealInterval(-5, 5)))],\n",
    "                    stagg.UnweightedCounts(\n",
    "                        stagg.InterpretedInlineBuffer.fromarray(\n",
    "                            numpy.concatenate([\n",
    "                                numpy.histogram(xdata, bins=10, range=(-5, 5))[0],\n",
    "                                numpy.histogram(xdata + sigma, bins=10, range=(-5, 5))[0]]))))\n",
    "df = stagg.connect.pandas.topandas(h)\n",
    "df"
   ]
  },
  {
   "cell_type": "code",
   "execution_count": 20,
   "metadata": {},
   "outputs": [
    {
     "data": {
      "text/html": [
       "<div>\n",
       "<style scoped>\n",
       "    .dataframe tbody tr th:only-of-type {\n",
       "        vertical-align: middle;\n",
       "    }\n",
       "\n",
       "    .dataframe tbody tr th {\n",
       "        vertical-align: top;\n",
       "    }\n",
       "\n",
       "    .dataframe thead tr th {\n",
       "        text-align: left;\n",
       "    }\n",
       "</style>\n",
       "<table border=\"1\" class=\"dataframe\">\n",
       "  <thead>\n",
       "    <tr>\n",
       "      <th></th>\n",
       "      <th colspan=\"2\" halign=\"left\">unweighted</th>\n",
       "    </tr>\n",
       "    <tr>\n",
       "      <th></th>\n",
       "      <th>x := nominal</th>\n",
       "      <th>x := nominal + sigma</th>\n",
       "    </tr>\n",
       "  </thead>\n",
       "  <tbody>\n",
       "    <tr>\n",
       "      <th>[-5.0, -4.0)</th>\n",
       "      <td>25</td>\n",
       "      <td>13</td>\n",
       "    </tr>\n",
       "    <tr>\n",
       "      <th>[-4.0, -3.0)</th>\n",
       "      <td>1333</td>\n",
       "      <td>543</td>\n",
       "    </tr>\n",
       "    <tr>\n",
       "      <th>[-3.0, -2.0)</th>\n",
       "      <td>21310</td>\n",
       "      <td>10871</td>\n",
       "    </tr>\n",
       "    <tr>\n",
       "      <th>[-2.0, -1.0)</th>\n",
       "      <td>136078</td>\n",
       "      <td>84407</td>\n",
       "    </tr>\n",
       "    <tr>\n",
       "      <th>[-1.0, 0.0)</th>\n",
       "      <td>341596</td>\n",
       "      <td>271585</td>\n",
       "    </tr>\n",
       "    <tr>\n",
       "      <th>[0.0, 1.0)</th>\n",
       "      <td>341226</td>\n",
       "      <td>368236</td>\n",
       "    </tr>\n",
       "    <tr>\n",
       "      <th>[1.0, 2.0)</th>\n",
       "      <td>135824</td>\n",
       "      <td>209046</td>\n",
       "    </tr>\n",
       "    <tr>\n",
       "      <th>[2.0, 3.0)</th>\n",
       "      <td>21229</td>\n",
       "      <td>50163</td>\n",
       "    </tr>\n",
       "    <tr>\n",
       "      <th>[3.0, 4.0)</th>\n",
       "      <td>1356</td>\n",
       "      <td>4939</td>\n",
       "    </tr>\n",
       "    <tr>\n",
       "      <th>[4.0, 5.0)</th>\n",
       "      <td>22</td>\n",
       "      <td>195</td>\n",
       "    </tr>\n",
       "  </tbody>\n",
       "</table>\n",
       "</div>"
      ],
      "text/plain": [
       "               unweighted                     \n",
       "             x := nominal x := nominal + sigma\n",
       "[-5.0, -4.0)           25                   13\n",
       "[-4.0, -3.0)         1333                  543\n",
       "[-3.0, -2.0)        21310                10871\n",
       "[-2.0, -1.0)       136078                84407\n",
       "[-1.0, 0.0)        341596               271585\n",
       "[0.0, 1.0)         341226               368236\n",
       "[1.0, 2.0)         135824               209046\n",
       "[2.0, 3.0)          21229                50163\n",
       "[3.0, 4.0)           1356                 4939\n",
       "[4.0, 5.0)             22                  195"
      ]
     },
     "execution_count": 20,
     "metadata": {},
     "output_type": "execute_result"
    }
   ],
   "source": [
    "df.unstack(level=0)"
   ]
  },
  {
   "cell_type": "markdown",
   "metadata": {},
   "source": [
    "## Collections\n",
    "\n",
    "You can gather many objects (histograms, functions, ntuples) into a `Collection`, partly for convenience of encapsulating all of them in one object."
   ]
  },
  {
   "cell_type": "code",
   "execution_count": 21,
   "metadata": {},
   "outputs": [
    {
     "name": "stdout",
     "output_type": "stream",
     "text": [
      "Collection(\n",
      "  objects={\n",
      "    'one': Histogram(\n",
      "      axis=[\n",
      "        Axis(\n",
      "          binning=\n",
      "            RegularBinning(\n",
      "              num=80,\n",
      "              interval=RealInterval(low=-5.0, high=5.0),\n",
      "              overflow=RealOverflow(loc_underflow=BinLocation.below1, loc_overflow=BinLocation.above1)),\n",
      "          statistics=[\n",
      "            Statistics(\n",
      "              moments=[\n",
      "                Moments(sumwxn=InterpretedInlineInt64Buffer(buffer=[1e+07]), n=0),\n",
      "                Moments(sumwxn=InterpretedInlineFloat64Buffer(buffer=[1e+07]), n=0, weightpower=1),\n",
      "                Moments(sumwxn=InterpretedInlineFloat64Buffer(buffer=[1e+07]), n=0, weightpower=2),\n",
      "                Moments(sumwxn=InterpretedInlineFloat64Buffer(buffer=[7994.06]), n=1, weightpower=1),\n",
      "                Moments(\n",
      "                  sumwxn=InterpretedInlineFloat64Buffer(buffer=[1.00205e+07]),\n",
      "                  n=2,\n",
      "                  weightpower=1)\n",
      "              ])\n",
      "          ])\n",
      "      ],\n",
      "      counts=\n",
      "        UnweightedCounts(\n",
      "          counts=\n",
      "            InterpretedInlineFloat64Buffer(\n",
      "              buffer=\n",
      "                  [0.00000e+00 5.00000e+00 6.00000e+00 1.10000e+01 1.70000e+01 2.40000e+01\n",
      "                   3.60000e+01 9.20000e+01 1.53000e+02 2.16000e+02 3.39000e+02 5.68000e+02\n",
      "                   9.19000e+02 1.36500e+03 2.12300e+03 3.12000e+03 4.60100e+03 6.60100e+03\n",
      "                   9.82700e+03 1.35220e+04 1.88550e+04 2.54630e+04 3.43190e+04 4.56270e+04\n",
      "                   5.92520e+04 7.59570e+04 9.64280e+04 1.20693e+05 1.47142e+05 1.77340e+05\n",
      "                   2.10846e+05 2.46321e+05 2.84183e+05 3.21165e+05 3.57582e+05 3.93704e+05\n",
      "                   4.25717e+05 4.53391e+05 4.73174e+05 4.89798e+05 4.95525e+05 4.97347e+05\n",
      "                   4.90840e+05 4.74602e+05 4.53037e+05 4.24795e+05 3.93574e+05 3.58691e+05\n",
      "                   3.20922e+05 2.84138e+05 2.47136e+05 2.11133e+05 1.78113e+05 1.47084e+05\n",
      "                   1.20576e+05 9.65480e+04 7.71190e+04 5.97470e+04 4.58630e+04 3.48380e+04\n",
      "                   2.56050e+04 1.87180e+04 1.34200e+04 9.81900e+03 6.84500e+03 4.49000e+03\n",
      "                   3.17900e+03 2.03000e+03 1.32100e+03 9.47000e+02 5.73000e+02 3.64000e+02\n",
      "                   2.19000e+02 1.45000e+02 8.30000e+01 4.70000e+01 2.90000e+01 1.00000e+01\n",
      "                   8.00000e+00 9.00000e+00 6.00000e+00 0.00000e+00]))),\n",
      "    'two': Histogram(\n",
      "      axis=[\n",
      "        Axis(binning=RegularBinning(num=80, interval=RealInterval(low=-5.0, high=5.0)))\n",
      "      ],\n",
      "      counts=\n",
      "        UnweightedCounts(\n",
      "          counts=\n",
      "            InterpretedInlineInt64Buffer(\n",
      "              buffer=\n",
      "                  [     5      6     11     17     24     36     92    153    216    339\n",
      "                      568    919   1365   2123   3120   4601   6601   9827  13522  18855\n",
      "                    25463  34319  45627  59252  75957  96428 120693 147142 177340 210846\n",
      "                   246321 284183 321165 357582 393704 425717 453391 473174 489798 495525\n",
      "                   497347 490840 474602 453037 424795 393574 358691 320922 284138 247136\n",
      "                   211133 178113 147084 120576  96548  77119  59747  45863  34838  25605\n",
      "                    18718  13420   9819   6845   4490   3179   2030   1321    947    573\n",
      "                      364    219    145     83     47     29     10      8      9      6])))\n",
      "  })\n"
     ]
    }
   ],
   "source": [
    "stagg.Collection({\"one\": fromroot, \"two\": stagg_hist}).dump()"
   ]
  },
  {
   "cell_type": "markdown",
   "metadata": {},
   "source": [
    "Not only for convenience: [you can also define](https://github.com/diana-hep/stagg/blob/master/specification.adoc#Collection) an `Axis` in the `Collection` to subdivide all contents by that `Axis`. For instance, you can make a collection of qualitatively different histograms all have a signal and control region with `PredicateBinning`, or all have systematic variations with `VariationBinning`.\n",
    "\n",
    "It is not necessary to rely on naming conventions to communicate this information from filler to fitter."
   ]
  },
  {
   "cell_type": "markdown",
   "metadata": {},
   "source": [
    "## Histogram → histogram conversions\n",
    "\n",
    "I said in the introduction that Stagg does not fill histograms and does not plot histograms—the two things data analysts are expecting to do. These would be done by user-facing libraries.\n",
    "\n",
    "Stagg does, however, transform histograms into other histograms, and not just among formats. You can combine histograms with `+`. In addition to adding histogram counts, it combines auxiliary statistics appropriately (if possible)."
   ]
  },
  {
   "cell_type": "code",
   "execution_count": 30,
   "metadata": {},
   "outputs": [],
   "source": [
    "h1 = stagg.Histogram([\n",
    "    stagg.Axis(stagg.RegularBinning(10, stagg.RealInterval(-5, 5)),\n",
    "               statistics=[stagg.Statistics(\n",
    "                   moments=[\n",
    "                       stagg.Moments(stagg.InterpretedInlineBuffer.fromarray(numpy.array([10])), n=1),\n",
    "                       stagg.Moments(stagg.InterpretedInlineBuffer.fromarray(numpy.array([20])), n=2)],\n",
    "                   quantiles=[\n",
    "                       stagg.Quantiles(stagg.InterpretedInlineBuffer.fromarray(numpy.array([30])), p=0.5)],\n",
    "                   mode=stagg.Modes(stagg.InterpretedInlineBuffer.fromarray(numpy.array([40]))),\n",
    "                   min=stagg.Extremes(stagg.InterpretedInlineBuffer.fromarray(numpy.array([50]))),\n",
    "                   max=stagg.Extremes(stagg.InterpretedInlineBuffer.fromarray(numpy.array([60]))))])],\n",
    "    stagg.UnweightedCounts(stagg.InterpretedInlineBuffer.fromarray(numpy.arange(10))))\n",
    "h2 = stagg.Histogram([\n",
    "    stagg.Axis(stagg.RegularBinning(10, stagg.RealInterval(-5, 5)),\n",
    "               statistics=[stagg.Statistics(\n",
    "                   moments=[\n",
    "                       stagg.Moments(stagg.InterpretedInlineBuffer.fromarray(numpy.array([100])), n=1),\n",
    "                       stagg.Moments(stagg.InterpretedInlineBuffer.fromarray(numpy.array([200])), n=2)],\n",
    "                   quantiles=[\n",
    "                       stagg.Quantiles(stagg.InterpretedInlineBuffer.fromarray(numpy.array([300])), p=0.5)],\n",
    "                   mode=stagg.Modes(stagg.InterpretedInlineBuffer.fromarray(numpy.array([400]))),\n",
    "                   min=stagg.Extremes(stagg.InterpretedInlineBuffer.fromarray(numpy.array([500]))),\n",
    "                   max=stagg.Extremes(stagg.InterpretedInlineBuffer.fromarray(numpy.array([600]))))])],\n",
    "    stagg.UnweightedCounts(stagg.InterpretedInlineBuffer.fromarray(numpy.arange(100, 200, 10))))"
   ]
  },
  {
   "cell_type": "code",
   "execution_count": 31,
   "metadata": {},
   "outputs": [
    {
     "name": "stdout",
     "output_type": "stream",
     "text": [
      "Histogram(\n",
      "  axis=[\n",
      "    Axis(\n",
      "      binning=RegularBinning(num=10, interval=RealInterval(low=-5.0, high=5.0)),\n",
      "      statistics=[\n",
      "        Statistics(\n",
      "          moments=[\n",
      "            Moments(sumwxn=InterpretedInlineInt64Buffer(buffer=[110]), n=1),\n",
      "            Moments(sumwxn=InterpretedInlineInt64Buffer(buffer=[220]), n=2)\n",
      "          ],\n",
      "          min=Extremes(values=InterpretedInlineInt64Buffer(buffer=[50])),\n",
      "          max=Extremes(values=InterpretedInlineInt64Buffer(buffer=[600])))\n",
      "      ])\n",
      "  ],\n",
      "  counts=\n",
      "    UnweightedCounts(\n",
      "      counts=InterpretedInlineInt64Buffer(buffer=[100 111 122 133 144 155 166 177 188 199])))\n"
     ]
    }
   ],
   "source": [
    "(h1 + h2).dump()"
   ]
  },
  {
   "cell_type": "markdown",
   "metadata": {},
   "source": [
    "The corresponding moments of `h1` and `h2` were matched and added, quantiles and modes were dropped (no way to combine them), and the correct minimum and maximum were picked; the histogram contents were added as well."
   ]
  },
  {
   "cell_type": "markdown",
   "metadata": {},
   "source": [
    "Another important histogram → histogram conversion is axis-reduction, which can take three forms:\n",
    "\n",
    "   * slicing an axis, either dropping the eliminated bins or (if possible, depending on binning type) adding them to underflow/overflow;\n",
    "   * rebinning by combining neighboring bins;\n",
    "   * projecting out an axis, removing it entirely, summing over all existing bins.\n",
    "\n",
    "All of these operations use a Pandas-inspired `loc`/`iloc` syntax."
   ]
  },
  {
   "cell_type": "code",
   "execution_count": 34,
   "metadata": {},
   "outputs": [],
   "source": [
    "h = stagg.Histogram(\n",
    "    [stagg.Axis(stagg.RegularBinning(10, stagg.RealInterval(-5, 5)))],\n",
    "    stagg.UnweightedCounts(\n",
    "        stagg.InterpretedInlineBuffer.fromarray(numpy.array([0, 10, 20, 30, 40, 50, 60, 70, 80, 90]))))"
   ]
  },
  {
   "cell_type": "markdown",
   "metadata": {},
   "source": [
    "`loc` slices in the data's coordinate system. `1.5` rounds up to bin index `6`. The first five bins get combined into an overflow bin: `150 = 10 + 20 + 30 + 40 + 50`."
   ]
  },
  {
   "cell_type": "code",
   "execution_count": 37,
   "metadata": {},
   "outputs": [
    {
     "name": "stdout",
     "output_type": "stream",
     "text": [
      "Histogram(\n",
      "  axis=[\n",
      "    Axis(\n",
      "      binning=\n",
      "        RegularBinning(\n",
      "          num=4,\n",
      "          interval=RealInterval(low=1.0, high=5.0),\n",
      "          overflow=\n",
      "            RealOverflow(\n",
      "              loc_underflow=BinLocation.above1,\n",
      "              minf_mapping=RealOverflow.missing,\n",
      "              pinf_mapping=RealOverflow.missing,\n",
      "              nan_mapping=RealOverflow.missing)))\n",
      "  ],\n",
      "  counts=UnweightedCounts(counts=InterpretedInlineInt64Buffer(buffer=[60 70 80 90 150])))\n"
     ]
    }
   ],
   "source": [
    "h.loc[1.5:].dump()"
   ]
  },
  {
   "cell_type": "markdown",
   "metadata": {},
   "source": [
    "`iloc` "
   ]
  },
  {
   "cell_type": "code",
   "execution_count": null,
   "metadata": {},
   "outputs": [],
   "source": []
  }
 ],
 "metadata": {
  "kernelspec": {
   "display_name": "Python 3",
   "language": "python",
   "name": "python3"
  },
  "language_info": {
   "codemirror_mode": {
    "name": "ipython",
    "version": 3
   },
   "file_extension": ".py",
   "mimetype": "text/x-python",
   "name": "python",
   "nbconvert_exporter": "python",
   "pygments_lexer": "ipython3",
   "version": "3.7.2"
  }
 },
 "nbformat": 4,
 "nbformat_minor": 2
}
