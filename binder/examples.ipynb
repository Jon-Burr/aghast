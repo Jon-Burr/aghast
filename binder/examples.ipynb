{
 "cells": [
  {
   "cell_type": "markdown",
   "metadata": {},
   "source": [
    "# Stagg examples"
   ]
  },
  {
   "cell_type": "markdown",
   "metadata": {},
   "source": [
    "The main purpose of Stagg is to move **st**atistical **agg**reggations, such as histograms, from one framework to the next. This requires a conversion of high-level domain concepts.\n",
    "\n",
    "Consider the following example: in Numpy, a histogram is simply a 2-tuple of arrays with special meaning—bin contents, then bin edges."
   ]
  },
  {
   "cell_type": "code",
   "execution_count": 1,
   "metadata": {},
   "outputs": [
    {
     "data": {
      "text/plain": [
       "(array([     5,      4,      3,     23,     27,     52,     89,    119,\n",
       "           229,    352,    534,    893,   1359,   2060,   3102,   4549,\n",
       "          6761,   9704,  13529,  18784,  25891,  34405,  45625,  59521,\n",
       "         76115,  96065, 120931, 147866, 178400, 210801, 246948, 283954,\n",
       "        321000, 358345, 393657, 426140, 452826, 475003, 489267, 496794,\n",
       "        497189, 489679, 474437, 452604, 425659, 393188, 358827, 321773,\n",
       "        282300, 246676, 210850, 177093, 147373, 120131,  96693,  76449,\n",
       "         59722,  45794,  34335,  25561,  18559,  13696,   9540,   6687,\n",
       "          4594,   3142,   2109,   1307,    846,    584,    336,    226,\n",
       "           125,     76,     51,     21,     11,     12,      4,      3]),\n",
       " array([-5.   , -4.875, -4.75 , -4.625, -4.5  , -4.375, -4.25 , -4.125,\n",
       "        -4.   , -3.875, -3.75 , -3.625, -3.5  , -3.375, -3.25 , -3.125,\n",
       "        -3.   , -2.875, -2.75 , -2.625, -2.5  , -2.375, -2.25 , -2.125,\n",
       "        -2.   , -1.875, -1.75 , -1.625, -1.5  , -1.375, -1.25 , -1.125,\n",
       "        -1.   , -0.875, -0.75 , -0.625, -0.5  , -0.375, -0.25 , -0.125,\n",
       "         0.   ,  0.125,  0.25 ,  0.375,  0.5  ,  0.625,  0.75 ,  0.875,\n",
       "         1.   ,  1.125,  1.25 ,  1.375,  1.5  ,  1.625,  1.75 ,  1.875,\n",
       "         2.   ,  2.125,  2.25 ,  2.375,  2.5  ,  2.625,  2.75 ,  2.875,\n",
       "         3.   ,  3.125,  3.25 ,  3.375,  3.5  ,  3.625,  3.75 ,  3.875,\n",
       "         4.   ,  4.125,  4.25 ,  4.375,  4.5  ,  4.625,  4.75 ,  4.875,\n",
       "         5.   ]))"
      ]
     },
     "execution_count": 1,
     "metadata": {},
     "output_type": "execute_result"
    }
   ],
   "source": [
    "import numpy\n",
    "\n",
    "numpy_hist = numpy.histogram(numpy.random.normal(0, 1, int(10e6)), bins=80, range=(-5, 5))\n",
    "numpy_hist"
   ]
  },
  {
   "cell_type": "markdown",
   "metadata": {},
   "source": [
    "We convert that into its Stagg equivalent with a connector (two-function module: `tostagg` and `tonumpy`)."
   ]
  },
  {
   "cell_type": "code",
   "execution_count": 2,
   "metadata": {},
   "outputs": [
    {
     "data": {
      "text/plain": [
       "<Histogram at 0x7fa1cb1000b8>"
      ]
     },
     "execution_count": 2,
     "metadata": {},
     "output_type": "execute_result"
    }
   ],
   "source": [
    "import stagg.connect.numpy\n",
    "\n",
    "stagg_hist = stagg.connect.numpy.tostagg(numpy_hist)\n",
    "stagg_hist"
   ]
  },
  {
   "cell_type": "markdown",
   "metadata": {},
   "source": [
    "This object is instantiated from a class structure built from simple pieces."
   ]
  },
  {
   "cell_type": "code",
   "execution_count": 3,
   "metadata": {},
   "outputs": [
    {
     "name": "stdout",
     "output_type": "stream",
     "text": [
      "Histogram(\n",
      "  axis=[\n",
      "    Axis(binning=RegularBinning(num=80, interval=RealInterval(low=-5.0, high=5.0)))\n",
      "  ],\n",
      "  counts=\n",
      "    UnweightedCounts(\n",
      "      counts=\n",
      "        InterpretedInlineInt64Buffer(\n",
      "          buffer=\n",
      "              [     5      4      3     23     27     52     89    119    229    352\n",
      "                  534    893   1359   2060   3102   4549   6761   9704  13529  18784\n",
      "                25891  34405  45625  59521  76115  96065 120931 147866 178400 210801\n",
      "               246948 283954 321000 358345 393657 426140 452826 475003 489267 496794\n",
      "               497189 489679 474437 452604 425659 393188 358827 321773 282300 246676\n",
      "               210850 177093 147373 120131  96693  76449  59722  45794  34335  25561\n",
      "                18559  13696   9540   6687   4594   3142   2109   1307    846    584\n",
      "                  336    226    125     76     51     21     11     12      4      3])))\n"
     ]
    }
   ],
   "source": [
    "stagg_hist.dump()"
   ]
  },
  {
   "cell_type": "markdown",
   "metadata": {},
   "source": [
    "Now it can be converted to a ROOT histogram with another connector."
   ]
  },
  {
   "cell_type": "code",
   "execution_count": 4,
   "metadata": {},
   "outputs": [
    {
     "name": "stdout",
     "output_type": "stream",
     "text": [
      "Welcome to JupyROOT 6.14/04\n"
     ]
    },
    {
     "data": {
      "text/plain": [
       "<ROOT.TH1D object (\"root_hist\") at 0x5628dd76fe40>"
      ]
     },
     "execution_count": 4,
     "metadata": {},
     "output_type": "execute_result"
    }
   ],
   "source": [
    "import stagg.connect.root\n",
    "\n",
    "root_hist = stagg.connect.root.toroot(stagg_hist, \"root_hist\")\n",
    "root_hist"
   ]
  },
  {
   "cell_type": "code",
   "execution_count": 5,
   "metadata": {},
   "outputs": [
    {
     "data": {
      "image/png": "[encoded data removed]",
      "text/plain": [
       "<IPython.core.display.Image object>"
      ]
     },
     "metadata": {},
     "output_type": "display_data"
    }
   ],
   "source": [
    "import ROOT\n",
    "canvas = ROOT.TCanvas()\n",
    "root_hist.Draw()\n",
    "canvas.Draw()"
   ]
  },
  {
   "cell_type": "markdown",
   "metadata": {},
   "source": [
    "And Pandas with yet another connector."
   ]
  },
  {
   "cell_type": "code",
   "execution_count": 6,
   "metadata": {},
   "outputs": [
    {
     "data": {
      "text/html": [
       "<div>\n",
       "<style scoped>\n",
       "    .dataframe tbody tr th:only-of-type {\n",
       "        vertical-align: middle;\n",
       "    }\n",
       "\n",
       "    .dataframe tbody tr th {\n",
       "        vertical-align: top;\n",
       "    }\n",
       "\n",
       "    .dataframe thead th {\n",
       "        text-align: right;\n",
       "    }\n",
       "</style>\n",
       "<table border=\"1\" class=\"dataframe\">\n",
       "  <thead>\n",
       "    <tr style=\"text-align: right;\">\n",
       "      <th></th>\n",
       "      <th>unweighted</th>\n",
       "    </tr>\n",
       "  </thead>\n",
       "  <tbody>\n",
       "    <tr>\n",
       "      <th>[-5.0, -4.875)</th>\n",
       "      <td>5</td>\n",
       "    </tr>\n",
       "    <tr>\n",
       "      <th>[-4.875, -4.75)</th>\n",
       "      <td>4</td>\n",
       "    </tr>\n",
       "    <tr>\n",
       "      <th>[-4.75, -4.625)</th>\n",
       "      <td>3</td>\n",
       "    </tr>\n",
       "    <tr>\n",
       "      <th>[-4.625, -4.5)</th>\n",
       "      <td>23</td>\n",
       "    </tr>\n",
       "    <tr>\n",
       "      <th>[-4.5, -4.375)</th>\n",
       "      <td>27</td>\n",
       "    </tr>\n",
       "    <tr>\n",
       "      <th>[-4.375, -4.25)</th>\n",
       "      <td>52</td>\n",
       "    </tr>\n",
       "    <tr>\n",
       "      <th>[-4.25, -4.125)</th>\n",
       "      <td>89</td>\n",
       "    </tr>\n",
       "    <tr>\n",
       "      <th>[-4.125, -4.0)</th>\n",
       "      <td>119</td>\n",
       "    </tr>\n",
       "    <tr>\n",
       "      <th>[-4.0, -3.875)</th>\n",
       "      <td>229</td>\n",
       "    </tr>\n",
       "    <tr>\n",
       "      <th>[-3.875, -3.75)</th>\n",
       "      <td>352</td>\n",
       "    </tr>\n",
       "    <tr>\n",
       "      <th>[-3.75, -3.625)</th>\n",
       "      <td>534</td>\n",
       "    </tr>\n",
       "    <tr>\n",
       "      <th>[-3.625, -3.5)</th>\n",
       "      <td>893</td>\n",
       "    </tr>\n",
       "    <tr>\n",
       "      <th>[-3.5, -3.375)</th>\n",
       "      <td>1359</td>\n",
       "    </tr>\n",
       "    <tr>\n",
       "      <th>[-3.375, -3.25)</th>\n",
       "      <td>2060</td>\n",
       "    </tr>\n",
       "    <tr>\n",
       "      <th>[-3.25, -3.125)</th>\n",
       "      <td>3102</td>\n",
       "    </tr>\n",
       "    <tr>\n",
       "      <th>[-3.125, -3.0)</th>\n",
       "      <td>4549</td>\n",
       "    </tr>\n",
       "    <tr>\n",
       "      <th>[-3.0, -2.875)</th>\n",
       "      <td>6761</td>\n",
       "    </tr>\n",
       "    <tr>\n",
       "      <th>[-2.875, -2.75)</th>\n",
       "      <td>9704</td>\n",
       "    </tr>\n",
       "    <tr>\n",
       "      <th>[-2.75, -2.625)</th>\n",
       "      <td>13529</td>\n",
       "    </tr>\n",
       "    <tr>\n",
       "      <th>[-2.625, -2.5)</th>\n",
       "      <td>18784</td>\n",
       "    </tr>\n",
       "    <tr>\n",
       "      <th>[-2.5, -2.375)</th>\n",
       "      <td>25891</td>\n",
       "    </tr>\n",
       "    <tr>\n",
       "      <th>[-2.375, -2.25)</th>\n",
       "      <td>34405</td>\n",
       "    </tr>\n",
       "    <tr>\n",
       "      <th>[-2.25, -2.125)</th>\n",
       "      <td>45625</td>\n",
       "    </tr>\n",
       "    <tr>\n",
       "      <th>[-2.125, -2.0)</th>\n",
       "      <td>59521</td>\n",
       "    </tr>\n",
       "    <tr>\n",
       "      <th>[-2.0, -1.875)</th>\n",
       "      <td>76115</td>\n",
       "    </tr>\n",
       "    <tr>\n",
       "      <th>[-1.875, -1.75)</th>\n",
       "      <td>96065</td>\n",
       "    </tr>\n",
       "    <tr>\n",
       "      <th>[-1.75, -1.625)</th>\n",
       "      <td>120931</td>\n",
       "    </tr>\n",
       "    <tr>\n",
       "      <th>[-1.625, -1.5)</th>\n",
       "      <td>147866</td>\n",
       "    </tr>\n",
       "    <tr>\n",
       "      <th>[-1.5, -1.375)</th>\n",
       "      <td>178400</td>\n",
       "    </tr>\n",
       "    <tr>\n",
       "      <th>[-1.375, -1.25)</th>\n",
       "      <td>210801</td>\n",
       "    </tr>\n",
       "    <tr>\n",
       "      <th>...</th>\n",
       "      <td>...</td>\n",
       "    </tr>\n",
       "    <tr>\n",
       "      <th>[1.25, 1.375)</th>\n",
       "      <td>210850</td>\n",
       "    </tr>\n",
       "    <tr>\n",
       "      <th>[1.375, 1.5)</th>\n",
       "      <td>177093</td>\n",
       "    </tr>\n",
       "    <tr>\n",
       "      <th>[1.5, 1.625)</th>\n",
       "      <td>147373</td>\n",
       "    </tr>\n",
       "    <tr>\n",
       "      <th>[1.625, 1.75)</th>\n",
       "      <td>120131</td>\n",
       "    </tr>\n",
       "    <tr>\n",
       "      <th>[1.75, 1.875)</th>\n",
       "      <td>96693</td>\n",
       "    </tr>\n",
       "    <tr>\n",
       "      <th>[1.875, 2.0)</th>\n",
       "      <td>76449</td>\n",
       "    </tr>\n",
       "    <tr>\n",
       "      <th>[2.0, 2.125)</th>\n",
       "      <td>59722</td>\n",
       "    </tr>\n",
       "    <tr>\n",
       "      <th>[2.125, 2.25)</th>\n",
       "      <td>45794</td>\n",
       "    </tr>\n",
       "    <tr>\n",
       "      <th>[2.25, 2.375)</th>\n",
       "      <td>34335</td>\n",
       "    </tr>\n",
       "    <tr>\n",
       "      <th>[2.375, 2.5)</th>\n",
       "      <td>25561</td>\n",
       "    </tr>\n",
       "    <tr>\n",
       "      <th>[2.5, 2.625)</th>\n",
       "      <td>18559</td>\n",
       "    </tr>\n",
       "    <tr>\n",
       "      <th>[2.625, 2.75)</th>\n",
       "      <td>13696</td>\n",
       "    </tr>\n",
       "    <tr>\n",
       "      <th>[2.75, 2.875)</th>\n",
       "      <td>9540</td>\n",
       "    </tr>\n",
       "    <tr>\n",
       "      <th>[2.875, 3.0)</th>\n",
       "      <td>6687</td>\n",
       "    </tr>\n",
       "    <tr>\n",
       "      <th>[3.0, 3.125)</th>\n",
       "      <td>4594</td>\n",
       "    </tr>\n",
       "    <tr>\n",
       "      <th>[3.125, 3.25)</th>\n",
       "      <td>3142</td>\n",
       "    </tr>\n",
       "    <tr>\n",
       "      <th>[3.25, 3.375)</th>\n",
       "      <td>2109</td>\n",
       "    </tr>\n",
       "    <tr>\n",
       "      <th>[3.375, 3.5)</th>\n",
       "      <td>1307</td>\n",
       "    </tr>\n",
       "    <tr>\n",
       "      <th>[3.5, 3.625)</th>\n",
       "      <td>846</td>\n",
       "    </tr>\n",
       "    <tr>\n",
       "      <th>[3.625, 3.75)</th>\n",
       "      <td>584</td>\n",
       "    </tr>\n",
       "    <tr>\n",
       "      <th>[3.75, 3.875)</th>\n",
       "      <td>336</td>\n",
       "    </tr>\n",
       "    <tr>\n",
       "      <th>[3.875, 4.0)</th>\n",
       "      <td>226</td>\n",
       "    </tr>\n",
       "    <tr>\n",
       "      <th>[4.0, 4.125)</th>\n",
       "      <td>125</td>\n",
       "    </tr>\n",
       "    <tr>\n",
       "      <th>[4.125, 4.25)</th>\n",
       "      <td>76</td>\n",
       "    </tr>\n",
       "    <tr>\n",
       "      <th>[4.25, 4.375)</th>\n",
       "      <td>51</td>\n",
       "    </tr>\n",
       "    <tr>\n",
       "      <th>[4.375, 4.5)</th>\n",
       "      <td>21</td>\n",
       "    </tr>\n",
       "    <tr>\n",
       "      <th>[4.5, 4.625)</th>\n",
       "      <td>11</td>\n",
       "    </tr>\n",
       "    <tr>\n",
       "      <th>[4.625, 4.75)</th>\n",
       "      <td>12</td>\n",
       "    </tr>\n",
       "    <tr>\n",
       "      <th>[4.75, 4.875)</th>\n",
       "      <td>4</td>\n",
       "    </tr>\n",
       "    <tr>\n",
       "      <th>[4.875, 5.0)</th>\n",
       "      <td>3</td>\n",
       "    </tr>\n",
       "  </tbody>\n",
       "</table>\n",
       "<p>80 rows × 1 columns</p>\n",
       "</div>"
      ],
      "text/plain": [
       "                 unweighted\n",
       "[-5.0, -4.875)            5\n",
       "[-4.875, -4.75)           4\n",
       "[-4.75, -4.625)           3\n",
       "[-4.625, -4.5)           23\n",
       "[-4.5, -4.375)           27\n",
       "[-4.375, -4.25)          52\n",
       "[-4.25, -4.125)          89\n",
       "[-4.125, -4.0)          119\n",
       "[-4.0, -3.875)          229\n",
       "[-3.875, -3.75)         352\n",
       "[-3.75, -3.625)         534\n",
       "[-3.625, -3.5)          893\n",
       "[-3.5, -3.375)         1359\n",
       "[-3.375, -3.25)        2060\n",
       "[-3.25, -3.125)        3102\n",
       "[-3.125, -3.0)         4549\n",
       "[-3.0, -2.875)         6761\n",
       "[-2.875, -2.75)        9704\n",
       "[-2.75, -2.625)       13529\n",
       "[-2.625, -2.5)        18784\n",
       "[-2.5, -2.375)        25891\n",
       "[-2.375, -2.25)       34405\n",
       "[-2.25, -2.125)       45625\n",
       "[-2.125, -2.0)        59521\n",
       "[-2.0, -1.875)        76115\n",
       "[-1.875, -1.75)       96065\n",
       "[-1.75, -1.625)      120931\n",
       "[-1.625, -1.5)       147866\n",
       "[-1.5, -1.375)       178400\n",
       "[-1.375, -1.25)      210801\n",
       "...                     ...\n",
       "[1.25, 1.375)        210850\n",
       "[1.375, 1.5)         177093\n",
       "[1.5, 1.625)         147373\n",
       "[1.625, 1.75)        120131\n",
       "[1.75, 1.875)         96693\n",
       "[1.875, 2.0)          76449\n",
       "[2.0, 2.125)          59722\n",
       "[2.125, 2.25)         45794\n",
       "[2.25, 2.375)         34335\n",
       "[2.375, 2.5)          25561\n",
       "[2.5, 2.625)          18559\n",
       "[2.625, 2.75)         13696\n",
       "[2.75, 2.875)          9540\n",
       "[2.875, 3.0)           6687\n",
       "[3.0, 3.125)           4594\n",
       "[3.125, 3.25)          3142\n",
       "[3.25, 3.375)          2109\n",
       "[3.375, 3.5)           1307\n",
       "[3.5, 3.625)            846\n",
       "[3.625, 3.75)           584\n",
       "[3.75, 3.875)           336\n",
       "[3.875, 4.0)            226\n",
       "[4.0, 4.125)            125\n",
       "[4.125, 4.25)            76\n",
       "[4.25, 4.375)            51\n",
       "[4.375, 4.5)             21\n",
       "[4.5, 4.625)             11\n",
       "[4.625, 4.75)            12\n",
       "[4.75, 4.875)             4\n",
       "[4.875, 5.0)              3\n",
       "\n",
       "[80 rows x 1 columns]"
      ]
     },
     "execution_count": 6,
     "metadata": {},
     "output_type": "execute_result"
    }
   ],
   "source": [
    "import stagg.connect.pandas\n",
    "\n",
    "pandas_hist = stagg.connect.pandas.topandas(stagg_hist)\n",
    "pandas_hist"
   ]
  },
  {
   "cell_type": "markdown",
   "metadata": {},
   "source": [
    "The `stagg_hist` object is also a [Flatbuffers](http://google.github.io/flatbuffers/) object, which has a [multi-lingual](https://google.github.io/flatbuffers/flatbuffers_support.html), [random-access](https://github.com/mzaks/FlatBuffersSwift/wiki/FlatBuffers-Explained), [small-footprint](http://google.github.io/flatbuffers/md__benchmarks.html) serialization:"
   ]
  },
  {
   "cell_type": "code",
   "execution_count": 7,
   "metadata": {},
   "outputs": [
    {
     "data": {
      "text/plain": [
       "bytearray(b'\\x04\\x00\\x00\\x00\\x90\\xff\\xff\\xff\\x10\\x00\\x00\\x00\\x00\\x01\\n\\x00\\x10\\x00\\x0c\\x00\\x0b\\x00\\x04\\x00\\n\\x00\\x00\\x00`\\x00\\x00\\x00\\x00\\x00\\x00\\x01\\x04\\x00\\x00\\x00\\x01\\x00\\x00\\x00\\x0c\\x00\\x00\\x00\\x08\\x00\\x0c\\x00\\x0b\\x00\\x04\\x00\\x08\\x00\\x00\\x00\\x10\\x00\\x00\\x00\\x00\\x00\\x00\\x02\\x08\\x00(\\x00\\x1c\\x00\\x04\\x00\\x08\\x00\\x00\\x00\\x00\\x00\\x00\\x00\\x00\\x00\\x14\\xc0\\x00\\x00\\x00\\x00\\x00\\x00\\x14@\\x01\\x00\\x00\\x00\\x00\\x00\\x00\\x00P\\x00\\x00\\x00\\x00\\x00\\x00\\x00\\x00\\x00\\x00\\x00\\x08\\x00\\n\\x00\\t\\x00\\x04\\x00\\x08\\x00\\x00\\x00\\x0c\\x00\\x00\\x00\\x00\\x02\\x06\\x00\\x08\\x00\\x04\\x00\\x06\\x00\\x00\\x00\\x04\\x00\\x00\\x00\\x80\\x02\\x00\\x00\\x05\\x00\\x00\\x00\\x00\\x00\\x00\\x00\\x04\\x00\\x00\\x00\\x00\\x00\\x00\\x00\\x03\\x00\\x00\\x00\\x00\\x00\\x00\\x00\\x17\\x00\\x00\\x00\\x00\\x00\\x00\\x00\\x1b\\x00\\x00\\x00\\x00\\x00\\x00\\x004\\x00\\x00\\x00\\x00\\x00\\x00\\x00Y\\x00\\x00\\x00\\x00\\x00\\x00\\x00w\\x00\\x00\\x00\\x00\\x00\\x00\\x00\\xe5\\x00\\x00\\x00\\x00\\x00\\x00\\x00`\\x01\\x00\\x00\\x00\\x00\\x00\\x00\\x16\\x02\\x00\\x00\\x00\\x00\\x00\\x00}\\x03\\x00\\x00\\x00\\x00\\x00\\x00O\\x05\\x00\\x00\\x00\\x00\\x00\\x00\\x0c\\x08\\x00\\x00\\x00\\x00\\x00\\x00\\x1e\\x0c\\x00\\x00\\x00\\x00\\x00\\x00\\xc5\\x11\\x00\\x00\\x00\\x00\\x00\\x00i\\x1a\\x00\\x00\\x00\\x00\\x00\\x00\\xe8%\\x00\\x00\\x00\\x00\\x00\\x00\\xd94\\x00\\x00\\x00\\x00\\x00\\x00`I\\x00\\x00\\x00\\x00\\x00\\x00#e\\x00\\x00\\x00\\x00\\x00\\x00e\\x86\\x00\\x00\\x00\\x00\\x00\\x009\\xb2\\x00\\x00\\x00\\x00\\x00\\x00\\x81\\xe8\\x00\\x00\\x00\\x00\\x00\\x00S)\\x01\\x00\\x00\\x00\\x00\\x00Aw\\x01\\x00\\x00\\x00\\x00\\x00c\\xd8\\x01\\x00\\x00\\x00\\x00\\x00\\x9aA\\x02\\x00\\x00\\x00\\x00\\x00\\xe0\\xb8\\x02\\x00\\x00\\x00\\x00\\x00q7\\x03\\x00\\x00\\x00\\x00\\x00\\xa4\\xc4\\x03\\x00\\x00\\x00\\x00\\x002U\\x04\\x00\\x00\\x00\\x00\\x00\\xe8\\xe5\\x04\\x00\\x00\\x00\\x00\\x00\\xc9w\\x05\\x00\\x00\\x00\\x00\\x00\\xb9\\x01\\x06\\x00\\x00\\x00\\x00\\x00\\x9c\\x80\\x06\\x00\\x00\\x00\\x00\\x00\\xda\\xe8\\x06\\x00\\x00\\x00\\x00\\x00{?\\x07\\x00\\x00\\x00\\x00\\x003w\\x07\\x00\\x00\\x00\\x00\\x00\\x9a\\x94\\x07\\x00\\x00\\x00\\x00\\x00%\\x96\\x07\\x00\\x00\\x00\\x00\\x00\\xcfx\\x07\\x00\\x00\\x00\\x00\\x00E=\\x07\\x00\\x00\\x00\\x00\\x00\\xfc\\xe7\\x06\\x00\\x00\\x00\\x00\\x00\\xbb~\\x06\\x00\\x00\\x00\\x00\\x00\\xe4\\xff\\x05\\x00\\x00\\x00\\x00\\x00\\xaby\\x05\\x00\\x00\\x00\\x00\\x00\\xed\\xe8\\x04\\x00\\x00\\x00\\x00\\x00\\xbcN\\x04\\x00\\x00\\x00\\x00\\x00\\x94\\xc3\\x03\\x00\\x00\\x00\\x00\\x00\\xa27\\x03\\x00\\x00\\x00\\x00\\x00\\xc5\\xb3\\x02\\x00\\x00\\x00\\x00\\x00\\xad?\\x02\\x00\\x00\\x00\\x00\\x00C\\xd5\\x01\\x00\\x00\\x00\\x00\\x00\\xb5y\\x01\\x00\\x00\\x00\\x00\\x00\\xa1*\\x01\\x00\\x00\\x00\\x00\\x00J\\xe9\\x00\\x00\\x00\\x00\\x00\\x00\\xe2\\xb2\\x00\\x00\\x00\\x00\\x00\\x00\\x1f\\x86\\x00\\x00\\x00\\x00\\x00\\x00\\xd9c\\x00\\x00\\x00\\x00\\x00\\x00\\x7fH\\x00\\x00\\x00\\x00\\x00\\x00\\x805\\x00\\x00\\x00\\x00\\x00\\x00D%\\x00\\x00\\x00\\x00\\x00\\x00\\x1f\\x1a\\x00\\x00\\x00\\x00\\x00\\x00\\xf2\\x11\\x00\\x00\\x00\\x00\\x00\\x00F\\x0c\\x00\\x00\\x00\\x00\\x00\\x00=\\x08\\x00\\x00\\x00\\x00\\x00\\x00\\x1b\\x05\\x00\\x00\\x00\\x00\\x00\\x00N\\x03\\x00\\x00\\x00\\x00\\x00\\x00H\\x02\\x00\\x00\\x00\\x00\\x00\\x00P\\x01\\x00\\x00\\x00\\x00\\x00\\x00\\xe2\\x00\\x00\\x00\\x00\\x00\\x00\\x00}\\x00\\x00\\x00\\x00\\x00\\x00\\x00L\\x00\\x00\\x00\\x00\\x00\\x00\\x003\\x00\\x00\\x00\\x00\\x00\\x00\\x00\\x15\\x00\\x00\\x00\\x00\\x00\\x00\\x00\\x0b\\x00\\x00\\x00\\x00\\x00\\x00\\x00\\x0c\\x00\\x00\\x00\\x00\\x00\\x00\\x00\\x04\\x00\\x00\\x00\\x00\\x00\\x00\\x00\\x03\\x00\\x00\\x00\\x00\\x00\\x00\\x00')"
      ]
     },
     "execution_count": 7,
     "metadata": {},
     "output_type": "execute_result"
    }
   ],
   "source": [
    "stagg_hist.tobuffer()"
   ]
  },
  {
   "cell_type": "code",
   "execution_count": 8,
   "metadata": {},
   "outputs": [
    {
     "name": "stdout",
     "output_type": "stream",
     "text": [
      "Numpy size:  1288\n",
      "ROOT size:   1963\n",
      "Pandas size: 2984\n",
      "Stagg size:   792\n"
     ]
    }
   ],
   "source": [
    "print(\"Numpy size: \", numpy_hist[0].nbytes + numpy_hist[1].nbytes)\n",
    "\n",
    "tmessage = ROOT.TMessage()\n",
    "tmessage.WriteObject(root_hist)\n",
    "print(\"ROOT size:  \", tmessage.Length())\n",
    "\n",
    "import pickle\n",
    "print(\"Pandas size:\", len(pickle.dumps(pandas_hist)))\n",
    "\n",
    "print(\"Stagg size:  \", len(stagg_hist.tobuffer()))"
   ]
  },
  {
   "cell_type": "markdown",
   "metadata": {},
   "source": [
    "Stagg is generally forseen as a memory format, like [Apache Arrow](https://arrow.apache.org), but for statistical aggregations. Like Arrow, it reduces the need to implement $N(N - 1)/2$ conversion functions among $N$ statistical libraries to just $N$ conversion functions. (See the figure on Arrow's website.)"
   ]
  },
  {
   "cell_type": "markdown",
   "metadata": {},
   "source": [
    "It also intends to be as close to zero-copy as possible. This means that it must make graceful translations among conventions. Different histogramming libraries handle overflow bins in different ways:"
   ]
  },
  {
   "cell_type": "code",
   "execution_count": 9,
   "metadata": {},
   "outputs": [
    {
     "name": "stdout",
     "output_type": "stream",
     "text": [
      "RegularBinning(\n",
      "  num=80,\n",
      "  interval=RealInterval(low=-5.0, high=5.0),\n",
      "  overflow=RealOverflow(loc_underflow=BinLocation.below1, loc_overflow=BinLocation.above1))\n",
      "Bin contents length: 82\n"
     ]
    }
   ],
   "source": [
    "fromroot = stagg.connect.root.tostagg(root_hist)\n",
    "fromroot.axis[0].binning.dump()\n",
    "print(\"Bin contents length:\", len(fromroot.counts.array))"
   ]
  },
  {
   "cell_type": "code",
   "execution_count": 10,
   "metadata": {},
   "outputs": [
    {
     "name": "stdout",
     "output_type": "stream",
     "text": [
      "RegularBinning(num=80, interval=RealInterval(low=-5.0, high=5.0))\n",
      "Bin contents length: 80\n"
     ]
    }
   ],
   "source": [
    "stagg_hist.axis[0].binning.dump()\n",
    "print(\"Bin contents length:\", len(stagg_hist.counts.array))"
   ]
  },
  {
   "cell_type": "markdown",
   "metadata": {},
   "source": [
    "And yet we want to be able to manipulate them as though these differences did not exist."
   ]
  },
  {
   "cell_type": "code",
   "execution_count": 11,
   "metadata": {},
   "outputs": [],
   "source": [
    "sum_hist = fromroot + stagg_hist"
   ]
  },
  {
   "cell_type": "code",
   "execution_count": 12,
   "metadata": {},
   "outputs": [
    {
     "name": "stdout",
     "output_type": "stream",
     "text": [
      "RegularBinning(\n",
      "  num=80,\n",
      "  interval=RealInterval(low=-5.0, high=5.0),\n",
      "  overflow=RealOverflow(loc_underflow=BinLocation.above1, loc_overflow=BinLocation.above2))\n",
      "Bin contents length: 82\n"
     ]
    }
   ],
   "source": [
    "sum_hist.axis[0].binning.dump()\n",
    "print(\"Bin contents length:\", len(sum_hist.counts.array))"
   ]
  },
  {
   "cell_type": "markdown",
   "metadata": {},
   "source": [
    "The binning structure keeps track of the existence of underflow/overflow bins and where they are located.\n",
    "\n",
    "   * ROOT's convention is to put underflow before the normal bins (`below1`) and overflow after (`above1`), so that the normal bins are effectively 1-indexed.\n",
    "   * Boost.Histogram's convention is to put overflow after the normal bins (`above1`) and underflow after that (`above2`), so that underflow is accessed via `myhist[-1]` in Numpy.\n",
    "   * Numpy histograms don't have underflow/overflow bins.\n",
    "   * Pandas could have `Intervals` that extend to infinity.\n",
    "\n",
    "Stagg accepts all of these, so that it doesn't have to manipulate the bin contents buffer it receives, but knows how to deal with them if it has to combine histograms that follow different conventions."
   ]
  },
  {
   "cell_type": "markdown",
   "metadata": {},
   "source": [
    "All the different axis types have an equivalent in Stagg (and not all are single-dimensional)."
   ]
  },
  {
   "cell_type": "code",
   "execution_count": 13,
   "metadata": {},
   "outputs": [
    {
     "name": "stdout",
     "output_type": "stream",
     "text": [
      "IntegerBinning(min=5, max=10)\n",
      "RegularBinning(num=100, interval=RealInterval(low=-5.0, high=5.0))\n",
      "HexagonalBinning(qmin=0, qmax=100, rmin=0, rmax=100, coordinates=HexagonalBinning.cube_xy)\n",
      "EdgesBinning(edges=[0.01 0.05 0.1 0.5 1 5 10 50 100])\n",
      "IrregularBinning(\n",
      "  intervals=[\n",
      "    RealInterval(low=0.0, high=5.0),\n",
      "    RealInterval(low=10.0, high=100.0),\n",
      "    RealInterval(low=-10.0, high=10.0)\n",
      "  ],\n",
      "  overlapping_fill=IrregularBinning.all)\n",
      "CategoryBinning(categories=['one', 'two', 'three'])\n",
      "SparseRegularBinning(bins=[5 3 -2 8 -100], bin_width=10.0)\n",
      "FractionBinning(error_method=FractionBinning.clopper_pearson)\n",
      "PredicateBinning(predicates=['signal region', 'control region'])\n",
      "VariationBinning(\n",
      "  variations=[\n",
      "    Variation(assignments=[\n",
      "        Assignment(identifier='x', expression='nominal')\n",
      "      ]),\n",
      "    Variation(\n",
      "      assignments=[\n",
      "        Assignment(identifier='x', expression='nominal + sigma')\n",
      "      ]),\n",
      "    Variation(\n",
      "      assignments=[\n",
      "        Assignment(identifier='x', expression='nominal - sigma')\n",
      "      ])\n",
      "  ])\n"
     ]
    }
   ],
   "source": [
    "import stagg\n",
    "stagg.IntegerBinning(5, 10).dump()\n",
    "stagg.RegularBinning(100, stagg.RealInterval(-5, 5)).dump()\n",
    "stagg.HexagonalBinning(0, 100, 0, 100, stagg.HexagonalBinning.cube_xy).dump()\n",
    "stagg.EdgesBinning([0.01, 0.05, 0.1, 0.5, 1, 5, 10, 50, 100]).dump()\n",
    "stagg.IrregularBinning([stagg.RealInterval(0, 5),\n",
    "                        stagg.RealInterval(10, 100),\n",
    "                        stagg.RealInterval(-10, 10)],\n",
    "                       overlapping_fill=stagg.IrregularBinning.all).dump()\n",
    "stagg.CategoryBinning([\"one\", \"two\", \"three\"]).dump()\n",
    "stagg.SparseRegularBinning([5, 3, -2, 8, -100], 10).dump()\n",
    "stagg.FractionBinning(error_method=stagg.FractionBinning.clopper_pearson).dump()\n",
    "stagg.PredicateBinning([\"signal region\", \"control region\"]).dump()\n",
    "stagg.VariationBinning([stagg.Variation([stagg.Assignment(\"x\", \"nominal\")]),\n",
    "                        stagg.Variation([stagg.Assignment(\"x\", \"nominal + sigma\")]),\n",
    "                        stagg.Variation([stagg.Assignment(\"x\", \"nominal - sigma\")])]).dump()"
   ]
  },
  {
   "cell_type": "markdown",
   "metadata": {},
   "source": [
    "The meanings of these binning classes are given in [the specification](https://github.com/diana-hep/stagg/blob/master/specification.adoc#integerbinning), but many of them can be converted into one another, and converting to `CategoryBinning` (strings) often makes the intent clear."
   ]
  },
  {
   "cell_type": "code",
   "execution_count": 14,
   "metadata": {},
   "outputs": [
    {
     "name": "stdout",
     "output_type": "stream",
     "text": [
      "CategoryBinning(categories=['5', '6', '7', '8', '9', '10'])\n",
      "CategoryBinning(\n",
      "  categories=['[-5, -4)', '[-4, -3)', '[-3, -2)', '[-2, -1)', '[-1, 0)', '[0, 1)', '[1, 2)', '[2, 3)', '[3, 4)', '[4, 5)'])\n",
      "CategoryBinning(\n",
      "  categories=['[0.01, 0.05)', '[0.05, 0.1)', '[0.1, 0.5)', '[0.5, 1)', '[1, 5)', '[5, 10)', '[10, 50)', '[50, 100)'])\n",
      "CategoryBinning(categories=['[0, 5)', '[10, 100)', '[-10, 10)'])\n",
      "CategoryBinning(categories=['[50, 60)', '[30, 40)', '[-20, -10)', '[80, 90)', '[-1000, -990)'])\n",
      "CategoryBinning(categories=['pass', 'all'])\n",
      "CategoryBinning(categories=['signal region', 'control region'])\n",
      "CategoryBinning(categories=['x := nominal', 'x := nominal + sigma', 'x := nominal - sigma'])\n"
     ]
    }
   ],
   "source": [
    "stagg.IntegerBinning(5, 10).toCategoryBinning().dump()\n",
    "stagg.RegularBinning(10, stagg.RealInterval(-5, 5)).toCategoryBinning().dump()\n",
    "stagg.EdgesBinning([0.01, 0.05, 0.1, 0.5, 1, 5, 10, 50, 100]).toCategoryBinning().dump()\n",
    "stagg.IrregularBinning([stagg.RealInterval(0, 5),\n",
    "                        stagg.RealInterval(10, 100),\n",
    "                        stagg.RealInterval(-10, 10)],\n",
    "                       overlapping_fill=stagg.IrregularBinning.all).toCategoryBinning().dump()\n",
    "stagg.SparseRegularBinning([5, 3, -2, 8, -100], 10).toCategoryBinning().dump()\n",
    "stagg.FractionBinning(error_method=stagg.FractionBinning.clopper_pearson).toCategoryBinning().dump()\n",
    "stagg.PredicateBinning([\"signal region\", \"control region\"]).toCategoryBinning().dump()\n",
    "stagg.VariationBinning([stagg.Variation([stagg.Assignment(\"x\", \"nominal\")]),\n",
    "                        stagg.Variation([stagg.Assignment(\"x\", \"nominal + sigma\")]),\n",
    "                        stagg.Variation([stagg.Assignment(\"x\", \"nominal - sigma\")])]).toCategoryBinning().dump()"
   ]
  },
  {
   "cell_type": "markdown",
   "metadata": {},
   "source": [
    "This technique can also clear up confusion about overflow bins."
   ]
  },
  {
   "cell_type": "code",
   "execution_count": 15,
   "metadata": {},
   "outputs": [
    {
     "name": "stdout",
     "output_type": "stream",
     "text": [
      "CategoryBinning(\n",
      "  categories=['{nan}', '[-5, -3)', '[-3, -1)', '[-1, 1)', '[1, 3)', '[3, 5)', '[5, +inf]', '[-inf, -5)'])\n"
     ]
    }
   ],
   "source": [
    "stagg.RegularBinning(5, stagg.RealInterval(-5, 5), stagg.RealOverflow(\n",
    "    loc_underflow=stagg.BinLocation.above2,\n",
    "    loc_overflow=stagg.BinLocation.above1,\n",
    "    loc_nanflow=stagg.BinLocation.below1\n",
    "    )).toCategoryBinning().dump()"
   ]
  },
  {
   "cell_type": "markdown",
   "metadata": {},
   "source": [
    "You might also be wondering about `FractionBinning`, `PredicateBinning`, and `VariationBinning`.\n",
    "\n",
    "`FractionBinning` is an axis of two bins: #passing and #total, #failing and #total, or #passing and #failing. Adding it to another axis effectively makes an \"efficiency plot.\""
   ]
  },
  {
   "cell_type": "code",
   "execution_count": 16,
   "metadata": {},
   "outputs": [
    {
     "data": {
      "text/html": [
       "<div>\n",
       "<style scoped>\n",
       "    .dataframe tbody tr th:only-of-type {\n",
       "        vertical-align: middle;\n",
       "    }\n",
       "\n",
       "    .dataframe tbody tr th {\n",
       "        vertical-align: top;\n",
       "    }\n",
       "\n",
       "    .dataframe thead th {\n",
       "        text-align: right;\n",
       "    }\n",
       "</style>\n",
       "<table border=\"1\" class=\"dataframe\">\n",
       "  <thead>\n",
       "    <tr style=\"text-align: right;\">\n",
       "      <th></th>\n",
       "      <th></th>\n",
       "      <th>unweighted</th>\n",
       "    </tr>\n",
       "  </thead>\n",
       "  <tbody>\n",
       "    <tr>\n",
       "      <th rowspan=\"10\" valign=\"top\">pass</th>\n",
       "      <th>[-5.0, -4.0)</th>\n",
       "      <td>9</td>\n",
       "    </tr>\n",
       "    <tr>\n",
       "      <th>[-4.0, -3.0)</th>\n",
       "      <td>25</td>\n",
       "    </tr>\n",
       "    <tr>\n",
       "      <th>[-3.0, -2.0)</th>\n",
       "      <td>29</td>\n",
       "    </tr>\n",
       "    <tr>\n",
       "      <th>[-2.0, -1.0)</th>\n",
       "      <td>35</td>\n",
       "    </tr>\n",
       "    <tr>\n",
       "      <th>[-1.0, 0.0)</th>\n",
       "      <td>54</td>\n",
       "    </tr>\n",
       "    <tr>\n",
       "      <th>[0.0, 1.0)</th>\n",
       "      <td>67</td>\n",
       "    </tr>\n",
       "    <tr>\n",
       "      <th>[1.0, 2.0)</th>\n",
       "      <td>60</td>\n",
       "    </tr>\n",
       "    <tr>\n",
       "      <th>[2.0, 3.0)</th>\n",
       "      <td>84</td>\n",
       "    </tr>\n",
       "    <tr>\n",
       "      <th>[3.0, 4.0)</th>\n",
       "      <td>80</td>\n",
       "    </tr>\n",
       "    <tr>\n",
       "      <th>[4.0, 5.0)</th>\n",
       "      <td>94</td>\n",
       "    </tr>\n",
       "    <tr>\n",
       "      <th rowspan=\"10\" valign=\"top\">all</th>\n",
       "      <th>[-5.0, -4.0)</th>\n",
       "      <td>99</td>\n",
       "    </tr>\n",
       "    <tr>\n",
       "      <th>[-4.0, -3.0)</th>\n",
       "      <td>119</td>\n",
       "    </tr>\n",
       "    <tr>\n",
       "      <th>[-3.0, -2.0)</th>\n",
       "      <td>109</td>\n",
       "    </tr>\n",
       "    <tr>\n",
       "      <th>[-2.0, -1.0)</th>\n",
       "      <td>109</td>\n",
       "    </tr>\n",
       "    <tr>\n",
       "      <th>[-1.0, 0.0)</th>\n",
       "      <td>95</td>\n",
       "    </tr>\n",
       "    <tr>\n",
       "      <th>[0.0, 1.0)</th>\n",
       "      <td>104</td>\n",
       "    </tr>\n",
       "    <tr>\n",
       "      <th>[1.0, 2.0)</th>\n",
       "      <td>102</td>\n",
       "    </tr>\n",
       "    <tr>\n",
       "      <th>[2.0, 3.0)</th>\n",
       "      <td>106</td>\n",
       "    </tr>\n",
       "    <tr>\n",
       "      <th>[3.0, 4.0)</th>\n",
       "      <td>112</td>\n",
       "    </tr>\n",
       "    <tr>\n",
       "      <th>[4.0, 5.0)</th>\n",
       "      <td>122</td>\n",
       "    </tr>\n",
       "  </tbody>\n",
       "</table>\n",
       "</div>"
      ],
      "text/plain": [
       "                   unweighted\n",
       "pass [-5.0, -4.0)           9\n",
       "     [-4.0, -3.0)          25\n",
       "     [-3.0, -2.0)          29\n",
       "     [-2.0, -1.0)          35\n",
       "     [-1.0, 0.0)           54\n",
       "     [0.0, 1.0)            67\n",
       "     [1.0, 2.0)            60\n",
       "     [2.0, 3.0)            84\n",
       "     [3.0, 4.0)            80\n",
       "     [4.0, 5.0)            94\n",
       "all  [-5.0, -4.0)          99\n",
       "     [-4.0, -3.0)         119\n",
       "     [-3.0, -2.0)         109\n",
       "     [-2.0, -1.0)         109\n",
       "     [-1.0, 0.0)           95\n",
       "     [0.0, 1.0)           104\n",
       "     [1.0, 2.0)           102\n",
       "     [2.0, 3.0)           106\n",
       "     [3.0, 4.0)           112\n",
       "     [4.0, 5.0)           122"
      ]
     },
     "execution_count": 16,
     "metadata": {},
     "output_type": "execute_result"
    }
   ],
   "source": [
    "h = stagg.Histogram([stagg.Axis(stagg.FractionBinning()),\n",
    "                     stagg.Axis(stagg.RegularBinning(10, stagg.RealInterval(-5, 5)))],\n",
    "                    stagg.UnweightedCounts(\n",
    "                        stagg.InterpretedInlineBuffer.fromarray(\n",
    "                            numpy.array([[  9,  25,  29,  35,  54,  67,  60,  84,  80,  94],\n",
    "                                         [ 99, 119, 109, 109,  95, 104, 102, 106, 112, 122]]))))\n",
    "df = stagg.connect.pandas.topandas(h)\n",
    "df"
   ]
  },
  {
   "cell_type": "code",
   "execution_count": 17,
   "metadata": {},
   "outputs": [
    {
     "data": {
      "text/html": [
       "<div>\n",
       "<style scoped>\n",
       "    .dataframe tbody tr th:only-of-type {\n",
       "        vertical-align: middle;\n",
       "    }\n",
       "\n",
       "    .dataframe tbody tr th {\n",
       "        vertical-align: top;\n",
       "    }\n",
       "\n",
       "    .dataframe thead tr th {\n",
       "        text-align: left;\n",
       "    }\n",
       "</style>\n",
       "<table border=\"1\" class=\"dataframe\">\n",
       "  <thead>\n",
       "    <tr>\n",
       "      <th></th>\n",
       "      <th colspan=\"2\" halign=\"left\">unweighted</th>\n",
       "    </tr>\n",
       "    <tr>\n",
       "      <th></th>\n",
       "      <th>all</th>\n",
       "      <th>pass</th>\n",
       "    </tr>\n",
       "  </thead>\n",
       "  <tbody>\n",
       "    <tr>\n",
       "      <th>[-5.0, -4.0)</th>\n",
       "      <td>99</td>\n",
       "      <td>9</td>\n",
       "    </tr>\n",
       "    <tr>\n",
       "      <th>[-4.0, -3.0)</th>\n",
       "      <td>119</td>\n",
       "      <td>25</td>\n",
       "    </tr>\n",
       "    <tr>\n",
       "      <th>[-3.0, -2.0)</th>\n",
       "      <td>109</td>\n",
       "      <td>29</td>\n",
       "    </tr>\n",
       "    <tr>\n",
       "      <th>[-2.0, -1.0)</th>\n",
       "      <td>109</td>\n",
       "      <td>35</td>\n",
       "    </tr>\n",
       "    <tr>\n",
       "      <th>[-1.0, 0.0)</th>\n",
       "      <td>95</td>\n",
       "      <td>54</td>\n",
       "    </tr>\n",
       "    <tr>\n",
       "      <th>[0.0, 1.0)</th>\n",
       "      <td>104</td>\n",
       "      <td>67</td>\n",
       "    </tr>\n",
       "    <tr>\n",
       "      <th>[1.0, 2.0)</th>\n",
       "      <td>102</td>\n",
       "      <td>60</td>\n",
       "    </tr>\n",
       "    <tr>\n",
       "      <th>[2.0, 3.0)</th>\n",
       "      <td>106</td>\n",
       "      <td>84</td>\n",
       "    </tr>\n",
       "    <tr>\n",
       "      <th>[3.0, 4.0)</th>\n",
       "      <td>112</td>\n",
       "      <td>80</td>\n",
       "    </tr>\n",
       "    <tr>\n",
       "      <th>[4.0, 5.0)</th>\n",
       "      <td>122</td>\n",
       "      <td>94</td>\n",
       "    </tr>\n",
       "  </tbody>\n",
       "</table>\n",
       "</div>"
      ],
      "text/plain": [
       "             unweighted     \n",
       "                    all pass\n",
       "[-5.0, -4.0)         99    9\n",
       "[-4.0, -3.0)        119   25\n",
       "[-3.0, -2.0)        109   29\n",
       "[-2.0, -1.0)        109   35\n",
       "[-1.0, 0.0)          95   54\n",
       "[0.0, 1.0)          104   67\n",
       "[1.0, 2.0)          102   60\n",
       "[2.0, 3.0)          106   84\n",
       "[3.0, 4.0)          112   80\n",
       "[4.0, 5.0)          122   94"
      ]
     },
     "execution_count": 17,
     "metadata": {},
     "output_type": "execute_result"
    }
   ],
   "source": [
    "df = df.unstack(level=0)\n",
    "df"
   ]
  },
  {
   "cell_type": "code",
   "execution_count": 18,
   "metadata": {},
   "outputs": [
    {
     "data": {
      "text/plain": [
       "[-5.0, -4.0)    0.090909\n",
       "[-4.0, -3.0)    0.210084\n",
       "[-3.0, -2.0)    0.266055\n",
       "[-2.0, -1.0)    0.321101\n",
       "[-1.0, 0.0)     0.568421\n",
       "[0.0, 1.0)      0.644231\n",
       "[1.0, 2.0)      0.588235\n",
       "[2.0, 3.0)      0.792453\n",
       "[3.0, 4.0)      0.714286\n",
       "[4.0, 5.0)      0.770492\n",
       "dtype: float64"
      ]
     },
     "execution_count": 18,
     "metadata": {},
     "output_type": "execute_result"
    }
   ],
   "source": [
    "df[\"unweighted\", \"pass\"] / df[\"unweighted\", \"all\"]"
   ]
  },
  {
   "cell_type": "markdown",
   "metadata": {},
   "source": [
    "`PredicateBinning` means that each bin represents a predicate (if-then rule) in the filling procedure. Stagg doesn't _have_ a filling procedure, but filling-libraries can use this to encode relationships among histograms that a fitting-library can take advantage of, for combined signal-control region fits, for instance. It's possible for those regions to overlap: an input datum might satisfy more than one predicate, and `overlapping_fill` determines which bin(s) were chosen: `first`, `last`, or `all`.\n",
    "\n",
    "`VariationBinning` means that each bin represents a variation of one of the paramters used to calculate the fill-variables. This is used to determine sensitivity to systematic effects, by varying them and re-filling. In this kind of binning, the same input datum enters every bin."
   ]
  },
  {
   "cell_type": "code",
   "execution_count": 19,
   "metadata": {},
   "outputs": [
    {
     "data": {
      "text/html": [
       "<div>\n",
       "<style scoped>\n",
       "    .dataframe tbody tr th:only-of-type {\n",
       "        vertical-align: middle;\n",
       "    }\n",
       "\n",
       "    .dataframe tbody tr th {\n",
       "        vertical-align: top;\n",
       "    }\n",
       "\n",
       "    .dataframe thead th {\n",
       "        text-align: right;\n",
       "    }\n",
       "</style>\n",
       "<table border=\"1\" class=\"dataframe\">\n",
       "  <thead>\n",
       "    <tr style=\"text-align: right;\">\n",
       "      <th></th>\n",
       "      <th></th>\n",
       "      <th>unweighted</th>\n",
       "    </tr>\n",
       "  </thead>\n",
       "  <tbody>\n",
       "    <tr>\n",
       "      <th rowspan=\"10\" valign=\"top\">x := nominal</th>\n",
       "      <th>[-5.0, -4.0)</th>\n",
       "      <td>22</td>\n",
       "    </tr>\n",
       "    <tr>\n",
       "      <th>[-4.0, -3.0)</th>\n",
       "      <td>1381</td>\n",
       "    </tr>\n",
       "    <tr>\n",
       "      <th>[-3.0, -2.0)</th>\n",
       "      <td>21128</td>\n",
       "    </tr>\n",
       "    <tr>\n",
       "      <th>[-2.0, -1.0)</th>\n",
       "      <td>136060</td>\n",
       "    </tr>\n",
       "    <tr>\n",
       "      <th>[-1.0, 0.0)</th>\n",
       "      <td>342080</td>\n",
       "    </tr>\n",
       "    <tr>\n",
       "      <th>[0.0, 1.0)</th>\n",
       "      <td>340732</td>\n",
       "    </tr>\n",
       "    <tr>\n",
       "      <th>[1.0, 2.0)</th>\n",
       "      <td>136077</td>\n",
       "    </tr>\n",
       "    <tr>\n",
       "      <th>[2.0, 3.0)</th>\n",
       "      <td>21187</td>\n",
       "    </tr>\n",
       "    <tr>\n",
       "      <th>[3.0, 4.0)</th>\n",
       "      <td>1304</td>\n",
       "    </tr>\n",
       "    <tr>\n",
       "      <th>[4.0, 5.0)</th>\n",
       "      <td>29</td>\n",
       "    </tr>\n",
       "    <tr>\n",
       "      <th rowspan=\"10\" valign=\"top\">x := nominal + sigma</th>\n",
       "      <th>[-5.0, -4.0)</th>\n",
       "      <td>9</td>\n",
       "    </tr>\n",
       "    <tr>\n",
       "      <th>[-4.0, -3.0)</th>\n",
       "      <td>601</td>\n",
       "    </tr>\n",
       "    <tr>\n",
       "      <th>[-3.0, -2.0)</th>\n",
       "      <td>10683</td>\n",
       "    </tr>\n",
       "    <tr>\n",
       "      <th>[-2.0, -1.0)</th>\n",
       "      <td>84169</td>\n",
       "    </tr>\n",
       "    <tr>\n",
       "      <th>[-1.0, 0.0)</th>\n",
       "      <td>271841</td>\n",
       "    </tr>\n",
       "    <tr>\n",
       "      <th>[0.0, 1.0)</th>\n",
       "      <td>369178</td>\n",
       "    </tr>\n",
       "    <tr>\n",
       "      <th>[1.0, 2.0)</th>\n",
       "      <td>208454</td>\n",
       "    </tr>\n",
       "    <tr>\n",
       "      <th>[2.0, 3.0)</th>\n",
       "      <td>49987</td>\n",
       "    </tr>\n",
       "    <tr>\n",
       "      <th>[3.0, 4.0)</th>\n",
       "      <td>4879</td>\n",
       "    </tr>\n",
       "    <tr>\n",
       "      <th>[4.0, 5.0)</th>\n",
       "      <td>195</td>\n",
       "    </tr>\n",
       "  </tbody>\n",
       "</table>\n",
       "</div>"
      ],
      "text/plain": [
       "                                   unweighted\n",
       "x := nominal         [-5.0, -4.0)          22\n",
       "                     [-4.0, -3.0)        1381\n",
       "                     [-3.0, -2.0)       21128\n",
       "                     [-2.0, -1.0)      136060\n",
       "                     [-1.0, 0.0)       342080\n",
       "                     [0.0, 1.0)        340732\n",
       "                     [1.0, 2.0)        136077\n",
       "                     [2.0, 3.0)         21187\n",
       "                     [3.0, 4.0)          1304\n",
       "                     [4.0, 5.0)            29\n",
       "x := nominal + sigma [-5.0, -4.0)           9\n",
       "                     [-4.0, -3.0)         601\n",
       "                     [-3.0, -2.0)       10683\n",
       "                     [-2.0, -1.0)       84169\n",
       "                     [-1.0, 0.0)       271841\n",
       "                     [0.0, 1.0)        369178\n",
       "                     [1.0, 2.0)        208454\n",
       "                     [2.0, 3.0)         49987\n",
       "                     [3.0, 4.0)          4879\n",
       "                     [4.0, 5.0)           195"
      ]
     },
     "execution_count": 19,
     "metadata": {},
     "output_type": "execute_result"
    }
   ],
   "source": [
    "xdata = numpy.random.normal(0, 1, int(1e6))\n",
    "sigma = numpy.random.uniform(-0.1, 0.8, int(1e6))\n",
    "\n",
    "h = stagg.Histogram([stagg.Axis(stagg.VariationBinning([\n",
    "                        stagg.Variation([stagg.Assignment(\"x\", \"nominal\")]),\n",
    "                        stagg.Variation([stagg.Assignment(\"x\", \"nominal + sigma\")])])),\n",
    "                     stagg.Axis(stagg.RegularBinning(10, stagg.RealInterval(-5, 5)))],\n",
    "                    stagg.UnweightedCounts(\n",
    "                        stagg.InterpretedInlineBuffer.fromarray(\n",
    "                            numpy.concatenate([\n",
    "                                numpy.histogram(xdata, bins=10, range=(-5, 5))[0],\n",
    "                                numpy.histogram(xdata + sigma, bins=10, range=(-5, 5))[0]]))))\n",
    "df = stagg.connect.pandas.topandas(h)\n",
    "df"
   ]
  },
  {
   "cell_type": "code",
   "execution_count": 20,
   "metadata": {},
   "outputs": [
    {
     "data": {
      "text/html": [
       "<div>\n",
       "<style scoped>\n",
       "    .dataframe tbody tr th:only-of-type {\n",
       "        vertical-align: middle;\n",
       "    }\n",
       "\n",
       "    .dataframe tbody tr th {\n",
       "        vertical-align: top;\n",
       "    }\n",
       "\n",
       "    .dataframe thead tr th {\n",
       "        text-align: left;\n",
       "    }\n",
       "</style>\n",
       "<table border=\"1\" class=\"dataframe\">\n",
       "  <thead>\n",
       "    <tr>\n",
       "      <th></th>\n",
       "      <th colspan=\"2\" halign=\"left\">unweighted</th>\n",
       "    </tr>\n",
       "    <tr>\n",
       "      <th></th>\n",
       "      <th>x := nominal</th>\n",
       "      <th>x := nominal + sigma</th>\n",
       "    </tr>\n",
       "  </thead>\n",
       "  <tbody>\n",
       "    <tr>\n",
       "      <th>[-5.0, -4.0)</th>\n",
       "      <td>22</td>\n",
       "      <td>9</td>\n",
       "    </tr>\n",
       "    <tr>\n",
       "      <th>[-4.0, -3.0)</th>\n",
       "      <td>1381</td>\n",
       "      <td>601</td>\n",
       "    </tr>\n",
       "    <tr>\n",
       "      <th>[-3.0, -2.0)</th>\n",
       "      <td>21128</td>\n",
       "      <td>10683</td>\n",
       "    </tr>\n",
       "    <tr>\n",
       "      <th>[-2.0, -1.0)</th>\n",
       "      <td>136060</td>\n",
       "      <td>84169</td>\n",
       "    </tr>\n",
       "    <tr>\n",
       "      <th>[-1.0, 0.0)</th>\n",
       "      <td>342080</td>\n",
       "      <td>271841</td>\n",
       "    </tr>\n",
       "    <tr>\n",
       "      <th>[0.0, 1.0)</th>\n",
       "      <td>340732</td>\n",
       "      <td>369178</td>\n",
       "    </tr>\n",
       "    <tr>\n",
       "      <th>[1.0, 2.0)</th>\n",
       "      <td>136077</td>\n",
       "      <td>208454</td>\n",
       "    </tr>\n",
       "    <tr>\n",
       "      <th>[2.0, 3.0)</th>\n",
       "      <td>21187</td>\n",
       "      <td>49987</td>\n",
       "    </tr>\n",
       "    <tr>\n",
       "      <th>[3.0, 4.0)</th>\n",
       "      <td>1304</td>\n",
       "      <td>4879</td>\n",
       "    </tr>\n",
       "    <tr>\n",
       "      <th>[4.0, 5.0)</th>\n",
       "      <td>29</td>\n",
       "      <td>195</td>\n",
       "    </tr>\n",
       "  </tbody>\n",
       "</table>\n",
       "</div>"
      ],
      "text/plain": [
       "               unweighted                     \n",
       "             x := nominal x := nominal + sigma\n",
       "[-5.0, -4.0)           22                    9\n",
       "[-4.0, -3.0)         1381                  601\n",
       "[-3.0, -2.0)        21128                10683\n",
       "[-2.0, -1.0)       136060                84169\n",
       "[-1.0, 0.0)        342080               271841\n",
       "[0.0, 1.0)         340732               369178\n",
       "[1.0, 2.0)         136077               208454\n",
       "[2.0, 3.0)          21187                49987\n",
       "[3.0, 4.0)           1304                 4879\n",
       "[4.0, 5.0)             29                  195"
      ]
     },
     "execution_count": 20,
     "metadata": {},
     "output_type": "execute_result"
    }
   ],
   "source": [
    "df.unstack(level=0)"
   ]
  },
  {
   "cell_type": "markdown",
   "metadata": {},
   "source": [
    "You can gather many objects (histograms, functions, ntuples) into a `Collection`, partly for convenience of encapsulating all of them in one object."
   ]
  },
  {
   "cell_type": "code",
   "execution_count": 21,
   "metadata": {},
   "outputs": [
    {
     "name": "stdout",
     "output_type": "stream",
     "text": [
      "Collection(\n",
      "  objects={\n",
      "    'one': Histogram(\n",
      "      axis=[\n",
      "        Axis(\n",
      "          binning=\n",
      "            RegularBinning(\n",
      "              num=80,\n",
      "              interval=RealInterval(low=-5.0, high=5.0),\n",
      "              overflow=RealOverflow(loc_underflow=BinLocation.below1, loc_overflow=BinLocation.above1)),\n",
      "          statistics=[\n",
      "            Statistics(\n",
      "              moments=[\n",
      "                Moments(sumwxn=InterpretedInlineInt64Buffer(buffer=[9.99999e+06]), n=0),\n",
      "                Moments(\n",
      "                  sumwxn=InterpretedInlineFloat64Buffer(buffer=[9.99999e+06]),\n",
      "                  n=0,\n",
      "                  weightpower=1),\n",
      "                Moments(\n",
      "                  sumwxn=InterpretedInlineFloat64Buffer(buffer=[9.99999e+06]),\n",
      "                  n=0,\n",
      "                  weightpower=2),\n",
      "                Moments(\n",
      "                  sumwxn=InterpretedInlineFloat64Buffer(buffer=[-4757.38]),\n",
      "                  n=1,\n",
      "                  weightpower=1),\n",
      "                Moments(\n",
      "                  sumwxn=InterpretedInlineFloat64Buffer(buffer=[1.00137e+07]),\n",
      "                  n=2,\n",
      "                  weightpower=1)\n",
      "              ])\n",
      "          ])\n",
      "      ],\n",
      "      counts=\n",
      "        UnweightedCounts(\n",
      "          counts=\n",
      "            InterpretedInlineFloat64Buffer(\n",
      "              buffer=\n",
      "                  [0.00000e+00 5.00000e+00 4.00000e+00 3.00000e+00 2.30000e+01 2.70000e+01\n",
      "                   5.20000e+01 8.90000e+01 1.19000e+02 2.29000e+02 3.52000e+02 5.34000e+02\n",
      "                   8.93000e+02 1.35900e+03 2.06000e+03 3.10200e+03 4.54900e+03 6.76100e+03\n",
      "                   9.70400e+03 1.35290e+04 1.87840e+04 2.58910e+04 3.44050e+04 4.56250e+04\n",
      "                   5.95210e+04 7.61150e+04 9.60650e+04 1.20931e+05 1.47866e+05 1.78400e+05\n",
      "                   2.10801e+05 2.46948e+05 2.83954e+05 3.21000e+05 3.58345e+05 3.93657e+05\n",
      "                   4.26140e+05 4.52826e+05 4.75003e+05 4.89267e+05 4.96794e+05 4.97189e+05\n",
      "                   4.89679e+05 4.74437e+05 4.52604e+05 4.25659e+05 3.93188e+05 3.58827e+05\n",
      "                   3.21773e+05 2.82300e+05 2.46676e+05 2.10850e+05 1.77093e+05 1.47373e+05\n",
      "                   1.20131e+05 9.66930e+04 7.64490e+04 5.97220e+04 4.57940e+04 3.43350e+04\n",
      "                   2.55610e+04 1.85590e+04 1.36960e+04 9.54000e+03 6.68700e+03 4.59400e+03\n",
      "                   3.14200e+03 2.10900e+03 1.30700e+03 8.46000e+02 5.84000e+02 3.36000e+02\n",
      "                   2.26000e+02 1.25000e+02 7.60000e+01 5.10000e+01 2.10000e+01 1.10000e+01\n",
      "                   1.20000e+01 4.00000e+00 3.00000e+00 0.00000e+00]))),\n",
      "    'two': Histogram(\n",
      "      axis=[\n",
      "        Axis(binning=RegularBinning(num=80, interval=RealInterval(low=-5.0, high=5.0)))\n",
      "      ],\n",
      "      counts=\n",
      "        UnweightedCounts(\n",
      "          counts=\n",
      "            InterpretedInlineInt64Buffer(\n",
      "              buffer=\n",
      "                  [     5      4      3     23     27     52     89    119    229    352\n",
      "                      534    893   1359   2060   3102   4549   6761   9704  13529  18784\n",
      "                    25891  34405  45625  59521  76115  96065 120931 147866 178400 210801\n",
      "                   246948 283954 321000 358345 393657 426140 452826 475003 489267 496794\n",
      "                   497189 489679 474437 452604 425659 393188 358827 321773 282300 246676\n",
      "                   210850 177093 147373 120131  96693  76449  59722  45794  34335  25561\n",
      "                    18559  13696   9540   6687   4594   3142   2109   1307    846    584\n",
      "                      336    226    125     76     51     21     11     12      4      3])))\n",
      "  })\n"
     ]
    }
   ],
   "source": [
    "stagg.Collection({\"one\": fromroot, \"two\": stagg_hist}).dump()"
   ]
  },
  {
   "cell_type": "code",
   "execution_count": null,
   "metadata": {},
   "outputs": [],
   "source": []
  }
 ],
 "metadata": {
  "kernelspec": {
   "display_name": "Python 3",
   "language": "python",
   "name": "python3"
  },
  "language_info": {
   "codemirror_mode": {
    "name": "ipython",
    "version": 3
   },
   "file_extension": ".py",
   "mimetype": "text/x-python",
   "name": "python",
   "nbconvert_exporter": "python",
   "pygments_lexer": "ipython3",
   "version": "3.7.2"
  }
 },
 "nbformat": 4,
 "nbformat_minor": 2
}
