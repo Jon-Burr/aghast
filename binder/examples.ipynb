{
 "cells": [
  {
   "cell_type": "markdown",
   "metadata": {},
   "source": [
    "# Stagg examples"
   ]
  },
  {
   "cell_type": "markdown",
   "metadata": {},
   "source": [
    "The main purpose of Stagg is to move **st**atistical **agg**reggations, such as histograms, from one framework to the next. This requires a conversion of high-level domain concepts.\n",
    "\n",
    "Consider the following example: in Numpy, a histogram is simply a 2-tuple of arrays with special meaning—bin contents, then bin edges."
   ]
  },
  {
   "cell_type": "code",
   "execution_count": 1,
   "metadata": {},
   "outputs": [
    {
     "data": {
      "text/plain": [
       "(array([     7,      5,      6,     15,     21,     53,     60,    137,\n",
       "           219,    349,    583,    876,   1353,   2093,   3056,   4670,\n",
       "          6786,   9811,  13368,  19252,  25565,  34301,  46091,  59534,\n",
       "         76198,  96806, 120318, 147464, 177349, 211056, 245701, 283339,\n",
       "        320954, 358960, 392392, 425929, 452418, 474259, 489515, 497578,\n",
       "        497236, 490679, 474950, 453053, 426509, 394145, 357552, 320594,\n",
       "        282968, 246501, 211415, 177334, 147734, 120183,  96589,  76797,\n",
       "         59624,  45734,  34380,  25547,  18888,  13432,   9527,   6559,\n",
       "          4640,   3123,   2109,   1401,    927,    556,    317,    228,\n",
       "           123,     80,     47,     28,     18,     12,      7,      3]),\n",
       " array([-5.   , -4.875, -4.75 , -4.625, -4.5  , -4.375, -4.25 , -4.125,\n",
       "        -4.   , -3.875, -3.75 , -3.625, -3.5  , -3.375, -3.25 , -3.125,\n",
       "        -3.   , -2.875, -2.75 , -2.625, -2.5  , -2.375, -2.25 , -2.125,\n",
       "        -2.   , -1.875, -1.75 , -1.625, -1.5  , -1.375, -1.25 , -1.125,\n",
       "        -1.   , -0.875, -0.75 , -0.625, -0.5  , -0.375, -0.25 , -0.125,\n",
       "         0.   ,  0.125,  0.25 ,  0.375,  0.5  ,  0.625,  0.75 ,  0.875,\n",
       "         1.   ,  1.125,  1.25 ,  1.375,  1.5  ,  1.625,  1.75 ,  1.875,\n",
       "         2.   ,  2.125,  2.25 ,  2.375,  2.5  ,  2.625,  2.75 ,  2.875,\n",
       "         3.   ,  3.125,  3.25 ,  3.375,  3.5  ,  3.625,  3.75 ,  3.875,\n",
       "         4.   ,  4.125,  4.25 ,  4.375,  4.5  ,  4.625,  4.75 ,  4.875,\n",
       "         5.   ]))"
      ]
     },
     "execution_count": 1,
     "metadata": {},
     "output_type": "execute_result"
    }
   ],
   "source": [
    "import numpy\n",
    "\n",
    "numpy_hist = numpy.histogram(numpy.random.normal(0, 1, int(10e6)), bins=80, range=(-5, 5))\n",
    "numpy_hist"
   ]
  },
  {
   "cell_type": "markdown",
   "metadata": {},
   "source": [
    "We convert that into its Stagg equivalent with a connector (two-function module: `tostagg` and `tonumpy`)."
   ]
  },
  {
   "cell_type": "code",
   "execution_count": 2,
   "metadata": {},
   "outputs": [
    {
     "data": {
      "text/plain": [
       "<Histogram at 0x7f62485ee0b8>"
      ]
     },
     "execution_count": 2,
     "metadata": {},
     "output_type": "execute_result"
    }
   ],
   "source": [
    "import stagg.connect.numpy\n",
    "\n",
    "stagg_hist = stagg.connect.numpy.tostagg(numpy_hist)\n",
    "stagg_hist"
   ]
  },
  {
   "cell_type": "markdown",
   "metadata": {},
   "source": [
    "This object is instantiated from a class structure built from simple pieces."
   ]
  },
  {
   "cell_type": "code",
   "execution_count": 3,
   "metadata": {},
   "outputs": [
    {
     "name": "stdout",
     "output_type": "stream",
     "text": [
      "Histogram(\n",
      "  axis=[\n",
      "    Axis(binning=RegularBinning(num=80, interval=RealInterval(low=-5.0, high=5.0)))\n",
      "  ],\n",
      "  counts=\n",
      "    UnweightedCounts(\n",
      "      counts=\n",
      "        InterpretedInlineInt64Buffer(\n",
      "          buffer=\n",
      "              [     7      5      6     15     21     53     60    137    219    349\n",
      "                  583    876   1353   2093   3056   4670   6786   9811  13368  19252\n",
      "                25565  34301  46091  59534  76198  96806 120318 147464 177349 211056\n",
      "               245701 283339 320954 358960 392392 425929 452418 474259 489515 497578\n",
      "               497236 490679 474950 453053 426509 394145 357552 320594 282968 246501\n",
      "               211415 177334 147734 120183  96589  76797  59624  45734  34380  25547\n",
      "                18888  13432   9527   6559   4640   3123   2109   1401    927    556\n",
      "                  317    228    123     80     47     28     18     12      7      3])))\n"
     ]
    }
   ],
   "source": [
    "stagg_hist.dump()"
   ]
  },
  {
   "cell_type": "markdown",
   "metadata": {},
   "source": [
    "Now it can be converted to a ROOT histogram with another connector."
   ]
  },
  {
   "cell_type": "code",
   "execution_count": 4,
   "metadata": {},
   "outputs": [
    {
     "name": "stdout",
     "output_type": "stream",
     "text": [
      "Welcome to JupyROOT 6.14/04\n"
     ]
    },
    {
     "data": {
      "text/plain": [
       "<ROOT.TH1D object (\"root_hist\") at 0x558c704b3100>"
      ]
     },
     "execution_count": 4,
     "metadata": {},
     "output_type": "execute_result"
    }
   ],
   "source": [
    "import stagg.connect.root\n",
    "\n",
    "root_hist = stagg.connect.root.toroot(stagg_hist, \"root_hist\")\n",
    "root_hist"
   ]
  },
  {
   "cell_type": "code",
   "execution_count": 5,
   "metadata": {},
   "outputs": [
    {
     "data": {
      "image/png": "[encoded data removed]",
      "text/plain": [
       "<IPython.core.display.Image object>"
      ]
     },
     "metadata": {},
     "output_type": "display_data"
    }
   ],
   "source": [
    "import ROOT\n",
    "canvas = ROOT.TCanvas()\n",
    "root_hist.Draw()\n",
    "canvas.Draw()"
   ]
  },
  {
   "cell_type": "markdown",
   "metadata": {},
   "source": [
    "And Pandas with yet another connector."
   ]
  },
  {
   "cell_type": "code",
   "execution_count": 6,
   "metadata": {},
   "outputs": [
    {
     "data": {
      "text/html": [
       "<div>\n",
       "<style scoped>\n",
       "    .dataframe tbody tr th:only-of-type {\n",
       "        vertical-align: middle;\n",
       "    }\n",
       "\n",
       "    .dataframe tbody tr th {\n",
       "        vertical-align: top;\n",
       "    }\n",
       "\n",
       "    .dataframe thead th {\n",
       "        text-align: right;\n",
       "    }\n",
       "</style>\n",
       "<table border=\"1\" class=\"dataframe\">\n",
       "  <thead>\n",
       "    <tr style=\"text-align: right;\">\n",
       "      <th></th>\n",
       "      <th>unweighted</th>\n",
       "    </tr>\n",
       "  </thead>\n",
       "  <tbody>\n",
       "    <tr>\n",
       "      <th>[-5.0, -4.875)</th>\n",
       "      <td>7</td>\n",
       "    </tr>\n",
       "    <tr>\n",
       "      <th>[-4.875, -4.75)</th>\n",
       "      <td>5</td>\n",
       "    </tr>\n",
       "    <tr>\n",
       "      <th>[-4.75, -4.625)</th>\n",
       "      <td>6</td>\n",
       "    </tr>\n",
       "    <tr>\n",
       "      <th>[-4.625, -4.5)</th>\n",
       "      <td>15</td>\n",
       "    </tr>\n",
       "    <tr>\n",
       "      <th>[-4.5, -4.375)</th>\n",
       "      <td>21</td>\n",
       "    </tr>\n",
       "    <tr>\n",
       "      <th>[-4.375, -4.25)</th>\n",
       "      <td>53</td>\n",
       "    </tr>\n",
       "    <tr>\n",
       "      <th>[-4.25, -4.125)</th>\n",
       "      <td>60</td>\n",
       "    </tr>\n",
       "    <tr>\n",
       "      <th>[-4.125, -4.0)</th>\n",
       "      <td>137</td>\n",
       "    </tr>\n",
       "    <tr>\n",
       "      <th>[-4.0, -3.875)</th>\n",
       "      <td>219</td>\n",
       "    </tr>\n",
       "    <tr>\n",
       "      <th>[-3.875, -3.75)</th>\n",
       "      <td>349</td>\n",
       "    </tr>\n",
       "    <tr>\n",
       "      <th>[-3.75, -3.625)</th>\n",
       "      <td>583</td>\n",
       "    </tr>\n",
       "    <tr>\n",
       "      <th>[-3.625, -3.5)</th>\n",
       "      <td>876</td>\n",
       "    </tr>\n",
       "    <tr>\n",
       "      <th>[-3.5, -3.375)</th>\n",
       "      <td>1353</td>\n",
       "    </tr>\n",
       "    <tr>\n",
       "      <th>[-3.375, -3.25)</th>\n",
       "      <td>2093</td>\n",
       "    </tr>\n",
       "    <tr>\n",
       "      <th>[-3.25, -3.125)</th>\n",
       "      <td>3056</td>\n",
       "    </tr>\n",
       "    <tr>\n",
       "      <th>[-3.125, -3.0)</th>\n",
       "      <td>4670</td>\n",
       "    </tr>\n",
       "    <tr>\n",
       "      <th>[-3.0, -2.875)</th>\n",
       "      <td>6786</td>\n",
       "    </tr>\n",
       "    <tr>\n",
       "      <th>[-2.875, -2.75)</th>\n",
       "      <td>9811</td>\n",
       "    </tr>\n",
       "    <tr>\n",
       "      <th>[-2.75, -2.625)</th>\n",
       "      <td>13368</td>\n",
       "    </tr>\n",
       "    <tr>\n",
       "      <th>[-2.625, -2.5)</th>\n",
       "      <td>19252</td>\n",
       "    </tr>\n",
       "    <tr>\n",
       "      <th>[-2.5, -2.375)</th>\n",
       "      <td>25565</td>\n",
       "    </tr>\n",
       "    <tr>\n",
       "      <th>[-2.375, -2.25)</th>\n",
       "      <td>34301</td>\n",
       "    </tr>\n",
       "    <tr>\n",
       "      <th>[-2.25, -2.125)</th>\n",
       "      <td>46091</td>\n",
       "    </tr>\n",
       "    <tr>\n",
       "      <th>[-2.125, -2.0)</th>\n",
       "      <td>59534</td>\n",
       "    </tr>\n",
       "    <tr>\n",
       "      <th>[-2.0, -1.875)</th>\n",
       "      <td>76198</td>\n",
       "    </tr>\n",
       "    <tr>\n",
       "      <th>[-1.875, -1.75)</th>\n",
       "      <td>96806</td>\n",
       "    </tr>\n",
       "    <tr>\n",
       "      <th>[-1.75, -1.625)</th>\n",
       "      <td>120318</td>\n",
       "    </tr>\n",
       "    <tr>\n",
       "      <th>[-1.625, -1.5)</th>\n",
       "      <td>147464</td>\n",
       "    </tr>\n",
       "    <tr>\n",
       "      <th>[-1.5, -1.375)</th>\n",
       "      <td>177349</td>\n",
       "    </tr>\n",
       "    <tr>\n",
       "      <th>[-1.375, -1.25)</th>\n",
       "      <td>211056</td>\n",
       "    </tr>\n",
       "    <tr>\n",
       "      <th>...</th>\n",
       "      <td>...</td>\n",
       "    </tr>\n",
       "    <tr>\n",
       "      <th>[1.25, 1.375)</th>\n",
       "      <td>211415</td>\n",
       "    </tr>\n",
       "    <tr>\n",
       "      <th>[1.375, 1.5)</th>\n",
       "      <td>177334</td>\n",
       "    </tr>\n",
       "    <tr>\n",
       "      <th>[1.5, 1.625)</th>\n",
       "      <td>147734</td>\n",
       "    </tr>\n",
       "    <tr>\n",
       "      <th>[1.625, 1.75)</th>\n",
       "      <td>120183</td>\n",
       "    </tr>\n",
       "    <tr>\n",
       "      <th>[1.75, 1.875)</th>\n",
       "      <td>96589</td>\n",
       "    </tr>\n",
       "    <tr>\n",
       "      <th>[1.875, 2.0)</th>\n",
       "      <td>76797</td>\n",
       "    </tr>\n",
       "    <tr>\n",
       "      <th>[2.0, 2.125)</th>\n",
       "      <td>59624</td>\n",
       "    </tr>\n",
       "    <tr>\n",
       "      <th>[2.125, 2.25)</th>\n",
       "      <td>45734</td>\n",
       "    </tr>\n",
       "    <tr>\n",
       "      <th>[2.25, 2.375)</th>\n",
       "      <td>34380</td>\n",
       "    </tr>\n",
       "    <tr>\n",
       "      <th>[2.375, 2.5)</th>\n",
       "      <td>25547</td>\n",
       "    </tr>\n",
       "    <tr>\n",
       "      <th>[2.5, 2.625)</th>\n",
       "      <td>18888</td>\n",
       "    </tr>\n",
       "    <tr>\n",
       "      <th>[2.625, 2.75)</th>\n",
       "      <td>13432</td>\n",
       "    </tr>\n",
       "    <tr>\n",
       "      <th>[2.75, 2.875)</th>\n",
       "      <td>9527</td>\n",
       "    </tr>\n",
       "    <tr>\n",
       "      <th>[2.875, 3.0)</th>\n",
       "      <td>6559</td>\n",
       "    </tr>\n",
       "    <tr>\n",
       "      <th>[3.0, 3.125)</th>\n",
       "      <td>4640</td>\n",
       "    </tr>\n",
       "    <tr>\n",
       "      <th>[3.125, 3.25)</th>\n",
       "      <td>3123</td>\n",
       "    </tr>\n",
       "    <tr>\n",
       "      <th>[3.25, 3.375)</th>\n",
       "      <td>2109</td>\n",
       "    </tr>\n",
       "    <tr>\n",
       "      <th>[3.375, 3.5)</th>\n",
       "      <td>1401</td>\n",
       "    </tr>\n",
       "    <tr>\n",
       "      <th>[3.5, 3.625)</th>\n",
       "      <td>927</td>\n",
       "    </tr>\n",
       "    <tr>\n",
       "      <th>[3.625, 3.75)</th>\n",
       "      <td>556</td>\n",
       "    </tr>\n",
       "    <tr>\n",
       "      <th>[3.75, 3.875)</th>\n",
       "      <td>317</td>\n",
       "    </tr>\n",
       "    <tr>\n",
       "      <th>[3.875, 4.0)</th>\n",
       "      <td>228</td>\n",
       "    </tr>\n",
       "    <tr>\n",
       "      <th>[4.0, 4.125)</th>\n",
       "      <td>123</td>\n",
       "    </tr>\n",
       "    <tr>\n",
       "      <th>[4.125, 4.25)</th>\n",
       "      <td>80</td>\n",
       "    </tr>\n",
       "    <tr>\n",
       "      <th>[4.25, 4.375)</th>\n",
       "      <td>47</td>\n",
       "    </tr>\n",
       "    <tr>\n",
       "      <th>[4.375, 4.5)</th>\n",
       "      <td>28</td>\n",
       "    </tr>\n",
       "    <tr>\n",
       "      <th>[4.5, 4.625)</th>\n",
       "      <td>18</td>\n",
       "    </tr>\n",
       "    <tr>\n",
       "      <th>[4.625, 4.75)</th>\n",
       "      <td>12</td>\n",
       "    </tr>\n",
       "    <tr>\n",
       "      <th>[4.75, 4.875)</th>\n",
       "      <td>7</td>\n",
       "    </tr>\n",
       "    <tr>\n",
       "      <th>[4.875, 5.0)</th>\n",
       "      <td>3</td>\n",
       "    </tr>\n",
       "  </tbody>\n",
       "</table>\n",
       "<p>80 rows × 1 columns</p>\n",
       "</div>"
      ],
      "text/plain": [
       "                 unweighted\n",
       "[-5.0, -4.875)            7\n",
       "[-4.875, -4.75)           5\n",
       "[-4.75, -4.625)           6\n",
       "[-4.625, -4.5)           15\n",
       "[-4.5, -4.375)           21\n",
       "[-4.375, -4.25)          53\n",
       "[-4.25, -4.125)          60\n",
       "[-4.125, -4.0)          137\n",
       "[-4.0, -3.875)          219\n",
       "[-3.875, -3.75)         349\n",
       "[-3.75, -3.625)         583\n",
       "[-3.625, -3.5)          876\n",
       "[-3.5, -3.375)         1353\n",
       "[-3.375, -3.25)        2093\n",
       "[-3.25, -3.125)        3056\n",
       "[-3.125, -3.0)         4670\n",
       "[-3.0, -2.875)         6786\n",
       "[-2.875, -2.75)        9811\n",
       "[-2.75, -2.625)       13368\n",
       "[-2.625, -2.5)        19252\n",
       "[-2.5, -2.375)        25565\n",
       "[-2.375, -2.25)       34301\n",
       "[-2.25, -2.125)       46091\n",
       "[-2.125, -2.0)        59534\n",
       "[-2.0, -1.875)        76198\n",
       "[-1.875, -1.75)       96806\n",
       "[-1.75, -1.625)      120318\n",
       "[-1.625, -1.5)       147464\n",
       "[-1.5, -1.375)       177349\n",
       "[-1.375, -1.25)      211056\n",
       "...                     ...\n",
       "[1.25, 1.375)        211415\n",
       "[1.375, 1.5)         177334\n",
       "[1.5, 1.625)         147734\n",
       "[1.625, 1.75)        120183\n",
       "[1.75, 1.875)         96589\n",
       "[1.875, 2.0)          76797\n",
       "[2.0, 2.125)          59624\n",
       "[2.125, 2.25)         45734\n",
       "[2.25, 2.375)         34380\n",
       "[2.375, 2.5)          25547\n",
       "[2.5, 2.625)          18888\n",
       "[2.625, 2.75)         13432\n",
       "[2.75, 2.875)          9527\n",
       "[2.875, 3.0)           6559\n",
       "[3.0, 3.125)           4640\n",
       "[3.125, 3.25)          3123\n",
       "[3.25, 3.375)          2109\n",
       "[3.375, 3.5)           1401\n",
       "[3.5, 3.625)            927\n",
       "[3.625, 3.75)           556\n",
       "[3.75, 3.875)           317\n",
       "[3.875, 4.0)            228\n",
       "[4.0, 4.125)            123\n",
       "[4.125, 4.25)            80\n",
       "[4.25, 4.375)            47\n",
       "[4.375, 4.5)             28\n",
       "[4.5, 4.625)             18\n",
       "[4.625, 4.75)            12\n",
       "[4.75, 4.875)             7\n",
       "[4.875, 5.0)              3\n",
       "\n",
       "[80 rows x 1 columns]"
      ]
     },
     "execution_count": 6,
     "metadata": {},
     "output_type": "execute_result"
    }
   ],
   "source": [
    "import stagg.connect.pandas\n",
    "\n",
    "pandas_hist = stagg.connect.pandas.topandas(stagg_hist)\n",
    "pandas_hist"
   ]
  },
  {
   "cell_type": "markdown",
   "metadata": {},
   "source": [
    "The `stagg_hist` object is also a [Flatbuffers](http://google.github.io/flatbuffers/) object, which has a [multi-lingual](https://google.github.io/flatbuffers/flatbuffers_support.html), [random-access](https://github.com/mzaks/FlatBuffersSwift/wiki/FlatBuffers-Explained), [small-footprint](http://google.github.io/flatbuffers/md__benchmarks.html) serialization:"
   ]
  },
  {
   "cell_type": "code",
   "execution_count": 7,
   "metadata": {},
   "outputs": [
    {
     "data": {
      "text/plain": [
       "bytearray(b'\\x04\\x00\\x00\\x00\\x90\\xff\\xff\\xff\\x10\\x00\\x00\\x00\\x00\\x01\\n\\x00\\x10\\x00\\x0c\\x00\\x0b\\x00\\x04\\x00\\n\\x00\\x00\\x00`\\x00\\x00\\x00\\x00\\x00\\x00\\x01\\x04\\x00\\x00\\x00\\x01\\x00\\x00\\x00\\x0c\\x00\\x00\\x00\\x08\\x00\\x0c\\x00\\x0b\\x00\\x04\\x00\\x08\\x00\\x00\\x00\\x10\\x00\\x00\\x00\\x00\\x00\\x00\\x02\\x08\\x00(\\x00\\x1c\\x00\\x04\\x00\\x08\\x00\\x00\\x00\\x00\\x00\\x00\\x00\\x00\\x00\\x14\\xc0\\x00\\x00\\x00\\x00\\x00\\x00\\x14@\\x01\\x00\\x00\\x00\\x00\\x00\\x00\\x00P\\x00\\x00\\x00\\x00\\x00\\x00\\x00\\x00\\x00\\x00\\x00\\x08\\x00\\n\\x00\\t\\x00\\x04\\x00\\x08\\x00\\x00\\x00\\x0c\\x00\\x00\\x00\\x00\\x02\\x06\\x00\\x08\\x00\\x04\\x00\\x06\\x00\\x00\\x00\\x04\\x00\\x00\\x00\\x80\\x02\\x00\\x00\\x07\\x00\\x00\\x00\\x00\\x00\\x00\\x00\\x05\\x00\\x00\\x00\\x00\\x00\\x00\\x00\\x06\\x00\\x00\\x00\\x00\\x00\\x00\\x00\\x0f\\x00\\x00\\x00\\x00\\x00\\x00\\x00\\x15\\x00\\x00\\x00\\x00\\x00\\x00\\x005\\x00\\x00\\x00\\x00\\x00\\x00\\x00<\\x00\\x00\\x00\\x00\\x00\\x00\\x00\\x89\\x00\\x00\\x00\\x00\\x00\\x00\\x00\\xdb\\x00\\x00\\x00\\x00\\x00\\x00\\x00]\\x01\\x00\\x00\\x00\\x00\\x00\\x00G\\x02\\x00\\x00\\x00\\x00\\x00\\x00l\\x03\\x00\\x00\\x00\\x00\\x00\\x00I\\x05\\x00\\x00\\x00\\x00\\x00\\x00-\\x08\\x00\\x00\\x00\\x00\\x00\\x00\\xf0\\x0b\\x00\\x00\\x00\\x00\\x00\\x00>\\x12\\x00\\x00\\x00\\x00\\x00\\x00\\x82\\x1a\\x00\\x00\\x00\\x00\\x00\\x00S&\\x00\\x00\\x00\\x00\\x00\\x0084\\x00\\x00\\x00\\x00\\x00\\x004K\\x00\\x00\\x00\\x00\\x00\\x00\\xddc\\x00\\x00\\x00\\x00\\x00\\x00\\xfd\\x85\\x00\\x00\\x00\\x00\\x00\\x00\\x0b\\xb4\\x00\\x00\\x00\\x00\\x00\\x00\\x8e\\xe8\\x00\\x00\\x00\\x00\\x00\\x00\\xa6)\\x01\\x00\\x00\\x00\\x00\\x00&z\\x01\\x00\\x00\\x00\\x00\\x00\\xfe\\xd5\\x01\\x00\\x00\\x00\\x00\\x00\\x08@\\x02\\x00\\x00\\x00\\x00\\x00\\xc5\\xb4\\x02\\x00\\x00\\x00\\x00\\x00p8\\x03\\x00\\x00\\x00\\x00\\x00\\xc5\\xbf\\x03\\x00\\x00\\x00\\x00\\x00\\xcbR\\x04\\x00\\x00\\x00\\x00\\x00\\xba\\xe5\\x04\\x00\\x00\\x00\\x00\\x000z\\x05\\x00\\x00\\x00\\x00\\x00\\xc8\\xfc\\x05\\x00\\x00\\x00\\x00\\x00\\xc9\\x7f\\x06\\x00\\x00\\x00\\x00\\x00B\\xe7\\x06\\x00\\x00\\x00\\x00\\x00\\x93<\\x07\\x00\\x00\\x00\\x00\\x00+x\\x07\\x00\\x00\\x00\\x00\\x00\\xaa\\x97\\x07\\x00\\x00\\x00\\x00\\x00T\\x96\\x07\\x00\\x00\\x00\\x00\\x00\\xb7|\\x07\\x00\\x00\\x00\\x00\\x00F?\\x07\\x00\\x00\\x00\\x00\\x00\\xbd\\xe9\\x06\\x00\\x00\\x00\\x00\\x00\\r\\x82\\x06\\x00\\x00\\x00\\x00\\x00\\xa1\\x03\\x06\\x00\\x00\\x00\\x00\\x00\\xb0t\\x05\\x00\\x00\\x00\\x00\\x00R\\xe4\\x04\\x00\\x00\\x00\\x00\\x00XQ\\x04\\x00\\x00\\x00\\x00\\x00\\xe5\\xc2\\x03\\x00\\x00\\x00\\x00\\x00\\xd79\\x03\\x00\\x00\\x00\\x00\\x00\\xb6\\xb4\\x02\\x00\\x00\\x00\\x00\\x00\\x16A\\x02\\x00\\x00\\x00\\x00\\x00w\\xd5\\x01\\x00\\x00\\x00\\x00\\x00My\\x01\\x00\\x00\\x00\\x00\\x00\\xfd+\\x01\\x00\\x00\\x00\\x00\\x00\\xe8\\xe8\\x00\\x00\\x00\\x00\\x00\\x00\\xa6\\xb2\\x00\\x00\\x00\\x00\\x00\\x00L\\x86\\x00\\x00\\x00\\x00\\x00\\x00\\xcbc\\x00\\x00\\x00\\x00\\x00\\x00\\xc8I\\x00\\x00\\x00\\x00\\x00\\x00x4\\x00\\x00\\x00\\x00\\x00\\x007%\\x00\\x00\\x00\\x00\\x00\\x00\\x9f\\x19\\x00\\x00\\x00\\x00\\x00\\x00 \\x12\\x00\\x00\\x00\\x00\\x00\\x003\\x0c\\x00\\x00\\x00\\x00\\x00\\x00=\\x08\\x00\\x00\\x00\\x00\\x00\\x00y\\x05\\x00\\x00\\x00\\x00\\x00\\x00\\x9f\\x03\\x00\\x00\\x00\\x00\\x00\\x00,\\x02\\x00\\x00\\x00\\x00\\x00\\x00=\\x01\\x00\\x00\\x00\\x00\\x00\\x00\\xe4\\x00\\x00\\x00\\x00\\x00\\x00\\x00{\\x00\\x00\\x00\\x00\\x00\\x00\\x00P\\x00\\x00\\x00\\x00\\x00\\x00\\x00/\\x00\\x00\\x00\\x00\\x00\\x00\\x00\\x1c\\x00\\x00\\x00\\x00\\x00\\x00\\x00\\x12\\x00\\x00\\x00\\x00\\x00\\x00\\x00\\x0c\\x00\\x00\\x00\\x00\\x00\\x00\\x00\\x07\\x00\\x00\\x00\\x00\\x00\\x00\\x00\\x03\\x00\\x00\\x00\\x00\\x00\\x00\\x00')"
      ]
     },
     "execution_count": 7,
     "metadata": {},
     "output_type": "execute_result"
    }
   ],
   "source": [
    "stagg_hist.tobuffer()"
   ]
  },
  {
   "cell_type": "code",
   "execution_count": 8,
   "metadata": {},
   "outputs": [
    {
     "name": "stdout",
     "output_type": "stream",
     "text": [
      "Numpy size:  1288\n",
      "ROOT size:   1962\n",
      "Pandas size: 2984\n",
      "Stagg size:   792\n"
     ]
    }
   ],
   "source": [
    "print(\"Numpy size: \", numpy_hist[0].nbytes + numpy_hist[1].nbytes)\n",
    "\n",
    "tmessage = ROOT.TMessage()\n",
    "tmessage.WriteObject(root_hist)\n",
    "print(\"ROOT size:  \", tmessage.Length())\n",
    "\n",
    "import pickle\n",
    "print(\"Pandas size:\", len(pickle.dumps(pandas_hist)))\n",
    "\n",
    "print(\"Stagg size:  \", len(stagg_hist.tobuffer()))"
   ]
  },
  {
   "cell_type": "markdown",
   "metadata": {},
   "source": [
    "Stagg is generally forseen as a memory format, like [Apache Arrow](https://arrow.apache.org), but for statistical aggregations. Like Arrow, it reduces the need to implement $N(N - 1)/2$ conversion functions among $N$ statistical libraries to just $N$ conversion functions. (See the figure on Arrow's website.)"
   ]
  },
  {
   "cell_type": "markdown",
   "metadata": {},
   "source": [
    "It also intends to be as close to zero-copy as possible. This means that it must make graceful translations among conventions. Different histogramming libraries handle overflow bins in different ways:"
   ]
  },
  {
   "cell_type": "code",
   "execution_count": 9,
   "metadata": {},
   "outputs": [
    {
     "name": "stdout",
     "output_type": "stream",
     "text": [
      "RegularBinning(\n",
      "  num=80,\n",
      "  interval=RealInterval(low=-5.0, high=5.0),\n",
      "  overflow=RealOverflow(loc_underflow=BinLocation.below1, loc_overflow=BinLocation.above1))\n",
      "Bin contents length: 82\n"
     ]
    }
   ],
   "source": [
    "fromroot = stagg.connect.root.tostagg(root_hist)\n",
    "fromroot.axis[0].binning.dump()\n",
    "print(\"Bin contents length:\", len(fromroot.counts.array))"
   ]
  },
  {
   "cell_type": "code",
   "execution_count": 10,
   "metadata": {},
   "outputs": [
    {
     "name": "stdout",
     "output_type": "stream",
     "text": [
      "RegularBinning(num=80, interval=RealInterval(low=-5.0, high=5.0))\n",
      "Bin contents length: 80\n"
     ]
    }
   ],
   "source": [
    "stagg_hist.axis[0].binning.dump()\n",
    "print(\"Bin contents length:\", len(stagg_hist.counts.array))"
   ]
  },
  {
   "cell_type": "markdown",
   "metadata": {},
   "source": [
    "And yet we want to be able to manipulate them as though these differences did not exist."
   ]
  },
  {
   "cell_type": "code",
   "execution_count": 11,
   "metadata": {},
   "outputs": [],
   "source": [
    "sum_hist = fromroot + stagg_hist"
   ]
  },
  {
   "cell_type": "code",
   "execution_count": 12,
   "metadata": {},
   "outputs": [
    {
     "name": "stdout",
     "output_type": "stream",
     "text": [
      "RegularBinning(\n",
      "  num=80,\n",
      "  interval=RealInterval(low=-5.0, high=5.0),\n",
      "  overflow=RealOverflow(loc_underflow=BinLocation.above1, loc_overflow=BinLocation.above2))\n",
      "Bin contents length: 82\n"
     ]
    }
   ],
   "source": [
    "sum_hist.axis[0].binning.dump()\n",
    "print(\"Bin contents length:\", len(sum_hist.counts.array))"
   ]
  },
  {
   "cell_type": "markdown",
   "metadata": {},
   "source": [
    "The binning structure keeps track of the existence of underflow/overflow bins and where they are located.\n",
    "\n",
    "   * ROOT's convention is to put underflow before the normal bins (`below1`) and overflow after (`above1`), so that the normal bins are effectively 1-indexed.\n",
    "   * Boost.Histogram's convention is to put overflow after the normal bins (`above1`) and underflow after that (`above2`), so that underflow is accessed via `myhist[-1]` in Numpy.\n",
    "   * Numpy histograms don't have underflow/overflow bins.\n",
    "   * Pandas could have `Intervals` that extend to infinity.\n",
    "\n",
    "Stagg accepts all of these, so that it doesn't have to manipulate the bin contents buffer it receives, but knows how to deal with them if it has to combine histograms that follow different conventions."
   ]
  },
  {
   "cell_type": "markdown",
   "metadata": {},
   "source": [
    "All the different axis types have an equivalent in Stagg (and not all are single-dimensional)."
   ]
  },
  {
   "cell_type": "code",
   "execution_count": 20,
   "metadata": {},
   "outputs": [
    {
     "name": "stdout",
     "output_type": "stream",
     "text": [
      "IntegerBinning(min=5, max=10)\n",
      "RegularBinning(num=100, interval=RealInterval(low=-5.0, high=5.0))\n",
      "HexagonalBinning(qmin=0, qmax=100, rmin=0, rmax=100, coordinates=HexagonalBinning.cube_xy)\n",
      "EdgesBinning(edges=[0.01 0.05 0.1 0.5 1 5 10 50 100])\n",
      "IrregularBinning(\n",
      "  intervals=[\n",
      "    RealInterval(low=0.0, high=5.0),\n",
      "    RealInterval(low=10.0, high=100.0),\n",
      "    RealInterval(low=-10.0, high=10.0)\n",
      "  ],\n",
      "  overlapping_fill=IrregularBinning.all)\n",
      "CategoryBinning(categories=['one', 'two', 'three'])\n",
      "SparseRegularBinning(bins=[5 3 -2 8 -100], bin_width=10.0)\n",
      "FractionBinning(error_method=FractionBinning.clopper_pearson)\n",
      "PredicateBinning(predicates=['signal region', 'control region'])\n",
      "VariationBinning(\n",
      "  variations=[\n",
      "    Variation(assignments=[\n",
      "        Assignment(identifier='x', expression='nominal')\n",
      "      ]),\n",
      "    Variation(\n",
      "      assignments=[\n",
      "        Assignment(identifier='x', expression='nominal + sigma')\n",
      "      ]),\n",
      "    Variation(\n",
      "      assignments=[\n",
      "        Assignment(identifier='x', expression='nominal - sigma')\n",
      "      ])\n",
      "  ])\n"
     ]
    }
   ],
   "source": [
    "import stagg\n",
    "stagg.IntegerBinning(5, 10).dump()\n",
    "stagg.RegularBinning(100, stagg.RealInterval(-5, 5)).dump()\n",
    "stagg.HexagonalBinning(0, 100, 0, 100, stagg.HexagonalBinning.cube_xy).dump()\n",
    "stagg.EdgesBinning([0.01, 0.05, 0.1, 0.5, 1, 5, 10, 50, 100]).dump()\n",
    "stagg.IrregularBinning([stagg.RealInterval(0, 5),\n",
    "                        stagg.RealInterval(10, 100),\n",
    "                        stagg.RealInterval(-10, 10)],\n",
    "                       overlapping_fill=stagg.IrregularBinning.all).dump()\n",
    "stagg.CategoryBinning([\"one\", \"two\", \"three\"]).dump()\n",
    "stagg.SparseRegularBinning([5, 3, -2, 8, -100], 10).dump()\n",
    "stagg.FractionBinning(error_method=stagg.FractionBinning.clopper_pearson).dump()\n",
    "stagg.PredicateBinning([\"signal region\", \"control region\"]).dump()\n",
    "stagg.VariationBinning([stagg.Variation([stagg.Assignment(\"x\", \"nominal\")]),\n",
    "                        stagg.Variation([stagg.Assignment(\"x\", \"nominal + sigma\")]),\n",
    "                        stagg.Variation([stagg.Assignment(\"x\", \"nominal - sigma\")])]).dump()"
   ]
  },
  {
   "cell_type": "code",
   "execution_count": null,
   "metadata": {},
   "outputs": [],
   "source": []
  }
 ],
 "metadata": {
  "kernelspec": {
   "display_name": "Python 3",
   "language": "python",
   "name": "python3"
  },
  "language_info": {
   "codemirror_mode": {
    "name": "ipython",
    "version": 3
   },
   "file_extension": ".py",
   "mimetype": "text/x-python",
   "name": "python",
   "nbconvert_exporter": "python",
   "pygments_lexer": "ipython3",
   "version": "3.7.2"
  }
 },
 "nbformat": 4,
 "nbformat_minor": 2
}
